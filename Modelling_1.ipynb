{
  "nbformat": 4,
  "nbformat_minor": 0,
  "metadata": {
    "colab": {
      "name": "Modelling_1.ipynb",
      "provenance": [],
      "mount_file_id": "1iUlUczCogR8WiaNdC5b0sSu8hVvudF-5",
      "authorship_tag": "ABX9TyMvoeY8fn8MHF2IuIWPjUfT",
      "include_colab_link": true
    },
    "kernelspec": {
      "name": "python3",
      "display_name": "Python 3"
    },
    "language_info": {
      "name": "python"
    }
  },
  "cells": [
    {
      "cell_type": "markdown",
      "metadata": {
        "id": "view-in-github",
        "colab_type": "text"
      },
      "source": [
        "<a href=\"https://colab.research.google.com/github/sanjogmish/Ted-Talk-Views-Prediction/blob/main/Modelling_1.ipynb\" target=\"_parent\"><img src=\"https://colab.research.google.com/assets/colab-badge.svg\" alt=\"Open In Colab\"/></a>"
      ]
    },
    {
      "cell_type": "code",
      "metadata": {
        "id": "ceTSN9ROP_lC"
      },
      "source": [
        "import pandas as pd\n",
        "import numpy as np\n",
        "from sklearn.model_selection import train_test_split\n",
        "from sklearn.preprocessing import MinMaxScaler\n",
        "from sklearn.preprocessing import StandardScaler\n",
        "\n",
        "from sklearn.linear_model import LinearRegression\n",
        "from sklearn.metrics import r2_score\n",
        "from sklearn.model_selection import GridSearchCV,cross_validate,RandomizedSearchCV\n",
        "from sklearn.linear_model import Ridge\n",
        "from sklearn.linear_model import Lasso\n",
        "from sklearn.linear_model import ElasticNet\n",
        "from sklearn.preprocessing import OneHotEncoder,OrdinalEncoder,LabelEncoder"
      ],
      "execution_count": 175,
      "outputs": []
    },
    {
      "cell_type": "code",
      "metadata": {
        "colab": {
          "base_uri": "https://localhost:8080/"
        },
        "id": "15Cmt1G4jVxt",
        "outputId": "85bea678-3226-4bdc-e4b6-9cace2d487c5"
      },
      "source": [
        "!pip install category_encoders \n",
        "import category_encoders as ce"
      ],
      "execution_count": 131,
      "outputs": [
        {
          "output_type": "stream",
          "name": "stdout",
          "text": [
            "Requirement already satisfied: category_encoders in /usr/local/lib/python3.7/dist-packages (2.3.0)\n",
            "Requirement already satisfied: patsy>=0.5.1 in /usr/local/lib/python3.7/dist-packages (from category_encoders) (0.5.2)\n",
            "Requirement already satisfied: scipy>=1.0.0 in /usr/local/lib/python3.7/dist-packages (from category_encoders) (1.4.1)\n",
            "Requirement already satisfied: statsmodels>=0.9.0 in /usr/local/lib/python3.7/dist-packages (from category_encoders) (0.10.2)\n",
            "Requirement already satisfied: numpy>=1.14.0 in /usr/local/lib/python3.7/dist-packages (from category_encoders) (1.19.5)\n",
            "Requirement already satisfied: pandas>=0.21.1 in /usr/local/lib/python3.7/dist-packages (from category_encoders) (1.1.5)\n",
            "Requirement already satisfied: scikit-learn>=0.20.0 in /usr/local/lib/python3.7/dist-packages (from category_encoders) (1.0.1)\n",
            "Requirement already satisfied: pytz>=2017.2 in /usr/local/lib/python3.7/dist-packages (from pandas>=0.21.1->category_encoders) (2018.9)\n",
            "Requirement already satisfied: python-dateutil>=2.7.3 in /usr/local/lib/python3.7/dist-packages (from pandas>=0.21.1->category_encoders) (2.8.2)\n",
            "Requirement already satisfied: six in /usr/local/lib/python3.7/dist-packages (from patsy>=0.5.1->category_encoders) (1.15.0)\n",
            "Requirement already satisfied: threadpoolctl>=2.0.0 in /usr/local/lib/python3.7/dist-packages (from scikit-learn>=0.20.0->category_encoders) (3.0.0)\n",
            "Requirement already satisfied: joblib>=0.11 in /usr/local/lib/python3.7/dist-packages (from scikit-learn>=0.20.0->category_encoders) (1.1.0)\n"
          ]
        },
        {
          "output_type": "stream",
          "name": "stderr",
          "text": [
            "/usr/local/lib/python3.7/dist-packages/statsmodels/tools/_testing.py:19: FutureWarning: pandas.util.testing is deprecated. Use the functions in the public API at pandas.testing instead.\n",
            "  import pandas.util.testing as tm\n"
          ]
        }
      ]
    },
    {
      "cell_type": "code",
      "metadata": {
        "id": "INkhv-QTPmSF"
      },
      "source": [
        "df = pd.read_csv('/content/drive/MyDrive/Capstone 3 Regression/ted_new.csv')"
      ],
      "execution_count": 132,
      "outputs": []
    },
    {
      "cell_type": "code",
      "metadata": {
        "colab": {
          "base_uri": "https://localhost:8080/",
          "height": 1000
        },
        "id": "Sfyf4FwjP90v",
        "outputId": "4775305e-0f32-4606-d2bb-fd456d6d7def"
      },
      "source": [
        "df.head(10)"
      ],
      "execution_count": 133,
      "outputs": [
        {
          "output_type": "execute_result",
          "data": {
            "text/html": [
              "<div>\n",
              "<style scoped>\n",
              "    .dataframe tbody tr th:only-of-type {\n",
              "        vertical-align: middle;\n",
              "    }\n",
              "\n",
              "    .dataframe tbody tr th {\n",
              "        vertical-align: top;\n",
              "    }\n",
              "\n",
              "    .dataframe thead th {\n",
              "        text-align: right;\n",
              "    }\n",
              "</style>\n",
              "<table border=\"1\" class=\"dataframe\">\n",
              "  <thead>\n",
              "    <tr style=\"text-align: right;\">\n",
              "      <th></th>\n",
              "      <th>Unnamed: 0</th>\n",
              "      <th>talk_id</th>\n",
              "      <th>title</th>\n",
              "      <th>speaker_1</th>\n",
              "      <th>all_speakers</th>\n",
              "      <th>about_speakers</th>\n",
              "      <th>views</th>\n",
              "      <th>recorded_date</th>\n",
              "      <th>published_date</th>\n",
              "      <th>event</th>\n",
              "      <th>native_lang</th>\n",
              "      <th>available_lang</th>\n",
              "      <th>comments</th>\n",
              "      <th>duration</th>\n",
              "      <th>topics</th>\n",
              "      <th>related_talks</th>\n",
              "      <th>url</th>\n",
              "      <th>description</th>\n",
              "      <th>transcript</th>\n",
              "      <th>occupation</th>\n",
              "      <th>no_of_lang</th>\n",
              "      <th>cleaned_description</th>\n",
              "      <th>release_day</th>\n",
              "      <th>release_month</th>\n",
              "      <th>release_year</th>\n",
              "      <th>cleaned_transcription</th>\n",
              "      <th>talk_category</th>\n",
              "    </tr>\n",
              "  </thead>\n",
              "  <tbody>\n",
              "    <tr>\n",
              "      <th>0</th>\n",
              "      <td>0</td>\n",
              "      <td>1</td>\n",
              "      <td>Averting the climate crisis</td>\n",
              "      <td>Al Gore</td>\n",
              "      <td>{0: 'Al Gore'}</td>\n",
              "      <td>{0: 'Nobel Laureate Al Gore focused the world’...</td>\n",
              "      <td>3523392</td>\n",
              "      <td>2006-02-25</td>\n",
              "      <td>2006-06-27</td>\n",
              "      <td>TED2006</td>\n",
              "      <td>en</td>\n",
              "      <td>['ar', 'bg', 'cs', 'de', 'el', 'en', 'es', 'fa...</td>\n",
              "      <td>272.0</td>\n",
              "      <td>16.283333</td>\n",
              "      <td>['alternative energy', 'cars', 'climate change...</td>\n",
              "      <td>{243: 'New thinking on the climate crisis', 54...</td>\n",
              "      <td>https://www.ted.com/talks/al_gore_averting_the...</td>\n",
              "      <td>With the same humor and humanity he exuded in ...</td>\n",
              "      <td>Thank you so much, Chris. And it's truly a gre...</td>\n",
              "      <td>climate advocate</td>\n",
              "      <td>43</td>\n",
              "      <td>humor humanity exude An Inconvenient Truth Al ...</td>\n",
              "      <td>Tuesday</td>\n",
              "      <td>June</td>\n",
              "      <td>2006</td>\n",
              "      <td>thank Chris truly great honor opportunity come...</td>\n",
              "      <td>Culture and society</td>\n",
              "    </tr>\n",
              "    <tr>\n",
              "      <th>1</th>\n",
              "      <td>1</td>\n",
              "      <td>92</td>\n",
              "      <td>The best stats you've ever seen</td>\n",
              "      <td>Hans Rosling</td>\n",
              "      <td>{0: 'Hans Rosling'}</td>\n",
              "      <td>{0: 'In Hans Rosling’s hands, data sings. Glob...</td>\n",
              "      <td>14501685</td>\n",
              "      <td>2006-02-22</td>\n",
              "      <td>2006-06-27</td>\n",
              "      <td>TED2006</td>\n",
              "      <td>en</td>\n",
              "      <td>['ar', 'az', 'bg', 'bn', 'bs', 'cs', 'da', 'de...</td>\n",
              "      <td>628.0</td>\n",
              "      <td>19.833333</td>\n",
              "      <td>['Africa', 'Asia', 'Google', 'demo', 'economic...</td>\n",
              "      <td>{2056: \"Own your body's data\", 2296: 'A visual...</td>\n",
              "      <td>https://www.ted.com/talks/hans_rosling_the_bes...</td>\n",
              "      <td>You've never seen data presented like this. Wi...</td>\n",
              "      <td>About 10 years ago, I took on the task to teac...</td>\n",
              "      <td>global health expert; data visionary</td>\n",
              "      <td>49</td>\n",
              "      <td>datum present like drama urgency sportscaster ...</td>\n",
              "      <td>Tuesday</td>\n",
              "      <td>June</td>\n",
              "      <td>2006</td>\n",
              "      <td>year ago task teach global development swedish...</td>\n",
              "      <td>International topics</td>\n",
              "    </tr>\n",
              "    <tr>\n",
              "      <th>2</th>\n",
              "      <td>2</td>\n",
              "      <td>7</td>\n",
              "      <td>Simplicity sells</td>\n",
              "      <td>David Pogue</td>\n",
              "      <td>{0: 'David Pogue'}</td>\n",
              "      <td>{0: 'David Pogue is the personal technology co...</td>\n",
              "      <td>1920832</td>\n",
              "      <td>2006-02-24</td>\n",
              "      <td>2006-06-27</td>\n",
              "      <td>TED2006</td>\n",
              "      <td>en</td>\n",
              "      <td>['ar', 'bg', 'de', 'el', 'en', 'es', 'fa', 'fr...</td>\n",
              "      <td>124.0</td>\n",
              "      <td>21.433333</td>\n",
              "      <td>['computers', 'entertainment', 'interface desi...</td>\n",
              "      <td>{1725: '10 top time-saving tech tips', 2274: '...</td>\n",
              "      <td>https://www.ted.com/talks/david_pogue_simplici...</td>\n",
              "      <td>New York Times columnist David Pogue takes aim...</td>\n",
              "      <td>(Music: \"The Sound of Silence,\" Simon &amp; Garfun...</td>\n",
              "      <td>technology columnist</td>\n",
              "      <td>26</td>\n",
              "      <td>New York Times columnist David Pogue aim techn...</td>\n",
              "      <td>Tuesday</td>\n",
              "      <td>June</td>\n",
              "      <td>2006</td>\n",
              "      <td>music sound silence Simon Garfunkel hello voic...</td>\n",
              "      <td>Culture and society</td>\n",
              "    </tr>\n",
              "    <tr>\n",
              "      <th>3</th>\n",
              "      <td>3</td>\n",
              "      <td>53</td>\n",
              "      <td>Greening the ghetto</td>\n",
              "      <td>Majora Carter</td>\n",
              "      <td>{0: 'Majora Carter'}</td>\n",
              "      <td>{0: 'Majora Carter redefined the field of envi...</td>\n",
              "      <td>2664069</td>\n",
              "      <td>2006-02-26</td>\n",
              "      <td>2006-06-27</td>\n",
              "      <td>TED2006</td>\n",
              "      <td>en</td>\n",
              "      <td>['ar', 'bg', 'bn', 'ca', 'cs', 'de', 'en', 'es...</td>\n",
              "      <td>219.0</td>\n",
              "      <td>18.600000</td>\n",
              "      <td>['MacArthur grant', 'activism', 'business', 'c...</td>\n",
              "      <td>{1041: '3 stories of local eco-entrepreneurshi...</td>\n",
              "      <td>https://www.ted.com/talks/majora_carter_greeni...</td>\n",
              "      <td>In an emotionally charged talk, MacArthur-winn...</td>\n",
              "      <td>If you're here today — and I'm very happy that...</td>\n",
              "      <td>activist for environmental justice</td>\n",
              "      <td>35</td>\n",
              "      <td>emotionally charge talk MacArthur win activist...</td>\n",
              "      <td>Tuesday</td>\n",
              "      <td>June</td>\n",
              "      <td>2006</td>\n",
              "      <td>today happy hear sustainable development save ...</td>\n",
              "      <td>Climate change</td>\n",
              "    </tr>\n",
              "    <tr>\n",
              "      <th>4</th>\n",
              "      <td>4</td>\n",
              "      <td>66</td>\n",
              "      <td>Do schools kill creativity?</td>\n",
              "      <td>Sir Ken Robinson</td>\n",
              "      <td>{0: 'Sir Ken Robinson'}</td>\n",
              "      <td>{0: \"Creativity expert Sir Ken Robinson challe...</td>\n",
              "      <td>65051954</td>\n",
              "      <td>2006-02-25</td>\n",
              "      <td>2006-06-27</td>\n",
              "      <td>TED2006</td>\n",
              "      <td>en</td>\n",
              "      <td>['af', 'ar', 'az', 'be', 'bg', 'bn', 'ca', 'cs...</td>\n",
              "      <td>4931.0</td>\n",
              "      <td>19.400000</td>\n",
              "      <td>['children', 'creativity', 'culture', 'dance',...</td>\n",
              "      <td>{865: 'Bring on the learning revolution!', 173...</td>\n",
              "      <td>https://www.ted.com/talks/sir_ken_robinson_do_...</td>\n",
              "      <td>Sir Ken Robinson makes an entertaining and pro...</td>\n",
              "      <td>Good morning. How are you? (Audience) Good. It...</td>\n",
              "      <td>author</td>\n",
              "      <td>62</td>\n",
              "      <td>Sir Ken Robinson entertaining profoundly case ...</td>\n",
              "      <td>Tuesday</td>\n",
              "      <td>June</td>\n",
              "      <td>2006</td>\n",
              "      <td>good morning audience good great blow away thi...</td>\n",
              "      <td>Finance and economics</td>\n",
              "    </tr>\n",
              "    <tr>\n",
              "      <th>5</th>\n",
              "      <td>5</td>\n",
              "      <td>49</td>\n",
              "      <td>Behind the design of Seattle's library</td>\n",
              "      <td>Joshua Prince-Ramus</td>\n",
              "      <td>{0: 'Joshua Prince-Ramus'}</td>\n",
              "      <td>{0: 'Joshua Prince-Ramus is best known as arch...</td>\n",
              "      <td>1208138</td>\n",
              "      <td>2006-02-23</td>\n",
              "      <td>2006-07-10</td>\n",
              "      <td>TED2006</td>\n",
              "      <td>en</td>\n",
              "      <td>['ar', 'bg', 'en', 'es', 'fr', 'he', 'it', 'ja...</td>\n",
              "      <td>48.0</td>\n",
              "      <td>19.966667</td>\n",
              "      <td>['architecture', 'collaboration', 'culture', '...</td>\n",
              "      <td>{750: 'Building a theater that remakes itself'...</td>\n",
              "      <td>https://www.ted.com/talks/joshua_prince_ramus_...</td>\n",
              "      <td>Architect Joshua Prince-Ramus takes the audien...</td>\n",
              "      <td>I'm going to present three projects in rapid f...</td>\n",
              "      <td>architect</td>\n",
              "      <td>19</td>\n",
              "      <td>Architect Joshua Prince Ramus audience dazzle ...</td>\n",
              "      <td>Monday</td>\n",
              "      <td>July</td>\n",
              "      <td>2006</td>\n",
              "      <td>present project rapid fire time want reinforce...</td>\n",
              "      <td>Climate change</td>\n",
              "    </tr>\n",
              "    <tr>\n",
              "      <th>6</th>\n",
              "      <td>6</td>\n",
              "      <td>86</td>\n",
              "      <td>Letting go of God</td>\n",
              "      <td>Julia Sweeney</td>\n",
              "      <td>{0: 'Julia Sweeney'}</td>\n",
              "      <td>{0: 'Julia Sweeney creates comedic works that ...</td>\n",
              "      <td>4636596</td>\n",
              "      <td>2006-02-24</td>\n",
              "      <td>2006-07-10</td>\n",
              "      <td>TED2006</td>\n",
              "      <td>en</td>\n",
              "      <td>['ar', 'bg', 'cs', 'de', 'el', 'en', 'es', 'fa...</td>\n",
              "      <td>980.0</td>\n",
              "      <td>16.533333</td>\n",
              "      <td>['Christianity', 'God', 'atheism', 'comedy', '...</td>\n",
              "      <td>{22: 'Why people believe weird things', 94: \"L...</td>\n",
              "      <td>https://www.ted.com/talks/julia_sweeney_lettin...</td>\n",
              "      <td>When two young Mormon missionaries knock on Ju...</td>\n",
              "      <td>On September 10, the morning of my seventh bir...</td>\n",
              "      <td>actor</td>\n",
              "      <td>31</td>\n",
              "      <td>young Mormon missionary knock Julia Sweeney do...</td>\n",
              "      <td>Monday</td>\n",
              "      <td>July</td>\n",
              "      <td>2006</td>\n",
              "      <td>September morning seventh birthday come downst...</td>\n",
              "      <td>Culture and society</td>\n",
              "    </tr>\n",
              "    <tr>\n",
              "      <th>7</th>\n",
              "      <td>7</td>\n",
              "      <td>94</td>\n",
              "      <td>Let's teach religion -- all religion -- in sch...</td>\n",
              "      <td>Dan Dennett</td>\n",
              "      <td>{0: 'Dan Dennett'}</td>\n",
              "      <td>{0: 'Dan Dennett thinks that human consciousne...</td>\n",
              "      <td>3781244</td>\n",
              "      <td>2006-02-02</td>\n",
              "      <td>2006-07-18</td>\n",
              "      <td>TED2006</td>\n",
              "      <td>en</td>\n",
              "      <td>['ar', 'bg', 'cs', 'de', 'el', 'en', 'es', 'fa...</td>\n",
              "      <td>919.0</td>\n",
              "      <td>24.750000</td>\n",
              "      <td>['God', 'atheism', 'brain', 'cognitive science...</td>\n",
              "      <td>{71: 'A life of purpose', 2011: 'Is religion g...</td>\n",
              "      <td>https://www.ted.com/talks/dan_dennett_let_s_te...</td>\n",
              "      <td>Philosopher Dan Dennett calls for religion -- ...</td>\n",
              "      <td>It's wonderful to be back. I love this wonderf...</td>\n",
              "      <td>philosopher</td>\n",
              "      <td>33</td>\n",
              "      <td>Philosopher Dan Dennett religion religion teac...</td>\n",
              "      <td>Tuesday</td>\n",
              "      <td>July</td>\n",
              "      <td>2006</td>\n",
              "      <td>wonderful love wonderful gathering wonder eart...</td>\n",
              "      <td>Culture and society</td>\n",
              "    </tr>\n",
              "    <tr>\n",
              "      <th>8</th>\n",
              "      <td>8</td>\n",
              "      <td>71</td>\n",
              "      <td>A life of purpose</td>\n",
              "      <td>Rick Warren</td>\n",
              "      <td>{0: 'Rick Warren'}</td>\n",
              "      <td>{0: 'Pastor Rick Warren is the author of &lt;em&gt;T...</td>\n",
              "      <td>3998282</td>\n",
              "      <td>2006-02-25</td>\n",
              "      <td>2006-07-18</td>\n",
              "      <td>TED2006</td>\n",
              "      <td>en</td>\n",
              "      <td>['ar', 'bg', 'cs', 'de', 'el', 'en', 'es', 'fa...</td>\n",
              "      <td>930.0</td>\n",
              "      <td>21.033333</td>\n",
              "      <td>['Christianity', 'God', 'culture', 'happiness'...</td>\n",
              "      <td>{94: \"Let's teach religion -- all religion -- ...</td>\n",
              "      <td>https://www.ted.com/talks/rick_warren_a_life_o...</td>\n",
              "      <td>Pastor Rick Warren, author of \"The Purpose-Dri...</td>\n",
              "      <td>I'm often asked, \"What surprised you about the...</td>\n",
              "      <td>pastor</td>\n",
              "      <td>31</td>\n",
              "      <td>Pastor Rick Warren author purpose drive Life r...</td>\n",
              "      <td>Tuesday</td>\n",
              "      <td>July</td>\n",
              "      <td>2006</td>\n",
              "      <td>ask surprise book write imagine wildest dream ...</td>\n",
              "      <td>Culture and society</td>\n",
              "    </tr>\n",
              "    <tr>\n",
              "      <th>9</th>\n",
              "      <td>9</td>\n",
              "      <td>55</td>\n",
              "      <td>My wish: A global day of film</td>\n",
              "      <td>Jehane Noujaim</td>\n",
              "      <td>{0: 'Jehane Noujaim'}</td>\n",
              "      <td>{0: 'TED Prize winner Jehane Noujaim is a guts...</td>\n",
              "      <td>460994</td>\n",
              "      <td>2006-02-26</td>\n",
              "      <td>2006-07-25</td>\n",
              "      <td>TED2006</td>\n",
              "      <td>en</td>\n",
              "      <td>['ar', 'bg', 'cs', 'en', 'es', 'fa', 'fr', 'he...</td>\n",
              "      <td>59.0</td>\n",
              "      <td>25.633333</td>\n",
              "      <td>['TED Prize', 'culture', 'entertainment', 'fil...</td>\n",
              "      <td>{2228: 'How virtual reality can create the ult...</td>\n",
              "      <td>https://www.ted.com/talks/jehane_noujaim_my_wi...</td>\n",
              "      <td>Jehane Noujaim unveils her 2006 TED Prize wish...</td>\n",
              "      <td>I can't help but this wish: to think about whe...</td>\n",
              "      <td>filmmaker</td>\n",
              "      <td>20</td>\n",
              "      <td>Jehane Noujaim unveil TED Prize wish bring wor...</td>\n",
              "      <td>Tuesday</td>\n",
              "      <td>July</td>\n",
              "      <td>2006</td>\n",
              "      <td>help wish think little kid friend ask genie wi...</td>\n",
              "      <td>Social issues</td>\n",
              "    </tr>\n",
              "  </tbody>\n",
              "</table>\n",
              "</div>"
            ],
            "text/plain": [
              "   Unnamed: 0  ...          talk_category\n",
              "0           0  ...    Culture and society\n",
              "1           1  ...   International topics\n",
              "2           2  ...    Culture and society\n",
              "3           3  ...         Climate change\n",
              "4           4  ...  Finance and economics\n",
              "5           5  ...         Climate change\n",
              "6           6  ...    Culture and society\n",
              "7           7  ...    Culture and society\n",
              "8           8  ...    Culture and society\n",
              "9           9  ...          Social issues\n",
              "\n",
              "[10 rows x 27 columns]"
            ]
          },
          "metadata": {},
          "execution_count": 133
        }
      ]
    },
    {
      "cell_type": "code",
      "metadata": {
        "id": "PFMorBA5QJtQ"
      },
      "source": [
        "df.drop(['Unnamed: 0','talk_id','title','speaker_1','all_speakers','about_speakers','recorded_date','published_date','event','native_lang','available_lang','topics',\n",
        "          'related_talks','url','description','transcript','occupation','cleaned_description','release_day','release_month','release_year','cleaned_transcription'],axis=1,inplace=True)"
      ],
      "execution_count": 134,
      "outputs": []
    },
    {
      "cell_type": "code",
      "metadata": {
        "colab": {
          "base_uri": "https://localhost:8080/",
          "height": 206
        },
        "id": "WPin8xunR-Kh",
        "outputId": "f88a4332-b9d8-4618-d101-50c7b590637d"
      },
      "source": [
        "df.head()"
      ],
      "execution_count": 135,
      "outputs": [
        {
          "output_type": "execute_result",
          "data": {
            "text/html": [
              "<div>\n",
              "<style scoped>\n",
              "    .dataframe tbody tr th:only-of-type {\n",
              "        vertical-align: middle;\n",
              "    }\n",
              "\n",
              "    .dataframe tbody tr th {\n",
              "        vertical-align: top;\n",
              "    }\n",
              "\n",
              "    .dataframe thead th {\n",
              "        text-align: right;\n",
              "    }\n",
              "</style>\n",
              "<table border=\"1\" class=\"dataframe\">\n",
              "  <thead>\n",
              "    <tr style=\"text-align: right;\">\n",
              "      <th></th>\n",
              "      <th>views</th>\n",
              "      <th>comments</th>\n",
              "      <th>duration</th>\n",
              "      <th>no_of_lang</th>\n",
              "      <th>talk_category</th>\n",
              "    </tr>\n",
              "  </thead>\n",
              "  <tbody>\n",
              "    <tr>\n",
              "      <th>0</th>\n",
              "      <td>3523392</td>\n",
              "      <td>272.0</td>\n",
              "      <td>16.283333</td>\n",
              "      <td>43</td>\n",
              "      <td>Culture and society</td>\n",
              "    </tr>\n",
              "    <tr>\n",
              "      <th>1</th>\n",
              "      <td>14501685</td>\n",
              "      <td>628.0</td>\n",
              "      <td>19.833333</td>\n",
              "      <td>49</td>\n",
              "      <td>International topics</td>\n",
              "    </tr>\n",
              "    <tr>\n",
              "      <th>2</th>\n",
              "      <td>1920832</td>\n",
              "      <td>124.0</td>\n",
              "      <td>21.433333</td>\n",
              "      <td>26</td>\n",
              "      <td>Culture and society</td>\n",
              "    </tr>\n",
              "    <tr>\n",
              "      <th>3</th>\n",
              "      <td>2664069</td>\n",
              "      <td>219.0</td>\n",
              "      <td>18.600000</td>\n",
              "      <td>35</td>\n",
              "      <td>Climate change</td>\n",
              "    </tr>\n",
              "    <tr>\n",
              "      <th>4</th>\n",
              "      <td>65051954</td>\n",
              "      <td>4931.0</td>\n",
              "      <td>19.400000</td>\n",
              "      <td>62</td>\n",
              "      <td>Finance and economics</td>\n",
              "    </tr>\n",
              "  </tbody>\n",
              "</table>\n",
              "</div>"
            ],
            "text/plain": [
              "      views  comments   duration  no_of_lang          talk_category\n",
              "0   3523392     272.0  16.283333          43    Culture and society\n",
              "1  14501685     628.0  19.833333          49   International topics\n",
              "2   1920832     124.0  21.433333          26    Culture and society\n",
              "3   2664069     219.0  18.600000          35         Climate change\n",
              "4  65051954    4931.0  19.400000          62  Finance and economics"
            ]
          },
          "metadata": {},
          "execution_count": 135
        }
      ]
    },
    {
      "cell_type": "code",
      "metadata": {
        "colab": {
          "base_uri": "https://localhost:8080/",
          "height": 300
        },
        "id": "d6J3PAADSPJG",
        "outputId": "37320577-9fe2-4e20-ff4a-d6b95eba8b00"
      },
      "source": [
        "df.describe()"
      ],
      "execution_count": 136,
      "outputs": [
        {
          "output_type": "execute_result",
          "data": {
            "text/html": [
              "<div>\n",
              "<style scoped>\n",
              "    .dataframe tbody tr th:only-of-type {\n",
              "        vertical-align: middle;\n",
              "    }\n",
              "\n",
              "    .dataframe tbody tr th {\n",
              "        vertical-align: top;\n",
              "    }\n",
              "\n",
              "    .dataframe thead th {\n",
              "        text-align: right;\n",
              "    }\n",
              "</style>\n",
              "<table border=\"1\" class=\"dataframe\">\n",
              "  <thead>\n",
              "    <tr style=\"text-align: right;\">\n",
              "      <th></th>\n",
              "      <th>views</th>\n",
              "      <th>comments</th>\n",
              "      <th>duration</th>\n",
              "      <th>no_of_lang</th>\n",
              "    </tr>\n",
              "  </thead>\n",
              "  <tbody>\n",
              "    <tr>\n",
              "      <th>count</th>\n",
              "      <td>4.005000e+03</td>\n",
              "      <td>3350.000000</td>\n",
              "      <td>4005.000000</td>\n",
              "      <td>4005.000000</td>\n",
              "    </tr>\n",
              "    <tr>\n",
              "      <th>mean</th>\n",
              "      <td>2.148006e+06</td>\n",
              "      <td>161.997015</td>\n",
              "      <td>12.066854</td>\n",
              "      <td>25.304120</td>\n",
              "    </tr>\n",
              "    <tr>\n",
              "      <th>std</th>\n",
              "      <td>3.451226e+06</td>\n",
              "      <td>268.838922</td>\n",
              "      <td>6.029591</td>\n",
              "      <td>9.038567</td>\n",
              "    </tr>\n",
              "    <tr>\n",
              "      <th>min</th>\n",
              "      <td>0.000000e+00</td>\n",
              "      <td>0.000000</td>\n",
              "      <td>1.000000</td>\n",
              "      <td>1.000000</td>\n",
              "    </tr>\n",
              "    <tr>\n",
              "      <th>25%</th>\n",
              "      <td>8.820690e+05</td>\n",
              "      <td>38.000000</td>\n",
              "      <td>6.550000</td>\n",
              "      <td>20.000000</td>\n",
              "    </tr>\n",
              "    <tr>\n",
              "      <th>50%</th>\n",
              "      <td>1.375508e+06</td>\n",
              "      <td>89.000000</td>\n",
              "      <td>12.300000</td>\n",
              "      <td>25.000000</td>\n",
              "    </tr>\n",
              "    <tr>\n",
              "      <th>75%</th>\n",
              "      <td>2.133110e+06</td>\n",
              "      <td>188.000000</td>\n",
              "      <td>16.233333</td>\n",
              "      <td>31.000000</td>\n",
              "    </tr>\n",
              "    <tr>\n",
              "      <th>max</th>\n",
              "      <td>6.505195e+07</td>\n",
              "      <td>6449.000000</td>\n",
              "      <td>65.366667</td>\n",
              "      <td>73.000000</td>\n",
              "    </tr>\n",
              "  </tbody>\n",
              "</table>\n",
              "</div>"
            ],
            "text/plain": [
              "              views     comments     duration   no_of_lang\n",
              "count  4.005000e+03  3350.000000  4005.000000  4005.000000\n",
              "mean   2.148006e+06   161.997015    12.066854    25.304120\n",
              "std    3.451226e+06   268.838922     6.029591     9.038567\n",
              "min    0.000000e+00     0.000000     1.000000     1.000000\n",
              "25%    8.820690e+05    38.000000     6.550000    20.000000\n",
              "50%    1.375508e+06    89.000000    12.300000    25.000000\n",
              "75%    2.133110e+06   188.000000    16.233333    31.000000\n",
              "max    6.505195e+07  6449.000000    65.366667    73.000000"
            ]
          },
          "metadata": {},
          "execution_count": 136
        }
      ]
    },
    {
      "cell_type": "code",
      "metadata": {
        "id": "MGeVQIKHgiON"
      },
      "source": [
        "# Removing null values in 'comments' with median\n",
        "\n",
        "df['comments'] = np.where(df['comments'].isnull(),89,df['comments'])"
      ],
      "execution_count": 137,
      "outputs": []
    },
    {
      "cell_type": "code",
      "metadata": {
        "id": "VDt8LkaOUD38"
      },
      "source": [
        "# Outliers Removal\n",
        "\n",
        "# Comments Column\n",
        "\n",
        "Q1 = np.percentile(df['comments'],25)\n",
        "Q3 = np.percentile(df['comments'],75)\n",
        "IQR = Q3 - Q1\n",
        "median_comments = df.loc[((Q1 - 1.5* IQR) <= df['comments']) & (df['comments'] <= (Q3 + 1.5* IQR)),'comments'].median()\n",
        "df['comments'] = np.where(((Q1 - 1.5* IQR) > df['comments']) & (df['comments']> (Q3 + 1.5* IQR)), median_comments,df['comments'])"
      ],
      "execution_count": 138,
      "outputs": []
    },
    {
      "cell_type": "code",
      "metadata": {
        "id": "2uGt_ED2YFrR"
      },
      "source": [
        "# Duration Column\n",
        "\n",
        "Q1 = np.percentile(df['duration'],25)\n",
        "Q3 = np.percentile(df['duration'],75)\n",
        "IQR = Q3 - Q1\n",
        "median_duration = df.loc[((Q1 - 1.5* IQR) <= df['duration']) & (df['duration'] <= (Q3 + 1.5* IQR)),'duration'].median()\n",
        "df['duration'] = np.where(((Q1 - 1.5* IQR) > df['duration']) & (df['duration']> (Q3 + 1.5* IQR)), median_duration,df['duration'])"
      ],
      "execution_count": 139,
      "outputs": []
    },
    {
      "cell_type": "code",
      "metadata": {
        "id": "JA0Ax5yfYzIt"
      },
      "source": [
        "# Number of languages\n",
        "\n",
        "Q1 = np.percentile(df['no_of_lang'],25)\n",
        "Q3 = np.percentile(df['no_of_lang'],75)\n",
        "IQR = Q3 - Q1\n",
        "median_no_of_lang = df.loc[((Q1 - 1.5* IQR) <= df['no_of_lang']) & (df['no_of_lang'] <= (Q3 + 1.5* IQR)),'no_of_lang'].median()\n",
        "df['no_of_lang'] = np.where(((Q1 - 1.5* IQR) > df['no_of_lang']) & (df['no_of_lang']> (Q3 + 1.5* IQR)), median_no_of_lang,df['no_of_lang'])"
      ],
      "execution_count": 140,
      "outputs": []
    },
    {
      "cell_type": "code",
      "metadata": {
        "colab": {
          "base_uri": "https://localhost:8080/"
        },
        "id": "kNKX7Nc-hkw1",
        "outputId": "32b7066e-83c4-42fc-969e-b0fc40d4ce61"
      },
      "source": [
        "df.info()"
      ],
      "execution_count": 141,
      "outputs": [
        {
          "output_type": "stream",
          "name": "stdout",
          "text": [
            "<class 'pandas.core.frame.DataFrame'>\n",
            "RangeIndex: 4005 entries, 0 to 4004\n",
            "Data columns (total 5 columns):\n",
            " #   Column         Non-Null Count  Dtype  \n",
            "---  ------         --------------  -----  \n",
            " 0   views          4005 non-null   int64  \n",
            " 1   comments       4005 non-null   float64\n",
            " 2   duration       4005 non-null   float64\n",
            " 3   no_of_lang     4005 non-null   float64\n",
            " 4   talk_category  4005 non-null   object \n",
            "dtypes: float64(3), int64(1), object(1)\n",
            "memory usage: 156.6+ KB\n"
          ]
        }
      ]
    },
    {
      "cell_type": "markdown",
      "metadata": {
        "id": "jgwOAHFbZkES"
      },
      "source": [
        "## **Splitting of dataset into train and test**"
      ]
    },
    {
      "cell_type": "code",
      "metadata": {
        "id": "yiV3530QZgwi"
      },
      "source": [
        "X = df.iloc[:,1:]\n",
        "y = df.iloc[:,0]"
      ],
      "execution_count": 142,
      "outputs": []
    },
    {
      "cell_type": "code",
      "metadata": {
        "id": "s109XoxHZNot"
      },
      "source": [
        "X_train, X_test, y_train, y_test = train_test_split(X, y, test_size=0.2, random_state=1)"
      ],
      "execution_count": 143,
      "outputs": []
    },
    {
      "cell_type": "code",
      "metadata": {
        "id": "xD5p8WVsi2NB"
      },
      "source": [
        "# Target encoding\n",
        "\n",
        "encoder=ce.TargetEncoder(cols=['talk_category'])\n",
        "encoded_values_array = encoder.fit_transform(X_train[['talk_category']],y_train).values"
      ],
      "execution_count": 144,
      "outputs": []
    },
    {
      "cell_type": "code",
      "metadata": {
        "colab": {
          "base_uri": "https://localhost:8080/"
        },
        "id": "Rt8LvsFvkqB0",
        "outputId": "3b4a40c4-713f-4ffc-8106-f9fe212dead1"
      },
      "source": [
        "encoded_values_array"
      ],
      "execution_count": 145,
      "outputs": [
        {
          "output_type": "execute_result",
          "data": {
            "text/plain": [
              "array([[1401646.62676056],\n",
              "       [1562257.97307692],\n",
              "       [1562257.97307692],\n",
              "       ...,\n",
              "       [3027476.34184397],\n",
              "       [3027476.34184397],\n",
              "       [1562257.97307692]])"
            ]
          },
          "metadata": {},
          "execution_count": 145
        }
      ]
    },
    {
      "cell_type": "code",
      "metadata": {
        "id": "1OR_snFVlgmL"
      },
      "source": [
        "X_train['talk_category']  = encoded_values_array"
      ],
      "execution_count": 146,
      "outputs": []
    },
    {
      "cell_type": "code",
      "metadata": {
        "colab": {
          "base_uri": "https://localhost:8080/",
          "height": 423
        },
        "id": "9arSrsWTl262",
        "outputId": "4be90792-c18c-4b2b-a286-006c5207964c"
      },
      "source": [
        "X_train"
      ],
      "execution_count": 147,
      "outputs": [
        {
          "output_type": "execute_result",
          "data": {
            "text/html": [
              "<div>\n",
              "<style scoped>\n",
              "    .dataframe tbody tr th:only-of-type {\n",
              "        vertical-align: middle;\n",
              "    }\n",
              "\n",
              "    .dataframe tbody tr th {\n",
              "        vertical-align: top;\n",
              "    }\n",
              "\n",
              "    .dataframe thead th {\n",
              "        text-align: right;\n",
              "    }\n",
              "</style>\n",
              "<table border=\"1\" class=\"dataframe\">\n",
              "  <thead>\n",
              "    <tr style=\"text-align: right;\">\n",
              "      <th></th>\n",
              "      <th>comments</th>\n",
              "      <th>duration</th>\n",
              "      <th>no_of_lang</th>\n",
              "      <th>talk_category</th>\n",
              "    </tr>\n",
              "  </thead>\n",
              "  <tbody>\n",
              "    <tr>\n",
              "      <th>3180</th>\n",
              "      <td>89.0</td>\n",
              "      <td>4.550000</td>\n",
              "      <td>21.0</td>\n",
              "      <td>1.401647e+06</td>\n",
              "    </tr>\n",
              "    <tr>\n",
              "      <th>2513</th>\n",
              "      <td>15.0</td>\n",
              "      <td>14.900000</td>\n",
              "      <td>16.0</td>\n",
              "      <td>1.562258e+06</td>\n",
              "    </tr>\n",
              "    <tr>\n",
              "      <th>3696</th>\n",
              "      <td>89.0</td>\n",
              "      <td>14.416667</td>\n",
              "      <td>4.0</td>\n",
              "      <td>1.562258e+06</td>\n",
              "    </tr>\n",
              "    <tr>\n",
              "      <th>3001</th>\n",
              "      <td>74.0</td>\n",
              "      <td>12.900000</td>\n",
              "      <td>17.0</td>\n",
              "      <td>1.746913e+06</td>\n",
              "    </tr>\n",
              "    <tr>\n",
              "      <th>3300</th>\n",
              "      <td>89.0</td>\n",
              "      <td>5.583333</td>\n",
              "      <td>31.0</td>\n",
              "      <td>3.027476e+06</td>\n",
              "    </tr>\n",
              "    <tr>\n",
              "      <th>...</th>\n",
              "      <td>...</td>\n",
              "      <td>...</td>\n",
              "      <td>...</td>\n",
              "      <td>...</td>\n",
              "    </tr>\n",
              "    <tr>\n",
              "      <th>3839</th>\n",
              "      <td>13.0</td>\n",
              "      <td>6.566667</td>\n",
              "      <td>23.0</td>\n",
              "      <td>2.327546e+06</td>\n",
              "    </tr>\n",
              "    <tr>\n",
              "      <th>1096</th>\n",
              "      <td>45.0</td>\n",
              "      <td>16.766667</td>\n",
              "      <td>25.0</td>\n",
              "      <td>1.401647e+06</td>\n",
              "    </tr>\n",
              "    <tr>\n",
              "      <th>3980</th>\n",
              "      <td>9.0</td>\n",
              "      <td>10.833333</td>\n",
              "      <td>7.0</td>\n",
              "      <td>3.027476e+06</td>\n",
              "    </tr>\n",
              "    <tr>\n",
              "      <th>235</th>\n",
              "      <td>88.0</td>\n",
              "      <td>17.300000</td>\n",
              "      <td>24.0</td>\n",
              "      <td>3.027476e+06</td>\n",
              "    </tr>\n",
              "    <tr>\n",
              "      <th>1061</th>\n",
              "      <td>176.0</td>\n",
              "      <td>9.133333</td>\n",
              "      <td>37.0</td>\n",
              "      <td>1.562258e+06</td>\n",
              "    </tr>\n",
              "  </tbody>\n",
              "</table>\n",
              "<p>3204 rows × 4 columns</p>\n",
              "</div>"
            ],
            "text/plain": [
              "      comments   duration  no_of_lang  talk_category\n",
              "3180      89.0   4.550000        21.0   1.401647e+06\n",
              "2513      15.0  14.900000        16.0   1.562258e+06\n",
              "3696      89.0  14.416667         4.0   1.562258e+06\n",
              "3001      74.0  12.900000        17.0   1.746913e+06\n",
              "3300      89.0   5.583333        31.0   3.027476e+06\n",
              "...        ...        ...         ...            ...\n",
              "3839      13.0   6.566667        23.0   2.327546e+06\n",
              "1096      45.0  16.766667        25.0   1.401647e+06\n",
              "3980       9.0  10.833333         7.0   3.027476e+06\n",
              "235       88.0  17.300000        24.0   3.027476e+06\n",
              "1061     176.0   9.133333        37.0   1.562258e+06\n",
              "\n",
              "[3204 rows x 4 columns]"
            ]
          },
          "metadata": {},
          "execution_count": 147
        }
      ]
    },
    {
      "cell_type": "code",
      "metadata": {
        "id": "DjFSN_rjl4QW"
      },
      "source": [
        "# Encoding test data\n",
        "\n",
        "encoded_values_array_test = encoder.transform(X_test[['talk_category']],y_test).values\n",
        "X_test['talk_category']  = encoded_values_array_test"
      ],
      "execution_count": 148,
      "outputs": []
    },
    {
      "cell_type": "code",
      "metadata": {
        "id": "0_vGqCN2mq2l"
      },
      "source": [
        "# Scaling the data\n",
        "\n",
        "scaler = StandardScaler()\n",
        "X_train = scaler.fit_transform(X_train)"
      ],
      "execution_count": 151,
      "outputs": []
    },
    {
      "cell_type": "code",
      "metadata": {
        "id": "6z0JR7metU91"
      },
      "source": [
        "X_test = scaler.transform(X_test)"
      ],
      "execution_count": 153,
      "outputs": []
    },
    {
      "cell_type": "markdown",
      "metadata": {
        "id": "BM8q77hcxR3e"
      },
      "source": [
        "**LINEAR REGRESSION**"
      ]
    },
    {
      "cell_type": "code",
      "metadata": {
        "colab": {
          "base_uri": "https://localhost:8080/"
        },
        "id": "M9Bc6ovytcTx",
        "outputId": "62c14c18-b986-4b81-9f7c-de0ad6f385df"
      },
      "source": [
        "regressor = LinearRegression()\n",
        "regressor.fit(X_train,y_train)"
      ],
      "execution_count": 155,
      "outputs": [
        {
          "output_type": "execute_result",
          "data": {
            "text/plain": [
              "LinearRegression()"
            ]
          },
          "metadata": {},
          "execution_count": 155
        }
      ]
    },
    {
      "cell_type": "code",
      "metadata": {
        "id": "JvBhczTQxk-_"
      },
      "source": [
        "y_train_pred = regressor.predict(X_train)\n",
        "y_pred = regressor.predict(X_test)"
      ],
      "execution_count": 156,
      "outputs": []
    },
    {
      "cell_type": "code",
      "metadata": {
        "colab": {
          "base_uri": "https://localhost:8080/"
        },
        "id": "aawYUyHQxuYA",
        "outputId": "70b03dde-ee93-415d-f202-f90355274e0b"
      },
      "source": [
        "r2_score(y_train,y_train_pred)"
      ],
      "execution_count": 157,
      "outputs": [
        {
          "output_type": "execute_result",
          "data": {
            "text/plain": [
              "0.22297151290020922"
            ]
          },
          "metadata": {},
          "execution_count": 157
        }
      ]
    },
    {
      "cell_type": "code",
      "metadata": {
        "colab": {
          "base_uri": "https://localhost:8080/"
        },
        "id": "j-UJ8qdOyBRy",
        "outputId": "f6b56b3d-89b6-4a9b-d5c2-ceb50179c753"
      },
      "source": [
        "r2_score(y_test,y_pred)"
      ],
      "execution_count": 158,
      "outputs": [
        {
          "output_type": "execute_result",
          "data": {
            "text/plain": [
              "0.37268089237052715"
            ]
          },
          "metadata": {},
          "execution_count": 158
        }
      ]
    },
    {
      "cell_type": "code",
      "metadata": {
        "colab": {
          "base_uri": "https://localhost:8080/"
        },
        "id": "1ns2Ce1dyFp6",
        "outputId": "ce94d083-3060-48f7-89a7-fad43839431b"
      },
      "source": [
        "# TUNING\n",
        "\n",
        "alpha = [0.001, 0.01, 0.1, 1, 10, 100, 1000]\n",
        "param_grid = dict(alpha=alpha)\n",
        "\n",
        "lr_grid = GridSearchCV(estimator=Ridge(),\n",
        "                       param_grid = param_grid,refit=True,n_jobs=-1,\n",
        "                       cv = 5, verbose=2, scoring='r2')\n",
        "\n",
        "grid_result = lr_grid.fit(X_train,y_train)"
      ],
      "execution_count": 172,
      "outputs": [
        {
          "output_type": "stream",
          "name": "stdout",
          "text": [
            "Fitting 5 folds for each of 7 candidates, totalling 35 fits\n"
          ]
        }
      ]
    },
    {
      "cell_type": "code",
      "metadata": {
        "colab": {
          "base_uri": "https://localhost:8080/"
        },
        "id": "NRFx1ltVzL3r",
        "outputId": "73a7b7f1-4843-4b35-c6f0-be887b7a2995"
      },
      "source": [
        "grid_result.best_score_"
      ],
      "execution_count": 174,
      "outputs": [
        {
          "output_type": "execute_result",
          "data": {
            "text/plain": [
              "0.2044323072637194"
            ]
          },
          "metadata": {},
          "execution_count": 174
        }
      ]
    },
    {
      "cell_type": "markdown",
      "metadata": {
        "id": "9Z5f4OpUbeRO"
      },
      "source": [
        "METHOD 2"
      ]
    },
    {
      "cell_type": "code",
      "metadata": {
        "id": "2PDURK5IWh_7"
      },
      "source": [
        "X_train2, X_test2, y_train2, y_test2 = train_test_split(X, y, test_size=0.2, random_state=8)"
      ],
      "execution_count": 244,
      "outputs": []
    },
    {
      "cell_type": "code",
      "metadata": {
        "colab": {
          "base_uri": "https://localhost:8080/"
        },
        "id": "nECM91XtmlH_",
        "outputId": "ed773f34-4408-40b8-965d-9e6f1c44a77a"
      },
      "source": [
        "X_train2.values[:,0:3]"
      ],
      "execution_count": 245,
      "outputs": [
        {
          "output_type": "execute_result",
          "data": {
            "text/plain": [
              "array([[111.0, 15.466666666666667, 24.0],\n",
              "       [65.0, 16.416666666666668, 20.0],\n",
              "       [89.0, 4.516666666666667, 21.0],\n",
              "       ...,\n",
              "       [53.0, 15.5, 21.0],\n",
              "       [178.0, 8.8, 33.0],\n",
              "       [324.0, 18.633333333333333, 22.0]], dtype=object)"
            ]
          },
          "metadata": {},
          "execution_count": 245
        }
      ]
    },
    {
      "cell_type": "code",
      "metadata": {
        "id": "gdcZzy9Tb1t5"
      },
      "source": [
        "# one hot encoding\n",
        "\n",
        "encoder=OneHotEncoder(sparse=False)\n",
        "encoded_values_array = encoder.fit_transform(X_train2['talk_category'].values.reshape(-1,1))"
      ],
      "execution_count": 246,
      "outputs": []
    },
    {
      "cell_type": "code",
      "metadata": {
        "colab": {
          "base_uri": "https://localhost:8080/"
        },
        "id": "Z0fh_17pnLTA",
        "outputId": "5ce7b94e-0dde-491c-ceb5-0d4b6e0fc883"
      },
      "source": [
        "X_train2.values[:,0:3]"
      ],
      "execution_count": 247,
      "outputs": [
        {
          "output_type": "execute_result",
          "data": {
            "text/plain": [
              "array([[111.0, 15.466666666666667, 24.0],\n",
              "       [65.0, 16.416666666666668, 20.0],\n",
              "       [89.0, 4.516666666666667, 21.0],\n",
              "       ...,\n",
              "       [53.0, 15.5, 21.0],\n",
              "       [178.0, 8.8, 33.0],\n",
              "       [324.0, 18.633333333333333, 22.0]], dtype=object)"
            ]
          },
          "metadata": {},
          "execution_count": 247
        }
      ]
    },
    {
      "cell_type": "code",
      "metadata": {
        "id": "8s1pAI7Bh5Nw"
      },
      "source": [
        "X_train2_array_encoded = np.concatenate((X_train2.values[:,0:3] , encoded_values_array),axis=1)"
      ],
      "execution_count": 248,
      "outputs": []
    },
    {
      "cell_type": "code",
      "metadata": {
        "id": "xRsUPszJcVbe"
      },
      "source": [
        "encoded_values_array_test = encoder.transform(X_test2['talk_category'].values.reshape(-1,1))\n",
        "X_test2_array_encoded  = np.concatenate((X_test2.values[:,0:3] , encoded_values_array_test),axis=1)"
      ],
      "execution_count": 249,
      "outputs": []
    },
    {
      "cell_type": "code",
      "metadata": {
        "id": "94eSV7V-cQWX"
      },
      "source": [
        "scaler2 = StandardScaler()\n",
        "X_train2_array_encoded = scaler.fit_transform(X_train2_array_encoded)\n",
        "X_test2_array_encoded = scaler.transform(X_test2_array_encoded)"
      ],
      "execution_count": 251,
      "outputs": []
    },
    {
      "cell_type": "code",
      "metadata": {
        "id": "HOPypXTjc4-p"
      },
      "source": [
        "regressor = LinearRegression()\n",
        "regressor.fit(X_train2_array_encoded ,y_train2)\n",
        "\n",
        "y_train_pred = regressor.predict(X_train2_array_encoded)\n",
        "y_pred = regressor.predict(X_test2_array_encoded)"
      ],
      "execution_count": 252,
      "outputs": []
    },
    {
      "cell_type": "code",
      "metadata": {
        "colab": {
          "base_uri": "https://localhost:8080/"
        },
        "id": "2DLIomVKdD72",
        "outputId": "4f7e2964-b29e-4daf-a699-13991b788585"
      },
      "source": [
        "r2_score(y_train,y_train_pred)"
      ],
      "execution_count": 253,
      "outputs": [
        {
          "output_type": "execute_result",
          "data": {
            "text/plain": [
              "-0.2719794524557939"
            ]
          },
          "metadata": {},
          "execution_count": 253
        }
      ]
    },
    {
      "cell_type": "code",
      "metadata": {
        "colab": {
          "base_uri": "https://localhost:8080/"
        },
        "id": "IyaCNQnAdWDT",
        "outputId": "2466530e-5634-4d1e-e613-7382e6419f7e"
      },
      "source": [
        "# random forest on target encoded values\n",
        "\n",
        "from sklearn.ensemble import RandomForestClassifier\n",
        "\n",
        "classifier = RandomForestClassifier() \n",
        "grid_values = {'n_estimators':[100, 110,  120], 'max_depth':[5, 6, 7]}\n",
        "classifier = GridSearchCV(classifier, param_grid = grid_values, scoring = 'r2', cv=5)\n",
        "\n",
        "# Fit the object to train dataset\n",
        "classifier.fit(X_train, y_train)"
      ],
      "execution_count": 255,
      "outputs": [
        {
          "output_type": "stream",
          "name": "stderr",
          "text": [
            "/usr/local/lib/python3.7/dist-packages/sklearn/model_selection/_split.py:680: UserWarning: The least populated class in y has only 1 members, which is less than n_splits=5.\n",
            "  UserWarning,\n"
          ]
        },
        {
          "output_type": "execute_result",
          "data": {
            "text/plain": [
              "GridSearchCV(cv=5, estimator=RandomForestClassifier(),\n",
              "             param_grid={'max_depth': [5, 6, 7],\n",
              "                         'n_estimators': [100, 110, 120]},\n",
              "             scoring='r2')"
            ]
          },
          "metadata": {},
          "execution_count": 255
        }
      ]
    },
    {
      "cell_type": "code",
      "metadata": {
        "id": "JI57Neh2veG6"
      },
      "source": [
        "y_train_pred = classifier.predict(X_train)\n",
        "y_pred = classifier.predict(X_test)"
      ],
      "execution_count": 257,
      "outputs": []
    },
    {
      "cell_type": "code",
      "metadata": {
        "colab": {
          "base_uri": "https://localhost:8080/"
        },
        "id": "8sgUmUOMxKQi",
        "outputId": "7d2fc428-ffd4-4c0b-8d9f-068e79bcd681"
      },
      "source": [
        "r2_score(y_train,y_train_pred)"
      ],
      "execution_count": 258,
      "outputs": [
        {
          "output_type": "execute_result",
          "data": {
            "text/plain": [
              "0.39555789563269983"
            ]
          },
          "metadata": {},
          "execution_count": 258
        }
      ]
    },
    {
      "cell_type": "code",
      "metadata": {
        "colab": {
          "base_uri": "https://localhost:8080/"
        },
        "id": "Bp4yuVABxRjR",
        "outputId": "ebe2ebb6-3c1d-4063-cf4a-b928e25228b6"
      },
      "source": [
        "r2_score(y_test,y_pred)"
      ],
      "execution_count": 259,
      "outputs": [
        {
          "output_type": "execute_result",
          "data": {
            "text/plain": [
              "0.05614147415633608"
            ]
          },
          "metadata": {},
          "execution_count": 259
        }
      ]
    },
    {
      "cell_type": "code",
      "metadata": {
        "id": "9i-HcVQmxYRz"
      },
      "source": [
        ""
      ],
      "execution_count": null,
      "outputs": []
    }
  ]
}