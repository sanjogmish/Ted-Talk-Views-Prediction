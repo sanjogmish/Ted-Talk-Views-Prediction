{
  "nbformat": 4,
  "nbformat_minor": 0,
  "metadata": {
    "colab": {
      "name": "TED_Talk_Views_Prediction_edit1.ipynb",
      "provenance": [],
      "collapsed_sections": [],
      "mount_file_id": "1xydnZd3i4e0w1UU-lmJXcc0UOzUcyI9m",
      "authorship_tag": "ABX9TyNhhnbTIO3EvnMGISrRo2Fh",
      "include_colab_link": true
    },
    "kernelspec": {
      "name": "python3",
      "display_name": "Python 3"
    },
    "language_info": {
      "name": "python"
    }
  },
  "cells": [
    {
      "cell_type": "markdown",
      "metadata": {
        "id": "view-in-github",
        "colab_type": "text"
      },
      "source": [
        "<a href=\"https://colab.research.google.com/github/sanjogmish/Ted-Talk-Views-Prediction/blob/main/TED_Talk_Views_Prediction_edit1.ipynb\" target=\"_parent\"><img src=\"https://colab.research.google.com/assets/colab-badge.svg\" alt=\"Open In Colab\"/></a>"
      ]
    },
    {
      "cell_type": "code",
      "metadata": {
        "id": "BRVIooGRtca7"
      },
      "source": [
        "import pandas as pd"
      ],
      "execution_count": 1,
      "outputs": []
    },
    {
      "cell_type": "code",
      "metadata": {
        "id": "EI2A-ge1sukg"
      },
      "source": [
        "df =pd.read_csv('/content/drive/MyDrive/Almabetter/Modules/files/data_ted_talks.csv')"
      ],
      "execution_count": 2,
      "outputs": []
    },
    {
      "cell_type": "code",
      "metadata": {
        "colab": {
          "base_uri": "https://localhost:8080/",
          "height": 717
        },
        "id": "J6FilNSOtbBF",
        "outputId": "964c7850-e2c5-4683-af4c-dca4d7ac8f9a"
      },
      "source": [
        "df.head(10).T"
      ],
      "execution_count": 3,
      "outputs": [
        {
          "output_type": "execute_result",
          "data": {
            "text/html": [
              "<div>\n",
              "<style scoped>\n",
              "    .dataframe tbody tr th:only-of-type {\n",
              "        vertical-align: middle;\n",
              "    }\n",
              "\n",
              "    .dataframe tbody tr th {\n",
              "        vertical-align: top;\n",
              "    }\n",
              "\n",
              "    .dataframe thead th {\n",
              "        text-align: right;\n",
              "    }\n",
              "</style>\n",
              "<table border=\"1\" class=\"dataframe\">\n",
              "  <thead>\n",
              "    <tr style=\"text-align: right;\">\n",
              "      <th></th>\n",
              "      <th>0</th>\n",
              "      <th>1</th>\n",
              "      <th>2</th>\n",
              "      <th>3</th>\n",
              "      <th>4</th>\n",
              "      <th>5</th>\n",
              "      <th>6</th>\n",
              "      <th>7</th>\n",
              "      <th>8</th>\n",
              "      <th>9</th>\n",
              "    </tr>\n",
              "  </thead>\n",
              "  <tbody>\n",
              "    <tr>\n",
              "      <th>talk_id</th>\n",
              "      <td>1</td>\n",
              "      <td>92</td>\n",
              "      <td>7</td>\n",
              "      <td>53</td>\n",
              "      <td>66</td>\n",
              "      <td>49</td>\n",
              "      <td>86</td>\n",
              "      <td>94</td>\n",
              "      <td>71</td>\n",
              "      <td>55</td>\n",
              "    </tr>\n",
              "    <tr>\n",
              "      <th>title</th>\n",
              "      <td>Averting the climate crisis</td>\n",
              "      <td>The best stats you've ever seen</td>\n",
              "      <td>Simplicity sells</td>\n",
              "      <td>Greening the ghetto</td>\n",
              "      <td>Do schools kill creativity?</td>\n",
              "      <td>Behind the design of Seattle's library</td>\n",
              "      <td>Letting go of God</td>\n",
              "      <td>Let's teach religion -- all religion -- in sch...</td>\n",
              "      <td>A life of purpose</td>\n",
              "      <td>My wish: A global day of film</td>\n",
              "    </tr>\n",
              "    <tr>\n",
              "      <th>speaker_1</th>\n",
              "      <td>Al Gore</td>\n",
              "      <td>Hans Rosling</td>\n",
              "      <td>David Pogue</td>\n",
              "      <td>Majora Carter</td>\n",
              "      <td>Sir Ken Robinson</td>\n",
              "      <td>Joshua Prince-Ramus</td>\n",
              "      <td>Julia Sweeney</td>\n",
              "      <td>Dan Dennett</td>\n",
              "      <td>Rick Warren</td>\n",
              "      <td>Jehane Noujaim</td>\n",
              "    </tr>\n",
              "    <tr>\n",
              "      <th>all_speakers</th>\n",
              "      <td>{0: 'Al Gore'}</td>\n",
              "      <td>{0: 'Hans Rosling'}</td>\n",
              "      <td>{0: 'David Pogue'}</td>\n",
              "      <td>{0: 'Majora Carter'}</td>\n",
              "      <td>{0: 'Sir Ken Robinson'}</td>\n",
              "      <td>{0: 'Joshua Prince-Ramus'}</td>\n",
              "      <td>{0: 'Julia Sweeney'}</td>\n",
              "      <td>{0: 'Dan Dennett'}</td>\n",
              "      <td>{0: 'Rick Warren'}</td>\n",
              "      <td>{0: 'Jehane Noujaim'}</td>\n",
              "    </tr>\n",
              "    <tr>\n",
              "      <th>occupations</th>\n",
              "      <td>{0: ['climate advocate']}</td>\n",
              "      <td>{0: ['global health expert; data visionary']}</td>\n",
              "      <td>{0: ['technology columnist']}</td>\n",
              "      <td>{0: ['activist for environmental justice']}</td>\n",
              "      <td>{0: ['author', 'educator']}</td>\n",
              "      <td>{0: ['architect']}</td>\n",
              "      <td>{0: ['actor', 'comedian', 'playwright']}</td>\n",
              "      <td>{0: ['philosopher', 'cognitive scientist']}</td>\n",
              "      <td>{0: ['pastor', 'author']}</td>\n",
              "      <td>{0: ['filmmaker']}</td>\n",
              "    </tr>\n",
              "    <tr>\n",
              "      <th>about_speakers</th>\n",
              "      <td>{0: 'Nobel Laureate Al Gore focused the world’...</td>\n",
              "      <td>{0: 'In Hans Rosling’s hands, data sings. Glob...</td>\n",
              "      <td>{0: 'David Pogue is the personal technology co...</td>\n",
              "      <td>{0: 'Majora Carter redefined the field of envi...</td>\n",
              "      <td>{0: \"Creativity expert Sir Ken Robinson challe...</td>\n",
              "      <td>{0: 'Joshua Prince-Ramus is best known as arch...</td>\n",
              "      <td>{0: 'Julia Sweeney creates comedic works that ...</td>\n",
              "      <td>{0: 'Dan Dennett thinks that human consciousne...</td>\n",
              "      <td>{0: 'Pastor Rick Warren is the author of &lt;em&gt;T...</td>\n",
              "      <td>{0: 'TED Prize winner Jehane Noujaim is a guts...</td>\n",
              "    </tr>\n",
              "    <tr>\n",
              "      <th>views</th>\n",
              "      <td>3523392</td>\n",
              "      <td>14501685</td>\n",
              "      <td>1920832</td>\n",
              "      <td>2664069</td>\n",
              "      <td>65051954</td>\n",
              "      <td>1208138</td>\n",
              "      <td>4636596</td>\n",
              "      <td>3781244</td>\n",
              "      <td>3998282</td>\n",
              "      <td>460994</td>\n",
              "    </tr>\n",
              "    <tr>\n",
              "      <th>recorded_date</th>\n",
              "      <td>2006-02-25</td>\n",
              "      <td>2006-02-22</td>\n",
              "      <td>2006-02-24</td>\n",
              "      <td>2006-02-26</td>\n",
              "      <td>2006-02-25</td>\n",
              "      <td>2006-02-23</td>\n",
              "      <td>2006-02-24</td>\n",
              "      <td>2006-02-02</td>\n",
              "      <td>2006-02-25</td>\n",
              "      <td>2006-02-26</td>\n",
              "    </tr>\n",
              "    <tr>\n",
              "      <th>published_date</th>\n",
              "      <td>2006-06-27</td>\n",
              "      <td>2006-06-27</td>\n",
              "      <td>2006-06-27</td>\n",
              "      <td>2006-06-27</td>\n",
              "      <td>2006-06-27</td>\n",
              "      <td>2006-07-10</td>\n",
              "      <td>2006-07-10</td>\n",
              "      <td>2006-07-18</td>\n",
              "      <td>2006-07-18</td>\n",
              "      <td>2006-07-25</td>\n",
              "    </tr>\n",
              "    <tr>\n",
              "      <th>event</th>\n",
              "      <td>TED2006</td>\n",
              "      <td>TED2006</td>\n",
              "      <td>TED2006</td>\n",
              "      <td>TED2006</td>\n",
              "      <td>TED2006</td>\n",
              "      <td>TED2006</td>\n",
              "      <td>TED2006</td>\n",
              "      <td>TED2006</td>\n",
              "      <td>TED2006</td>\n",
              "      <td>TED2006</td>\n",
              "    </tr>\n",
              "    <tr>\n",
              "      <th>native_lang</th>\n",
              "      <td>en</td>\n",
              "      <td>en</td>\n",
              "      <td>en</td>\n",
              "      <td>en</td>\n",
              "      <td>en</td>\n",
              "      <td>en</td>\n",
              "      <td>en</td>\n",
              "      <td>en</td>\n",
              "      <td>en</td>\n",
              "      <td>en</td>\n",
              "    </tr>\n",
              "    <tr>\n",
              "      <th>available_lang</th>\n",
              "      <td>['ar', 'bg', 'cs', 'de', 'el', 'en', 'es', 'fa...</td>\n",
              "      <td>['ar', 'az', 'bg', 'bn', 'bs', 'cs', 'da', 'de...</td>\n",
              "      <td>['ar', 'bg', 'de', 'el', 'en', 'es', 'fa', 'fr...</td>\n",
              "      <td>['ar', 'bg', 'bn', 'ca', 'cs', 'de', 'en', 'es...</td>\n",
              "      <td>['af', 'ar', 'az', 'be', 'bg', 'bn', 'ca', 'cs...</td>\n",
              "      <td>['ar', 'bg', 'en', 'es', 'fr', 'he', 'it', 'ja...</td>\n",
              "      <td>['ar', 'bg', 'cs', 'de', 'el', 'en', 'es', 'fa...</td>\n",
              "      <td>['ar', 'bg', 'cs', 'de', 'el', 'en', 'es', 'fa...</td>\n",
              "      <td>['ar', 'bg', 'cs', 'de', 'el', 'en', 'es', 'fa...</td>\n",
              "      <td>['ar', 'bg', 'cs', 'en', 'es', 'fa', 'fr', 'he...</td>\n",
              "    </tr>\n",
              "    <tr>\n",
              "      <th>comments</th>\n",
              "      <td>272</td>\n",
              "      <td>628</td>\n",
              "      <td>124</td>\n",
              "      <td>219</td>\n",
              "      <td>4931</td>\n",
              "      <td>48</td>\n",
              "      <td>980</td>\n",
              "      <td>919</td>\n",
              "      <td>930</td>\n",
              "      <td>59</td>\n",
              "    </tr>\n",
              "    <tr>\n",
              "      <th>duration</th>\n",
              "      <td>977</td>\n",
              "      <td>1190</td>\n",
              "      <td>1286</td>\n",
              "      <td>1116</td>\n",
              "      <td>1164</td>\n",
              "      <td>1198</td>\n",
              "      <td>992</td>\n",
              "      <td>1485</td>\n",
              "      <td>1262</td>\n",
              "      <td>1538</td>\n",
              "    </tr>\n",
              "    <tr>\n",
              "      <th>topics</th>\n",
              "      <td>['alternative energy', 'cars', 'climate change...</td>\n",
              "      <td>['Africa', 'Asia', 'Google', 'demo', 'economic...</td>\n",
              "      <td>['computers', 'entertainment', 'interface desi...</td>\n",
              "      <td>['MacArthur grant', 'activism', 'business', 'c...</td>\n",
              "      <td>['children', 'creativity', 'culture', 'dance',...</td>\n",
              "      <td>['architecture', 'collaboration', 'culture', '...</td>\n",
              "      <td>['Christianity', 'God', 'atheism', 'comedy', '...</td>\n",
              "      <td>['God', 'atheism', 'brain', 'cognitive science...</td>\n",
              "      <td>['Christianity', 'God', 'culture', 'happiness'...</td>\n",
              "      <td>['TED Prize', 'culture', 'entertainment', 'fil...</td>\n",
              "    </tr>\n",
              "    <tr>\n",
              "      <th>related_talks</th>\n",
              "      <td>{243: 'New thinking on the climate crisis', 54...</td>\n",
              "      <td>{2056: \"Own your body's data\", 2296: 'A visual...</td>\n",
              "      <td>{1725: '10 top time-saving tech tips', 2274: '...</td>\n",
              "      <td>{1041: '3 stories of local eco-entrepreneurshi...</td>\n",
              "      <td>{865: 'Bring on the learning revolution!', 173...</td>\n",
              "      <td>{750: 'Building a theater that remakes itself'...</td>\n",
              "      <td>{22: 'Why people believe weird things', 94: \"L...</td>\n",
              "      <td>{71: 'A life of purpose', 2011: 'Is religion g...</td>\n",
              "      <td>{94: \"Let's teach religion -- all religion -- ...</td>\n",
              "      <td>{2228: 'How virtual reality can create the ult...</td>\n",
              "    </tr>\n",
              "    <tr>\n",
              "      <th>url</th>\n",
              "      <td>https://www.ted.com/talks/al_gore_averting_the...</td>\n",
              "      <td>https://www.ted.com/talks/hans_rosling_the_bes...</td>\n",
              "      <td>https://www.ted.com/talks/david_pogue_simplici...</td>\n",
              "      <td>https://www.ted.com/talks/majora_carter_greeni...</td>\n",
              "      <td>https://www.ted.com/talks/sir_ken_robinson_do_...</td>\n",
              "      <td>https://www.ted.com/talks/joshua_prince_ramus_...</td>\n",
              "      <td>https://www.ted.com/talks/julia_sweeney_lettin...</td>\n",
              "      <td>https://www.ted.com/talks/dan_dennett_let_s_te...</td>\n",
              "      <td>https://www.ted.com/talks/rick_warren_a_life_o...</td>\n",
              "      <td>https://www.ted.com/talks/jehane_noujaim_my_wi...</td>\n",
              "    </tr>\n",
              "    <tr>\n",
              "      <th>description</th>\n",
              "      <td>With the same humor and humanity he exuded in ...</td>\n",
              "      <td>You've never seen data presented like this. Wi...</td>\n",
              "      <td>New York Times columnist David Pogue takes aim...</td>\n",
              "      <td>In an emotionally charged talk, MacArthur-winn...</td>\n",
              "      <td>Sir Ken Robinson makes an entertaining and pro...</td>\n",
              "      <td>Architect Joshua Prince-Ramus takes the audien...</td>\n",
              "      <td>When two young Mormon missionaries knock on Ju...</td>\n",
              "      <td>Philosopher Dan Dennett calls for religion -- ...</td>\n",
              "      <td>Pastor Rick Warren, author of \"The Purpose-Dri...</td>\n",
              "      <td>Jehane Noujaim unveils her 2006 TED Prize wish...</td>\n",
              "    </tr>\n",
              "    <tr>\n",
              "      <th>transcript</th>\n",
              "      <td>Thank you so much, Chris. And it's truly a gre...</td>\n",
              "      <td>About 10 years ago, I took on the task to teac...</td>\n",
              "      <td>(Music: \"The Sound of Silence,\" Simon &amp; Garfun...</td>\n",
              "      <td>If you're here today — and I'm very happy that...</td>\n",
              "      <td>Good morning. How are you? (Audience) Good. It...</td>\n",
              "      <td>I'm going to present three projects in rapid f...</td>\n",
              "      <td>On September 10, the morning of my seventh bir...</td>\n",
              "      <td>It's wonderful to be back. I love this wonderf...</td>\n",
              "      <td>I'm often asked, \"What surprised you about the...</td>\n",
              "      <td>I can't help but this wish: to think about whe...</td>\n",
              "    </tr>\n",
              "  </tbody>\n",
              "</table>\n",
              "</div>"
            ],
            "text/plain": [
              "                                                                0  ...                                                  9\n",
              "talk_id                                                         1  ...                                                 55\n",
              "title                                 Averting the climate crisis  ...                      My wish: A global day of film\n",
              "speaker_1                                                 Al Gore  ...                                     Jehane Noujaim\n",
              "all_speakers                                       {0: 'Al Gore'}  ...                              {0: 'Jehane Noujaim'}\n",
              "occupations                             {0: ['climate advocate']}  ...                                 {0: ['filmmaker']}\n",
              "about_speakers  {0: 'Nobel Laureate Al Gore focused the world’...  ...  {0: 'TED Prize winner Jehane Noujaim is a guts...\n",
              "views                                                     3523392  ...                                             460994\n",
              "recorded_date                                          2006-02-25  ...                                         2006-02-26\n",
              "published_date                                         2006-06-27  ...                                         2006-07-25\n",
              "event                                                     TED2006  ...                                            TED2006\n",
              "native_lang                                                    en  ...                                                 en\n",
              "available_lang  ['ar', 'bg', 'cs', 'de', 'el', 'en', 'es', 'fa...  ...  ['ar', 'bg', 'cs', 'en', 'es', 'fa', 'fr', 'he...\n",
              "comments                                                      272  ...                                                 59\n",
              "duration                                                      977  ...                                               1538\n",
              "topics          ['alternative energy', 'cars', 'climate change...  ...  ['TED Prize', 'culture', 'entertainment', 'fil...\n",
              "related_talks   {243: 'New thinking on the climate crisis', 54...  ...  {2228: 'How virtual reality can create the ult...\n",
              "url             https://www.ted.com/talks/al_gore_averting_the...  ...  https://www.ted.com/talks/jehane_noujaim_my_wi...\n",
              "description     With the same humor and humanity he exuded in ...  ...  Jehane Noujaim unveils her 2006 TED Prize wish...\n",
              "transcript      Thank you so much, Chris. And it's truly a gre...  ...  I can't help but this wish: to think about whe...\n",
              "\n",
              "[19 rows x 10 columns]"
            ]
          },
          "metadata": {},
          "execution_count": 3
        }
      ]
    },
    {
      "cell_type": "code",
      "metadata": {
        "colab": {
          "base_uri": "https://localhost:8080/"
        },
        "id": "bKzvTFBZthLr",
        "outputId": "f2dbb7f6-d8b8-4d04-c63f-36ddf00e49f8"
      },
      "source": [
        "df.info()"
      ],
      "execution_count": 4,
      "outputs": [
        {
          "output_type": "stream",
          "name": "stdout",
          "text": [
            "<class 'pandas.core.frame.DataFrame'>\n",
            "RangeIndex: 4005 entries, 0 to 4004\n",
            "Data columns (total 19 columns):\n",
            " #   Column          Non-Null Count  Dtype  \n",
            "---  ------          --------------  -----  \n",
            " 0   talk_id         4005 non-null   int64  \n",
            " 1   title           4005 non-null   object \n",
            " 2   speaker_1       4005 non-null   object \n",
            " 3   all_speakers    4001 non-null   object \n",
            " 4   occupations     3483 non-null   object \n",
            " 5   about_speakers  3502 non-null   object \n",
            " 6   views           4005 non-null   int64  \n",
            " 7   recorded_date   4004 non-null   object \n",
            " 8   published_date  4005 non-null   object \n",
            " 9   event           4005 non-null   object \n",
            " 10  native_lang     4005 non-null   object \n",
            " 11  available_lang  4005 non-null   object \n",
            " 12  comments        3350 non-null   float64\n",
            " 13  duration        4005 non-null   int64  \n",
            " 14  topics          4005 non-null   object \n",
            " 15  related_talks   4005 non-null   object \n",
            " 16  url             4005 non-null   object \n",
            " 17  description     4005 non-null   object \n",
            " 18  transcript      4005 non-null   object \n",
            "dtypes: float64(1), int64(3), object(15)\n",
            "memory usage: 594.6+ KB\n"
          ]
        }
      ]
    },
    {
      "cell_type": "code",
      "metadata": {
        "colab": {
          "base_uri": "https://localhost:8080/"
        },
        "id": "NGm8gBFAyxCq",
        "outputId": "3447e352-dbbc-4dd1-a654-4259026d7bb9"
      },
      "source": [
        "# 'talk_id' consists of all unique values; no trend and must not influence target; to be dropped\n",
        "df['talk_id'].nunique()"
      ],
      "execution_count": 5,
      "outputs": [
        {
          "output_type": "execute_result",
          "data": {
            "text/plain": [
              "4005"
            ]
          },
          "metadata": {},
          "execution_count": 5
        }
      ]
    },
    {
      "cell_type": "code",
      "metadata": {
        "colab": {
          "base_uri": "https://localhost:8080/"
        },
        "id": "YWwJCXUFze_z",
        "outputId": "5b6921ce-f09f-4dc5-d98f-79ae2425b953"
      },
      "source": [
        "# 'title' consists of all unique values; no trend and must not influence target; to be dropped or combined with another column\n",
        "df['title'].nunique()"
      ],
      "execution_count": 6,
      "outputs": [
        {
          "output_type": "execute_result",
          "data": {
            "text/plain": [
              "4005"
            ]
          },
          "metadata": {},
          "execution_count": 6
        }
      ]
    },
    {
      "cell_type": "code",
      "metadata": {
        "colab": {
          "base_uri": "https://localhost:8080/"
        },
        "id": "qN1U_MAK2AcA",
        "outputId": "489322b0-84f6-46f4-95f0-b694b80a6744"
      },
      "source": [
        "df['speaker_1'].nunique()"
      ],
      "execution_count": 7,
      "outputs": [
        {
          "output_type": "execute_result",
          "data": {
            "text/plain": [
              "3274"
            ]
          },
          "metadata": {},
          "execution_count": 7
        }
      ]
    },
    {
      "cell_type": "code",
      "metadata": {
        "colab": {
          "base_uri": "https://localhost:8080/"
        },
        "id": "BDRNSTqg3vqr",
        "outputId": "bedda3f1-4307-4e68-d5fa-d70e22d19262"
      },
      "source": [
        "df['speaker_1'].value_counts().index"
      ],
      "execution_count": 8,
      "outputs": [
        {
          "output_type": "execute_result",
          "data": {
            "text/plain": [
              "Index(['Alex Gendler', 'Iseult Gillespie', 'Emma Bryce', 'Daniel Finkel',\n",
              "       'Hans Rosling', 'Alex Rosenthal', 'Greg Gage', 'Juan Enriquez',\n",
              "       'Chris Anderson', 'Dan Ariely',\n",
              "       ...\n",
              "       'Jake Barton', 'Edmond Hui', 'Lidia Yuknavitch', 'Chris Bliss',\n",
              "       'Natalie Jeremijenko', 'Penelope Boston', 'Lee Mokobe', ' Crush Club',\n",
              "       'Alan Russell', 'Luca Turin'],\n",
              "      dtype='object', length=3274)"
            ]
          },
          "metadata": {},
          "execution_count": 8
        }
      ]
    },
    {
      "cell_type": "code",
      "metadata": {
        "id": "DU8t3jhk4ClK"
      },
      "source": [
        "dict_of_speakers_frequency = dict(zip(df['speaker_1'].value_counts().index , df['speaker_1'].value_counts().values))\n",
        "list_of_frequent_speakers = list()\n",
        "for key,value in dict_of_speakers_frequency.items():\n",
        "  if value > 1:\n",
        "    list_of_frequent_speakers.append(key)"
      ],
      "execution_count": 9,
      "outputs": []
    },
    {
      "cell_type": "code",
      "metadata": {
        "colab": {
          "base_uri": "https://localhost:8080/"
        },
        "id": "EOj73ONxBxDs",
        "outputId": "905b1837-00a1-4a10-ed72-af2cefd0fa11"
      },
      "source": [
        "len(list_of_frequent_speakers)"
      ],
      "execution_count": 10,
      "outputs": [
        {
          "output_type": "execute_result",
          "data": {
            "text/plain": [
              "424"
            ]
          },
          "metadata": {},
          "execution_count": 10
        }
      ]
    },
    {
      "cell_type": "code",
      "metadata": {
        "id": "jZXc7x78I8-v"
      },
      "source": [
        "import numpy as np\n",
        "import math"
      ],
      "execution_count": 11,
      "outputs": []
    },
    {
      "cell_type": "code",
      "metadata": {
        "id": "Xa5Jm9r-TIsv"
      },
      "source": [
        "def convert(string):\n",
        "    return eval(string)"
      ],
      "execution_count": 12,
      "outputs": []
    },
    {
      "cell_type": "code",
      "metadata": {
        "colab": {
          "base_uri": "https://localhost:8080/",
          "height": 507
        },
        "id": "dLry4GV0NDTd",
        "outputId": "1340ff2a-3b58-418f-ea74-13ca4cc6f80f"
      },
      "source": [
        "df.loc[df['all_speakers'].isnull()==True]"
      ],
      "execution_count": 13,
      "outputs": [
        {
          "output_type": "execute_result",
          "data": {
            "text/html": [
              "<div>\n",
              "<style scoped>\n",
              "    .dataframe tbody tr th:only-of-type {\n",
              "        vertical-align: middle;\n",
              "    }\n",
              "\n",
              "    .dataframe tbody tr th {\n",
              "        vertical-align: top;\n",
              "    }\n",
              "\n",
              "    .dataframe thead th {\n",
              "        text-align: right;\n",
              "    }\n",
              "</style>\n",
              "<table border=\"1\" class=\"dataframe\">\n",
              "  <thead>\n",
              "    <tr style=\"text-align: right;\">\n",
              "      <th></th>\n",
              "      <th>talk_id</th>\n",
              "      <th>title</th>\n",
              "      <th>speaker_1</th>\n",
              "      <th>all_speakers</th>\n",
              "      <th>occupations</th>\n",
              "      <th>about_speakers</th>\n",
              "      <th>views</th>\n",
              "      <th>recorded_date</th>\n",
              "      <th>published_date</th>\n",
              "      <th>event</th>\n",
              "      <th>native_lang</th>\n",
              "      <th>available_lang</th>\n",
              "      <th>comments</th>\n",
              "      <th>duration</th>\n",
              "      <th>topics</th>\n",
              "      <th>related_talks</th>\n",
              "      <th>url</th>\n",
              "      <th>description</th>\n",
              "      <th>transcript</th>\n",
              "    </tr>\n",
              "  </thead>\n",
              "  <tbody>\n",
              "    <tr>\n",
              "      <th>2927</th>\n",
              "      <td>23418</td>\n",
              "      <td>How prefab homes can transform affordable housing</td>\n",
              "      <td>Antón García-Abril</td>\n",
              "      <td>NaN</td>\n",
              "      <td>NaN</td>\n",
              "      <td>NaN</td>\n",
              "      <td>14934</td>\n",
              "      <td>2016-11-19</td>\n",
              "      <td>2018-09-04</td>\n",
              "      <td>TEDxYouth@Beaconstreet</td>\n",
              "      <td>en</td>\n",
              "      <td>['en', 'es']</td>\n",
              "      <td>NaN</td>\n",
              "      <td>449</td>\n",
              "      <td>['design', 'architecture', 'industrial design'...</td>\n",
              "      <td>{1015: 'Creative houses from reclaimed stuff',...</td>\n",
              "      <td>https://www.ted.com/talks/anton_garcia_abril_h...</td>\n",
              "      <td>When architect Antón García-Abril moved to Bos...</td>\n",
              "      <td>Subtitle Provided by JUFE MOOC Studio M Subtit...</td>\n",
              "    </tr>\n",
              "    <tr>\n",
              "      <th>3266</th>\n",
              "      <td>36384</td>\n",
              "      <td>Why we need to stop obsessing over World War II</td>\n",
              "      <td>Keith Lowe</td>\n",
              "      <td>NaN</td>\n",
              "      <td>NaN</td>\n",
              "      <td>NaN</td>\n",
              "      <td>103682</td>\n",
              "      <td>2014-11-15</td>\n",
              "      <td>2019-03-01</td>\n",
              "      <td>TEDxAthens</td>\n",
              "      <td>en</td>\n",
              "      <td>['en', 'pt', 'sr']</td>\n",
              "      <td>NaN</td>\n",
              "      <td>1109</td>\n",
              "      <td>['war', 'history', 'society', 'future', 'globa...</td>\n",
              "      <td>{1999: 'Why veterans miss war', 1651: 'What I ...</td>\n",
              "      <td>https://www.ted.com/talks/keith_lowe_why_we_ne...</td>\n",
              "      <td>Why are we so obsessed with World War II? Hist...</td>\n",
              "      <td>Hello everybody. Audience: Hello. Keith Lowe: ...</td>\n",
              "    </tr>\n",
              "    <tr>\n",
              "      <th>3290</th>\n",
              "      <td>36844</td>\n",
              "      <td>Why talent carries you further than fame</td>\n",
              "      <td>Maisie Williams</td>\n",
              "      <td>NaN</td>\n",
              "      <td>NaN</td>\n",
              "      <td>NaN</td>\n",
              "      <td>3677746</td>\n",
              "      <td>2019-02-03</td>\n",
              "      <td>2019-03-11</td>\n",
              "      <td>TEDxManchester</td>\n",
              "      <td>en</td>\n",
              "      <td>['ar', 'de', 'el', 'en', 'es', 'fr', 'hu', 'pt...</td>\n",
              "      <td>NaN</td>\n",
              "      <td>982</td>\n",
              "      <td>['art', 'entertainment', 'entrepreneur', 'tech...</td>\n",
              "      <td>{39192: 'Why medieval politics was nothing lik...</td>\n",
              "      <td>https://www.ted.com/talks/maisie_williams_why_...</td>\n",
              "      <td>You'd never know from her transformation into ...</td>\n",
              "      <td>Hi. I'm Maisie Williams. And I'm kind of just ...</td>\n",
              "    </tr>\n",
              "    <tr>\n",
              "      <th>3665</th>\n",
              "      <td>49223</td>\n",
              "      <td>Are we living in a simulation?</td>\n",
              "      <td>Zohreh Davoudi</td>\n",
              "      <td>NaN</td>\n",
              "      <td>NaN</td>\n",
              "      <td>NaN</td>\n",
              "      <td>485122</td>\n",
              "      <td>2019-10-08</td>\n",
              "      <td>2019-10-08</td>\n",
              "      <td>TED-Ed</td>\n",
              "      <td>en</td>\n",
              "      <td>['ar', 'el', 'en', 'es', 'fa', 'fr', 'he', 'id...</td>\n",
              "      <td>NaN</td>\n",
              "      <td>249</td>\n",
              "      <td>['TED-Ed', 'animation', 'education', 'technolo...</td>\n",
              "      <td>{26263: 'Does time exist?', 24106: 'How do you...</td>\n",
              "      <td>https://www.ted.com/talks/zohreh_davoudi_are_w...</td>\n",
              "      <td>All life on Earth— living and inanimate, micro...</td>\n",
              "      <td>We live in a vast universe, on a small wet pla...</td>\n",
              "    </tr>\n",
              "  </tbody>\n",
              "</table>\n",
              "</div>"
            ],
            "text/plain": [
              "      talk_id  ...                                         transcript\n",
              "2927    23418  ...  Subtitle Provided by JUFE MOOC Studio M Subtit...\n",
              "3266    36384  ...  Hello everybody. Audience: Hello. Keith Lowe: ...\n",
              "3290    36844  ...  Hi. I'm Maisie Williams. And I'm kind of just ...\n",
              "3665    49223  ...  We live in a vast universe, on a small wet pla...\n",
              "\n",
              "[4 rows x 19 columns]"
            ]
          },
          "metadata": {},
          "execution_count": 13
        }
      ]
    },
    {
      "cell_type": "code",
      "metadata": {
        "id": "DoabZieRQl7i"
      },
      "source": [
        "df['all_speakers'] = np.where(df['all_speakers'].isnull(),'Empty',df['all_speakers'])"
      ],
      "execution_count": 14,
      "outputs": []
    },
    {
      "cell_type": "code",
      "metadata": {
        "colab": {
          "base_uri": "https://localhost:8080/",
          "height": 282
        },
        "id": "MUIH0XDeeLob",
        "outputId": "82892647-f6bb-4dbe-b745-65413ee01569"
      },
      "source": [
        "number_speakers_each_talk = list()\n",
        "for i in df['all_speakers']:\n",
        "  if i=='Empty':\n",
        "    pass\n",
        "  else:\n",
        "    converted_dictionary = convert(i)\n",
        "    number_speakers_each_talk.append(len(converted_dictionary.items()))\n",
        "import matplotlib.pyplot as plt\n",
        "x = range(1,4002)\n",
        "plt.scatter(x,number_speakers_each_talk)"
      ],
      "execution_count": 15,
      "outputs": [
        {
          "output_type": "execute_result",
          "data": {
            "text/plain": [
              "<matplotlib.collections.PathCollection at 0x7f8e9fb4b610>"
            ]
          },
          "metadata": {},
          "execution_count": 15
        },
        {
          "output_type": "display_data",
          "data": {
            "image/png": "[encoded data removed]",
            "text/plain": [
              "<Figure size 432x288 with 1 Axes>"
            ]
          },
          "metadata": {
            "needs_background": "light"
          }
        }
      ]
    },
    {
      "cell_type": "code",
      "metadata": {
        "id": "HHbzY1B5kdoK"
      },
      "source": [
        "df['occupations'] = np.where(df['occupations'].isnull(),'Empty',df['occupations'])"
      ],
      "execution_count": 16,
      "outputs": []
    },
    {
      "cell_type": "code",
      "metadata": {
        "id": "5G2tkaHefwPN"
      },
      "source": [
        "occupations = list()\n",
        "for i in df['occupations']:\n",
        "    if i == 'Empty':\n",
        "      pass\n",
        "    else:\n",
        "      converted_dictionary_occupation = convert(i)\n",
        "      occupations.append(list(converted_dictionary_occupation.values()))"
      ],
      "execution_count": 17,
      "outputs": []
    },
    {
      "cell_type": "code",
      "metadata": {
        "colab": {
          "base_uri": "https://localhost:8080/",
          "height": 53
        },
        "id": "dHtVZX2dlzPZ",
        "outputId": "5ec47e5b-a78d-4118-eaad-f029281ce7bc"
      },
      "source": [
        "df['about_speakers'][5]"
      ],
      "execution_count": 18,
      "outputs": [
        {
          "output_type": "execute_result",
          "data": {
            "application/vnd.google.colaboratory.intrinsic+json": {
              "type": "string"
            },
            "text/plain": [
              "\"{0: 'Joshua Prince-Ramus is best known as architect of the Seattle Central Library, already being hailed as a masterpiece of contemporary culture. Prince-Ramus was the founding partner of OMA New York—the American affiliate of the Office for Metropolitan Architecture (OMA) in the Netherlands—and served as its Principal until he renamed the firm REX in 2006.'}\""
            ]
          },
          "metadata": {},
          "execution_count": 18
        }
      ]
    },
    {
      "cell_type": "code",
      "metadata": {
        "colab": {
          "base_uri": "https://localhost:8080/"
        },
        "id": "HMLFp1aUp4jk",
        "outputId": "45a5792c-1c0b-4873-8030-61b660bda3fa"
      },
      "source": [
        "df['views'].describe()"
      ],
      "execution_count": 19,
      "outputs": [
        {
          "output_type": "execute_result",
          "data": {
            "text/plain": [
              "count    4.005000e+03\n",
              "mean     2.148006e+06\n",
              "std      3.451226e+06\n",
              "min      0.000000e+00\n",
              "25%      8.820690e+05\n",
              "50%      1.375508e+06\n",
              "75%      2.133110e+06\n",
              "max      6.505195e+07\n",
              "Name: views, dtype: float64"
            ]
          },
          "metadata": {},
          "execution_count": 19
        }
      ]
    },
    {
      "cell_type": "code",
      "metadata": {
        "colab": {
          "base_uri": "https://localhost:8080/",
          "height": 362
        },
        "id": "2JsEAnHcqK2a",
        "outputId": "8907c02b-5774-4137-da0a-b684ffb27699"
      },
      "source": [
        "import seaborn as sns\n",
        "sns.distplot(df['views'])"
      ],
      "execution_count": 20,
      "outputs": [
        {
          "output_type": "stream",
          "name": "stderr",
          "text": [
            "/usr/local/lib/python3.7/dist-packages/seaborn/distributions.py:2619: FutureWarning: `distplot` is a deprecated function and will be removed in a future version. Please adapt your code to use either `displot` (a figure-level function with similar flexibility) or `histplot` (an axes-level function for histograms).\n",
            "  warnings.warn(msg, FutureWarning)\n"
          ]
        },
        {
          "output_type": "execute_result",
          "data": {
            "text/plain": [
              "<matplotlib.axes._subplots.AxesSubplot at 0x7f8e912bebd0>"
            ]
          },
          "metadata": {},
          "execution_count": 20
        },
        {
          "output_type": "display_data",
          "data": {
            "image/png": "[encoded data removed]",
            "text/plain": [
              "<Figure size 432x288 with 1 Axes>"
            ]
          },
          "metadata": {
            "needs_background": "light"
          }
        }
      ]
    },
    {
      "cell_type": "code",
      "metadata": {
        "colab": {
          "base_uri": "https://localhost:8080/"
        },
        "id": "ltp2fT1rq0aT",
        "outputId": "ad2ee20d-7ed8-49b3-fa9c-42ffe477ef1c"
      },
      "source": [
        "eval(df['recorded_date'][0][0:4])"
      ],
      "execution_count": 21,
      "outputs": [
        {
          "output_type": "execute_result",
          "data": {
            "text/plain": [
              "2006"
            ]
          },
          "metadata": {},
          "execution_count": 21
        }
      ]
    },
    {
      "cell_type": "code",
      "metadata": {
        "colab": {
          "base_uri": "https://localhost:8080/",
          "height": 239
        },
        "id": "vPOH1Z49sFd6",
        "outputId": "ee4d9155-f03d-4774-f6a4-487ce12f35d5"
      },
      "source": [
        "df.loc[df['recorded_date'].isnull()]"
      ],
      "execution_count": 22,
      "outputs": [
        {
          "output_type": "execute_result",
          "data": {
            "text/html": [
              "<div>\n",
              "<style scoped>\n",
              "    .dataframe tbody tr th:only-of-type {\n",
              "        vertical-align: middle;\n",
              "    }\n",
              "\n",
              "    .dataframe tbody tr th {\n",
              "        vertical-align: top;\n",
              "    }\n",
              "\n",
              "    .dataframe thead th {\n",
              "        text-align: right;\n",
              "    }\n",
              "</style>\n",
              "<table border=\"1\" class=\"dataframe\">\n",
              "  <thead>\n",
              "    <tr style=\"text-align: right;\">\n",
              "      <th></th>\n",
              "      <th>talk_id</th>\n",
              "      <th>title</th>\n",
              "      <th>speaker_1</th>\n",
              "      <th>all_speakers</th>\n",
              "      <th>occupations</th>\n",
              "      <th>about_speakers</th>\n",
              "      <th>views</th>\n",
              "      <th>recorded_date</th>\n",
              "      <th>published_date</th>\n",
              "      <th>event</th>\n",
              "      <th>native_lang</th>\n",
              "      <th>available_lang</th>\n",
              "      <th>comments</th>\n",
              "      <th>duration</th>\n",
              "      <th>topics</th>\n",
              "      <th>related_talks</th>\n",
              "      <th>url</th>\n",
              "      <th>description</th>\n",
              "      <th>transcript</th>\n",
              "    </tr>\n",
              "  </thead>\n",
              "  <tbody>\n",
              "    <tr>\n",
              "      <th>3831</th>\n",
              "      <td>56629</td>\n",
              "      <td>The unpaid work that GDP ignores -- and why it...</td>\n",
              "      <td>Marilyn Waring</td>\n",
              "      <td>{0: 'Marilyn Waring'}</td>\n",
              "      <td>{0: ['economist']}</td>\n",
              "      <td>{0: 'Marilyn Waring advocates for a public pol...</td>\n",
              "      <td>1276272</td>\n",
              "      <td>NaN</td>\n",
              "      <td>2020-01-23</td>\n",
              "      <td>TEDxChristchurch</td>\n",
              "      <td>en</td>\n",
              "      <td>['en', 'es', 'fr', 'it', 'ko', 'pt', 'tr', 'vi...</td>\n",
              "      <td>20.0</td>\n",
              "      <td>1039</td>\n",
              "      <td>['global development', 'development', 'social ...</td>\n",
              "      <td>{46582: 'Why governments should prioritize wel...</td>\n",
              "      <td>https://www.ted.com/talks/marilyn_waring_the_u...</td>\n",
              "      <td>If you: do laundry, are (or have been) pregnan...</td>\n",
              "      <td>(In Maori: My mountain is Taupiri.) (Waikato i...</td>\n",
              "    </tr>\n",
              "  </tbody>\n",
              "</table>\n",
              "</div>"
            ],
            "text/plain": [
              "      talk_id  ...                                         transcript\n",
              "3831    56629  ...  (In Maori: My mountain is Taupiri.) (Waikato i...\n",
              "\n",
              "[1 rows x 19 columns]"
            ]
          },
          "metadata": {},
          "execution_count": 22
        }
      ]
    },
    {
      "cell_type": "code",
      "metadata": {
        "id": "h6PKloNhsSOD"
      },
      "source": [
        "df['recorded_date'] = np.where(df['recorded_date'].isnull(),'Empty',df['recorded_date'])"
      ],
      "execution_count": 23,
      "outputs": []
    },
    {
      "cell_type": "code",
      "metadata": {
        "id": "qWR8zHmHrSvs"
      },
      "source": [
        "year_list = list()\n",
        "for i in df['recorded_date']:\n",
        "  if i == 'Empty':\n",
        "    pass\n",
        "  else:\n",
        "     year_list.append(eval(i[0:4]))"
      ],
      "execution_count": 24,
      "outputs": []
    },
    {
      "cell_type": "code",
      "metadata": {
        "colab": {
          "base_uri": "https://localhost:8080/"
        },
        "id": "uEpyiVLutXvy",
        "outputId": "f6059cd9-e630-4429-a32c-40926a4ea355"
      },
      "source": [
        "unique_years = list(set(year_list))\n",
        "unique_years"
      ],
      "execution_count": 25,
      "outputs": [
        {
          "output_type": "execute_result",
          "data": {
            "text/plain": [
              "[1984,\n",
              " 1990,\n",
              " 1994,\n",
              " 1998,\n",
              " 2001,\n",
              " 2002,\n",
              " 2003,\n",
              " 2004,\n",
              " 2005,\n",
              " 2006,\n",
              " 2007,\n",
              " 2008,\n",
              " 2009,\n",
              " 2010,\n",
              " 2011,\n",
              " 2012,\n",
              " 2013,\n",
              " 2014,\n",
              " 2015,\n",
              " 2016,\n",
              " 2017,\n",
              " 2018,\n",
              " 2019,\n",
              " 2020]"
            ]
          },
          "metadata": {},
          "execution_count": 25
        }
      ]
    },
    {
      "cell_type": "code",
      "metadata": {
        "colab": {
          "base_uri": "https://localhost:8080/",
          "height": 337
        },
        "id": "s9k61X4lsAvT",
        "outputId": "2d724f3e-2c09-432f-d603-8ebbac8c693f"
      },
      "source": [
        "sns.distplot(year_list)"
      ],
      "execution_count": 26,
      "outputs": [
        {
          "output_type": "stream",
          "name": "stderr",
          "text": [
            "/usr/local/lib/python3.7/dist-packages/seaborn/distributions.py:2619: FutureWarning: `distplot` is a deprecated function and will be removed in a future version. Please adapt your code to use either `displot` (a figure-level function with similar flexibility) or `histplot` (an axes-level function for histograms).\n",
            "  warnings.warn(msg, FutureWarning)\n"
          ]
        },
        {
          "output_type": "execute_result",
          "data": {
            "text/plain": [
              "<matplotlib.axes._subplots.AxesSubplot at 0x7f8e8e950450>"
            ]
          },
          "metadata": {},
          "execution_count": 26
        },
        {
          "output_type": "display_data",
          "data": {
            "image/png": "[encoded data removed]",
            "text/plain": [
              "<Figure size 432x288 with 1 Axes>"
            ]
          },
          "metadata": {
            "needs_background": "light"
          }
        }
      ]
    },
    {
      "cell_type": "code",
      "metadata": {
        "id": "ZsowTEVWs4b3"
      },
      "source": [
        "df['published_date'] = np.where(df['published_date'].isnull(),'Empty',df['published_date'])"
      ],
      "execution_count": 27,
      "outputs": []
    },
    {
      "cell_type": "code",
      "metadata": {
        "id": "2Uam9Et1tu4d"
      },
      "source": [
        "year_list_published = list()\n",
        "for i in df['published_date']:\n",
        "  if i == 'Empty':\n",
        "    pass\n",
        "  else:\n",
        "     year_list_published.append(eval(i[0:4]))"
      ],
      "execution_count": 28,
      "outputs": []
    },
    {
      "cell_type": "code",
      "metadata": {
        "colab": {
          "base_uri": "https://localhost:8080/"
        },
        "id": "4EqjHY89uYLK",
        "outputId": "c04b2378-2d41-4512-d786-dc65c858c959"
      },
      "source": [
        "unique_years_published = list(set(year_list_published))\n",
        "unique_years_published"
      ],
      "execution_count": 29,
      "outputs": [
        {
          "output_type": "execute_result",
          "data": {
            "text/plain": [
              "[2016,\n",
              " 2017,\n",
              " 2018,\n",
              " 2019,\n",
              " 2020,\n",
              " 2006,\n",
              " 2007,\n",
              " 2008,\n",
              " 2009,\n",
              " 2010,\n",
              " 2011,\n",
              " 2012,\n",
              " 2013,\n",
              " 2014,\n",
              " 2015]"
            ]
          },
          "metadata": {},
          "execution_count": 29
        }
      ]
    },
    {
      "cell_type": "code",
      "metadata": {
        "colab": {
          "base_uri": "https://localhost:8080/",
          "height": 337
        },
        "id": "271CN6_Luc-r",
        "outputId": "1e1d66d0-6f63-47fc-d9bb-7efbc54922fc"
      },
      "source": [
        "sns.distplot(year_list_published)"
      ],
      "execution_count": 30,
      "outputs": [
        {
          "output_type": "stream",
          "name": "stderr",
          "text": [
            "/usr/local/lib/python3.7/dist-packages/seaborn/distributions.py:2619: FutureWarning: `distplot` is a deprecated function and will be removed in a future version. Please adapt your code to use either `displot` (a figure-level function with similar flexibility) or `histplot` (an axes-level function for histograms).\n",
            "  warnings.warn(msg, FutureWarning)\n"
          ]
        },
        {
          "output_type": "execute_result",
          "data": {
            "text/plain": [
              "<matplotlib.axes._subplots.AxesSubplot at 0x7f8e8e8ae150>"
            ]
          },
          "metadata": {},
          "execution_count": 30
        },
        {
          "output_type": "display_data",
          "data": {
            "image/png": "[encoded data removed]",
            "text/plain": [
              "<Figure size 432x288 with 1 Axes>"
            ]
          },
          "metadata": {
            "needs_background": "light"
          }
        }
      ]
    },
    {
      "cell_type": "code",
      "metadata": {
        "colab": {
          "base_uri": "https://localhost:8080/"
        },
        "id": "0TbAdLhZuogU",
        "outputId": "66d79faa-1069-4d4c-e09c-16ef4d722b46"
      },
      "source": [
        "df['event'].nunique()"
      ],
      "execution_count": 31,
      "outputs": [
        {
          "output_type": "execute_result",
          "data": {
            "text/plain": [
              "459"
            ]
          },
          "metadata": {},
          "execution_count": 31
        }
      ]
    },
    {
      "cell_type": "code",
      "metadata": {
        "colab": {
          "base_uri": "https://localhost:8080/"
        },
        "id": "gtgLsxvDvMGn",
        "outputId": "12d911d1-c78b-4880-abe5-3e957ffa32de"
      },
      "source": [
        "df['native_lang'].nunique()"
      ],
      "execution_count": 32,
      "outputs": [
        {
          "output_type": "execute_result",
          "data": {
            "text/plain": [
              "12"
            ]
          },
          "metadata": {},
          "execution_count": 32
        }
      ]
    },
    {
      "cell_type": "code",
      "metadata": {
        "colab": {
          "base_uri": "https://localhost:8080/"
        },
        "id": "GMCQPVySvhTU",
        "outputId": "5de6987b-fd9f-4eb4-8aa7-2946b17a5a4c"
      },
      "source": [
        "languages_available = list()\n",
        "for i in df['available_lang']:\n",
        "  for j in eval(i):\n",
        "    languages_available.append(j)\n",
        "len(list(set(languages_available)))"
      ],
      "execution_count": 33,
      "outputs": [
        {
          "output_type": "execute_result",
          "data": {
            "text/plain": [
              "114"
            ]
          },
          "metadata": {},
          "execution_count": 33
        }
      ]
    },
    {
      "cell_type": "code",
      "metadata": {
        "colab": {
          "base_uri": "https://localhost:8080/"
        },
        "id": "_q4-11zZxFOk",
        "outputId": "872fcdf2-8039-4509-bafd-8e1268518fc9"
      },
      "source": [
        "df['comments'].describe()"
      ],
      "execution_count": 34,
      "outputs": [
        {
          "output_type": "execute_result",
          "data": {
            "text/plain": [
              "count    3350.000000\n",
              "mean      161.997015\n",
              "std       268.838922\n",
              "min         0.000000\n",
              "25%        38.000000\n",
              "50%        89.000000\n",
              "75%       188.000000\n",
              "max      6449.000000\n",
              "Name: comments, dtype: float64"
            ]
          },
          "metadata": {},
          "execution_count": 34
        }
      ]
    },
    {
      "cell_type": "code",
      "metadata": {
        "colab": {
          "base_uri": "https://localhost:8080/",
          "height": 353
        },
        "id": "0BdSLzCYvofP",
        "outputId": "d227eff2-a4a1-4fdb-864b-cd1c84079043"
      },
      "source": [
        "sns.distplot(df['comments'])"
      ],
      "execution_count": 35,
      "outputs": [
        {
          "output_type": "stream",
          "name": "stderr",
          "text": [
            "/usr/local/lib/python3.7/dist-packages/seaborn/distributions.py:2619: FutureWarning: `distplot` is a deprecated function and will be removed in a future version. Please adapt your code to use either `displot` (a figure-level function with similar flexibility) or `histplot` (an axes-level function for histograms).\n",
            "  warnings.warn(msg, FutureWarning)\n"
          ]
        },
        {
          "output_type": "execute_result",
          "data": {
            "text/plain": [
              "<matplotlib.axes._subplots.AxesSubplot at 0x7f8e8e74c290>"
            ]
          },
          "metadata": {},
          "execution_count": 35
        },
        {
          "output_type": "display_data",
          "data": {
            "image/png": "[encoded data removed]",
            "text/plain": [
              "<Figure size 432x288 with 1 Axes>"
            ]
          },
          "metadata": {
            "needs_background": "light"
          }
        }
      ]
    },
    {
      "cell_type": "code",
      "metadata": {
        "colab": {
          "base_uri": "https://localhost:8080/"
        },
        "id": "fbECtvOmxhj7",
        "outputId": "68621456-9691-496b-e30b-453cce861d15"
      },
      "source": [
        "df['duration'].describe()"
      ],
      "execution_count": 36,
      "outputs": [
        {
          "output_type": "execute_result",
          "data": {
            "text/plain": [
              "count    4005.000000\n",
              "mean      724.011236\n",
              "std       361.775462\n",
              "min        60.000000\n",
              "25%       393.000000\n",
              "50%       738.000000\n",
              "75%       974.000000\n",
              "max      3922.000000\n",
              "Name: duration, dtype: float64"
            ]
          },
          "metadata": {},
          "execution_count": 36
        }
      ]
    },
    {
      "cell_type": "code",
      "metadata": {
        "colab": {
          "base_uri": "https://localhost:8080/",
          "height": 351
        },
        "id": "53vvmD10xDqb",
        "outputId": "c5eefd55-e0b3-411b-fdd2-60505a76a06e"
      },
      "source": [
        "sns.distplot(df['duration'])"
      ],
      "execution_count": 37,
      "outputs": [
        {
          "output_type": "stream",
          "name": "stderr",
          "text": [
            "/usr/local/lib/python3.7/dist-packages/seaborn/distributions.py:2619: FutureWarning: `distplot` is a deprecated function and will be removed in a future version. Please adapt your code to use either `displot` (a figure-level function with similar flexibility) or `histplot` (an axes-level function for histograms).\n",
            "  warnings.warn(msg, FutureWarning)\n"
          ]
        },
        {
          "output_type": "execute_result",
          "data": {
            "text/plain": [
              "<matplotlib.axes._subplots.AxesSubplot at 0x7f8e8e622c10>"
            ]
          },
          "metadata": {},
          "execution_count": 37
        },
        {
          "output_type": "display_data",
          "data": {
            "image/png": "[encoded data removed]",
            "text/plain": [
              "<Figure size 432x288 with 1 Axes>"
            ]
          },
          "metadata": {
            "needs_background": "light"
          }
        }
      ]
    },
    {
      "cell_type": "code",
      "metadata": {
        "colab": {
          "base_uri": "https://localhost:8080/"
        },
        "id": "86E-XHUxxdAn",
        "outputId": "c2e41bf6-2f5a-407a-c039-e343d6afbf62"
      },
      "source": [
        "topics_list = list()\n",
        "for i in df['topics']:\n",
        "    for j in eval(i):\n",
        "      topics_list.append(j)\n",
        "unique_topics_list_list = list(set(topics_list))\n",
        "len(unique_topics_list_list)"
      ],
      "execution_count": 38,
      "outputs": [
        {
          "output_type": "execute_result",
          "data": {
            "text/plain": [
              "457"
            ]
          },
          "metadata": {},
          "execution_count": 38
        }
      ]
    },
    {
      "cell_type": "code",
      "metadata": {
        "colab": {
          "base_uri": "https://localhost:8080/",
          "height": 53
        },
        "id": "mq5Wj1AIx2em",
        "outputId": "afc1f3cb-9bea-46b2-a959-676843120df4"
      },
      "source": [
        "df['related_talks'][0]"
      ],
      "execution_count": 39,
      "outputs": [
        {
          "output_type": "execute_result",
          "data": {
            "application/vnd.google.colaboratory.intrinsic+json": {
              "type": "string"
            },
            "text/plain": [
              "'{243: \\'New thinking on the climate crisis\\', 547: \\'The business logic of sustainability\\', 2093: \\'The state of the climate — and what we might do about it\\', 54715: \\'How we can turn the tide on climate\\', 29968: \\'The most important thing you can do to fight climate change: talk about it\\', 2339: \"Climate change is happening. Here\\'s how we adapt\"}'"
            ]
          },
          "metadata": {},
          "execution_count": 39
        }
      ]
    },
    {
      "cell_type": "code",
      "metadata": {
        "colab": {
          "base_uri": "https://localhost:8080/",
          "height": 53
        },
        "id": "MiTKTZBQzJtl",
        "outputId": "c59764bc-5150-46c4-e44e-ee870ace2adf"
      },
      "source": [
        "df['description'][0]"
      ],
      "execution_count": 40,
      "outputs": [
        {
          "output_type": "execute_result",
          "data": {
            "application/vnd.google.colaboratory.intrinsic+json": {
              "type": "string"
            },
            "text/plain": [
              "'With the same humor and humanity he exuded in \"An Inconvenient Truth,\" Al Gore spells out 15 ways that individuals can address climate change immediately, from buying a hybrid to inventing a new, hotter brand name for global warming.'"
            ]
          },
          "metadata": {},
          "execution_count": 40
        }
      ]
    },
    {
      "cell_type": "code",
      "metadata": {
        "colab": {
          "base_uri": "https://localhost:8080/",
          "height": 122
        },
        "id": "fq6NkqW7zVKh",
        "outputId": "b95f3add-9645-4b03-d35d-3f78f5e63775"
      },
      "source": [
        "df['transcript'][0]"
      ],
      "execution_count": 41,
      "outputs": [
        {
          "output_type": "execute_result",
          "data": {
            "application/vnd.google.colaboratory.intrinsic+json": {
              "type": "string"
            },
            "text/plain": [
              "'Thank you so much, Chris. And it\\'s truly a great honor to have the opportunity to come to this stage twice; I\\'m extremely grateful. I have been blown away by this conference, and I want to thank all of you for the many nice comments about what I had to say the other night. And I say that sincerely, partly because (Mock sob) I need that. (Laughter) Put yourselves in my position. (Laughter) I flew on Air Force Two for eight years. (Laughter) Now I have to take off my shoes or boots to get on an airplane! (Laughter) (Applause) I\\'ll tell you one quick story to illustrate what that\\'s been like for me. (Laughter) It\\'s a true story — every bit of this is true. Soon after Tipper and I left the — (Mock sob) White House — (Laughter) we were driving from our home in Nashville to a little farm we have 50 miles east of Nashville. Driving ourselves. (Laughter) I know it sounds like a little thing to you, but — (Laughter) I looked in the rear-view mirror and all of a sudden it just hit me. There was no motorcade back there. (Laughter) You\\'ve heard of phantom limb pain? (Laughter) This was a rented Ford Taurus. (Laughter) It was dinnertime, and we started looking for a place to eat. We were on I-40. We got to Exit 238, Lebanon, Tennessee. We got off the exit, we found a Shoney\\'s restaurant. Low-cost family restaurant chain, for those of you who don\\'t know it. We went in and sat down at the booth, and the waitress came over, made a big commotion over Tipper. (Laughter) She took our order, and then went to the couple in the booth next to us, and she lowered her voice so much, I had to really strain to hear what she was saying. And she said \"Yes, that\\'s former Vice President Al Gore and his wife, Tipper.\" And the man said, \"He\\'s come down a long way, hasn\\'t he?\" (Laughter) (Applause) There\\'s been kind of a series of epiphanies. (Laughter) The very next day, continuing the totally true story, I got on a G-V to fly to Africa to make a speech in Nigeria, in the city of Lagos, on the topic of energy. And I began the speech by telling them the story of what had just happened the day before in Nashville. And I told it pretty much the same way I\\'ve just shared it with you: Tipper and I were driving ourselves, Shoney\\'s, low-cost family restaurant chain, what the man said — they laughed. I gave my speech, then went back out to the airport to fly back home. I fell asleep on the plane until, during the middle of the night, we landed on the Azores Islands for refueling. I woke up, they opened the door, I went out to get some fresh air, and I looked, and there was a man running across the runway. And he was waving a piece of paper, and he was yelling, \"Call Washington! Call Washington!\" And I thought to myself, in the middle of the night, in the middle of the Atlantic, what in the world could be wrong in Washington? Then I remembered it could be a bunch of things. (Laughter) But what it turned out to be, was that my staff was extremely upset because one of the wire services in Nigeria had already written a story about my speech, and it had already been printed in cities all across the United States of America. It was printed in Monterey, I checked. (Laughter) And the story began, \"Former Vice President Al Gore announced in Nigeria yesterday,\" quote: \\'My wife Tipper and I have opened a low-cost family restaurant\\'\" — (Laughter) \"\\'named Shoney\\'s, and we are running it ourselves.\\'\" (Laughter) Before I could get back to U.S. soil, David Letterman and Jay Leno had already started in on — one of them had me in a big white chef\\'s hat, Tipper was saying, \"One more burger with fries!\" (Laughter) Three days later, I got a nice, long, handwritten letter from my friend and partner and colleague Bill Clinton, saying, \"Congratulations on the new restaurant, Al!\" (Laughter) We like to celebrate each other\\'s successes in life. (Laughter) I was going to talk about information ecology. But I was thinking that, since I plan to make a lifelong habit of coming back to TED, that maybe I could talk about that another time. (Applause) Chris Anderson: It\\'s a deal! (Applause) Al Gore: I want to focus on what many of you have said you would like me to elaborate on: What can you do about the climate crisis? I want to start with a couple of — I\\'m going to show some new images, and I\\'m going to recapitulate just four or five. Now, the slide show. I update the slide show every time I give it. I add new images, because I learn more about it every time I give it. It\\'s like beach-combing, you know? Every time the tide comes in and out, you find some more shells. Just in the last two days, we got the new temperature records in January. This is just for the United States of America. Historical average for Januarys is 31 degrees; last month was 39.5 degrees. Now, I know that you wanted some more bad news about the environment — I\\'m kidding. But these are the recapitulation slides, and then I\\'m going to go into new material about what you can do. But I wanted to elaborate on a couple of these. First of all, this is where we\\'re projected to go with the U.S. contribution to global warming, under business as usual. Efficiency in end-use electricity and end-use of all energy is the low-hanging fruit. Efficiency and conservation — it\\'s not a cost; it\\'s a profit. The sign is wrong. It\\'s not negative; it\\'s positive. These are investments that pay for themselves. But they are also very effective in deflecting our path. Cars and trucks — I talked about that in the slideshow, but I want you to put it in perspective. It\\'s an easy, visible target of concern — and it should be — but there is more global warming pollution that comes from buildings than from cars and trucks. Cars and trucks are very significant, and we have the lowest standards in the world. And so we should address that. But it\\'s part of the puzzle. Other transportation efficiency is as important as cars and trucks. Renewables at the current levels of technological efficiency can make this much difference. And with what Vinod, and John Doerr and others, many of you here — there are a lot of people directly involved in this — this wedge is going to grow much more rapidly than the current projection shows it. Carbon Capture and Sequestration — that\\'s what CCS stands for — is likely to become the killer app that will enable us to continue to use fossil fuels in a way that is safe. Not quite there yet. OK. Now, what can you do? Reduce emissions in your home. Most of these expenditures are also profitable. Insulation, better design. Buy green electricity where you can. I mentioned automobiles — buy a hybrid. Use light rail. Figure out some of the other options that are much better. It\\'s important. Be a green consumer. You have choices with everything you buy, between things that have a harsh effect, or a much less harsh effect on the global climate crisis. Consider this: Make a decision to live a carbon-neutral life. Those of you who are good at branding, I\\'d love to get your advice and help on how to say this in a way that connects with the most people. It is easier than you think. It really is. A lot of us in here have made that decision, and it is really pretty easy. It means reduce your carbon dioxide emissions with the full range of choices that you make, and then purchase or acquire offsets for the remainder that you have not completely reduced. And what it means is elaborated at climatecrisis.net. There is a carbon calculator. Participant Productions convened — with my active involvement — the leading software writers in the world, on this arcane science of carbon calculation, to construct a consumer-friendly carbon calculator. You can very precisely calculate what your CO2 emissions are, and then you will be given options to reduce. And by the time the movie comes out in May, this will be updated to 2.0, and we will have click-through purchases of offsets. Next, consider making your business carbon-neutral. Again, some of us have done that, and it\\'s not as hard as you think. Integrate climate solutions into all of your innovations, whether you are from the technology, or entertainment, or design and architecture community. Invest sustainably. Majora mentioned this. Listen, if you have invested money with managers who you compensate on the basis of their annual performance, don\\'t ever again complain about quarterly report CEO management. Over time, people do what you pay them to do. And if they judge how much they\\'re going to get paid on your capital that they\\'ve invested, based on the short-term returns, you\\'re going to get short-term decisions. A lot more to be said about that. Become a catalyst of change. Teach others, learn about it, talk about it. The movie is a movie version of the slideshow I gave two nights ago, except it\\'s a lot more entertaining. And it comes out in May. Many of you here have the opportunity to ensure that a lot of people see it. Consider sending somebody to Nashville. Pick well. And I am personally going to train people to give this slideshow — re-purposed, with some of the personal stories obviously replaced with a generic approach, and it\\'s not just the slides, it\\'s what they mean. And it\\'s how they link together. And so I\\'m going to be conducting a course this summer for a group of people that are nominated by different folks to come and then give it en masse, in communities all across the country, and we\\'re going to update the slideshow for all of them every single week, to keep it right on the cutting edge. Working with Larry Lessig, it will be, somewhere in that process, posted with tools and limited-use copyrights, so that young people can remix it and do it in their own way. (Applause) Where did anybody get the idea that you ought to stay arm\\'s length from politics? It doesn\\'t mean that if you\\'re a Republican, that I\\'m trying to convince you to be a Democrat. We need Republicans as well. This used to be a bipartisan issue, and I know that in this group it really is. Become politically active. Make our democracy work the way it\\'s supposed to work. Support the idea of capping carbon dioxide emissions — global warming pollution — and trading it. Here\\'s why: as long as the United States is out of the world system, it\\'s not a closed system. Once it becomes a closed system, with U.S. participation, then everybody who\\'s on a board of directors — how many people here serve on the board of directors of a corporation? Once it\\'s a closed system, you will have legal liability if you do not urge your CEO to get the maximum income from reducing and trading the carbon emissions that can be avoided. The market will work to solve this problem — if we can accomplish this. Help with the mass persuasion campaign that will start this spring. We have to change the minds of the American people. Because presently, the politicians do not have permission to do what needs to be done. And in our modern country, the role of logic and reason no longer includes mediating between wealth and power the way it once did. It\\'s now repetition of short, hot-button, 30-second, 28-second television ads. We have to buy a lot of those ads. Let\\'s re-brand global warming, as many of you have suggested. I like \"climate crisis\" instead of \"climate collapse,\" but again, those of you who are good at branding, I need your help on this. Somebody said the test we\\'re facing now, a scientist told me, is whether the combination of an opposable thumb and a neocortex is a viable combination. (Laughter) That\\'s really true. I said the other night, and I\\'ll repeat now: this is not a political issue. Again, the Republicans here — this shouldn\\'t be partisan. You have more influence than some of us who are Democrats do. This is an opportunity. Not just this, but connected to the ideas that are here, to bring more coherence to them. We are one. Thank you very much, I appreciate it. (Applause)'"
            ]
          },
          "metadata": {},
          "execution_count": 41
        }
      ]
    },
    {
      "cell_type": "markdown",
      "metadata": {
        "id": "TkF-rHx1VfRf"
      },
      "source": [
        "## **BIVARIATE ANALYSIS**"
      ]
    },
    {
      "cell_type": "code",
      "metadata": {
        "id": "Soy745FdzdnS"
      },
      "source": [
        "highest_views_first_speakers = df.groupby('speaker_1')['views'].mean().sort_values(ascending=False).head(10)"
      ],
      "execution_count": 42,
      "outputs": []
    },
    {
      "cell_type": "code",
      "metadata": {
        "colab": {
          "base_uri": "https://localhost:8080/",
          "height": 254
        },
        "id": "-goipwFoVyak",
        "outputId": "d792b62e-870e-45f8-e2bf-1a1bb7c9271d"
      },
      "source": [
        "plt.rcParams['figure.figsize'] = (20,3)\n",
        "plt.bar(highest_views_first_speakers.index , highest_views_first_speakers.values)\n",
        "plt.xlabel('Speakers')\n",
        "plt.ylabel('average_views')"
      ],
      "execution_count": 43,
      "outputs": [
        {
          "output_type": "execute_result",
          "data": {
            "text/plain": [
              "Text(0, 0.5, 'average_views')"
            ]
          },
          "metadata": {},
          "execution_count": 43
        },
        {
          "output_type": "display_data",
          "data": {
            "image/png": "[encoded data removed]",
            "text/plain": [
              "<Figure size 1440x216 with 1 Axes>"
            ]
          },
          "metadata": {
            "needs_background": "light"
          }
        }
      ]
    },
    {
      "cell_type": "code",
      "metadata": {
        "id": "OjeVavYpcH6n"
      },
      "source": [
        "df_copy = df.copy()\n",
        "df_copy['all_speakers'] = df_copy['all_speakers'].apply(lambda x: eval(x) if x!='Empty' else 'Empty')\n",
        "df_copy['all_speakers'] = df_copy['all_speakers'].apply(lambda x: len(x.items()) if x!='Empty' else 'Empty')"
      ],
      "execution_count": 44,
      "outputs": []
    },
    {
      "cell_type": "code",
      "metadata": {
        "id": "RZbBjS2-gyie"
      },
      "source": [
        "num_speakers_views = df_copy.groupby('all_speakers')['views'].mean().sort_values(ascending=False)"
      ],
      "execution_count": 45,
      "outputs": []
    },
    {
      "cell_type": "code",
      "metadata": {
        "id": "iRS3oXSkiLQH"
      },
      "source": [
        "num_speakers_views_filtered = num_speakers_views.loc[num_speakers_views.index !='Empty']"
      ],
      "execution_count": 46,
      "outputs": []
    },
    {
      "cell_type": "code",
      "metadata": {
        "colab": {
          "base_uri": "https://localhost:8080/",
          "height": 254
        },
        "id": "GVQnUO8ghDZL",
        "outputId": "b9010c72-faae-4035-d347-6f261eea5cf0"
      },
      "source": [
        "plt.rcParams['figure.figsize'] = (10,3)\n",
        "plt.bar(num_speakers_views_filtered.index , num_speakers_views_filtered.values)\n",
        "plt.xlabel('Number_of_Speakers')\n",
        "plt.ylabel('average_views')"
      ],
      "execution_count": 47,
      "outputs": [
        {
          "output_type": "execute_result",
          "data": {
            "text/plain": [
              "Text(0, 0.5, 'average_views')"
            ]
          },
          "metadata": {},
          "execution_count": 47
        },
        {
          "output_type": "display_data",
          "data": {
            "image/png": "[encoded data removed]",
            "text/plain": [
              "<Figure size 720x216 with 1 Axes>"
            ]
          },
          "metadata": {
            "needs_background": "light"
          }
        }
      ]
    },
    {
      "cell_type": "code",
      "metadata": {
        "id": "o52-tv4x3LeJ"
      },
      "source": [
        "from datetime import date"
      ],
      "execution_count": 48,
      "outputs": []
    },
    {
      "cell_type": "code",
      "metadata": {
        "colab": {
          "base_uri": "https://localhost:8080/"
        },
        "id": "P0UkrPYo7JXg",
        "outputId": "19271063-615e-4aaf-e4fc-7f5b40363b5e"
      },
      "source": [
        "date.fromisoformat('2021-11-17') - date.fromisoformat('2006-02-27') "
      ],
      "execution_count": 49,
      "outputs": [
        {
          "output_type": "execute_result",
          "data": {
            "text/plain": [
              "datetime.timedelta(days=5742)"
            ]
          },
          "metadata": {},
          "execution_count": 49
        }
      ]
    },
    {
      "cell_type": "code",
      "metadata": {
        "id": "fEy8fTfu7OfU"
      },
      "source": [
        "df_copy['published_date'] = df_copy['published_date'].apply(lambda x:date.fromisoformat(x))"
      ],
      "execution_count": 50,
      "outputs": []
    },
    {
      "cell_type": "code",
      "metadata": {
        "id": "ZJ45Uf6kk9s_"
      },
      "source": [
        "most_recent_date = df_copy['published_date'].max()"
      ],
      "execution_count": 51,
      "outputs": []
    },
    {
      "cell_type": "code",
      "metadata": {
        "colab": {
          "base_uri": "https://localhost:8080/"
        },
        "id": "nxk2VTEYlvOx",
        "outputId": "194f4590-be62-4692-ed4b-77c426b36ffc"
      },
      "source": [
        "most_recent_date"
      ],
      "execution_count": 52,
      "outputs": [
        {
          "output_type": "execute_result",
          "data": {
            "text/plain": [
              "datetime.date(2020, 4, 30)"
            ]
          },
          "metadata": {},
          "execution_count": 52
        }
      ]
    },
    {
      "cell_type": "code",
      "metadata": {
        "id": "CQxJrAcklQfc"
      },
      "source": [
        "for i in df_copy['published_date']:\n",
        "      df_copy['avg_views_per_day'] = df_copy['views']/((most_recent_date - i).days)"
      ],
      "execution_count": 53,
      "outputs": []
    },
    {
      "cell_type": "code",
      "metadata": {
        "id": "mxywn26nmDr8"
      },
      "source": [
        "df_copy.drop('avg_views_per_day',axis=1,inplace=True)"
      ],
      "execution_count": 54,
      "outputs": []
    },
    {
      "cell_type": "code",
      "metadata": {
        "id": "QETgqy_Emn9s"
      },
      "source": [
        "top_10_events_views = df.groupby('event')['views'].mean().sort_values(ascending=False).head(10)"
      ],
      "execution_count": 55,
      "outputs": []
    },
    {
      "cell_type": "code",
      "metadata": {
        "colab": {
          "base_uri": "https://localhost:8080/",
          "height": 210
        },
        "id": "mAGFmQMzm4Et",
        "outputId": "60e62906-722d-4c5e-e500-8dd79467ed7a"
      },
      "source": [
        "plt.rcParams['figure.figsize'] = (29,3) \n",
        "plt.bar(top_10_events_views.index,top_10_events_views.values)"
      ],
      "execution_count": 56,
      "outputs": [
        {
          "output_type": "execute_result",
          "data": {
            "text/plain": [
              "<BarContainer object of 10 artists>"
            ]
          },
          "metadata": {},
          "execution_count": 56
        },
        {
          "output_type": "display_data",
          "data": {
            "image/png": "[encoded data removed]",
            "text/plain": [
              "<Figure size 2088x216 with 1 Axes>"
            ]
          },
          "metadata": {
            "needs_background": "light"
          }
        }
      ]
    },
    {
      "cell_type": "code",
      "metadata": {
        "id": "s8guDzkcpiDp"
      },
      "source": [
        "native_language_views = df.groupby('native_lang')['views'].mean().sort_values(ascending=False)"
      ],
      "execution_count": 57,
      "outputs": []
    },
    {
      "cell_type": "code",
      "metadata": {
        "id": "u-b6hcuupsb5"
      },
      "source": [
        "sum_mean = native_language_views.values.sum()"
      ],
      "execution_count": 58,
      "outputs": []
    },
    {
      "cell_type": "code",
      "metadata": {
        "colab": {
          "base_uri": "https://localhost:8080/",
          "height": 201
        },
        "id": "b2mkMSUPnUka",
        "outputId": "86bf4ad5-a9d4-4da8-f542-e7e1188ddfd0"
      },
      "source": [
        "plt.rcParams['figure.figsize'] = (29,3) \n",
        "plt.bar(native_language_views.index,(native_language_views.values/sum_mean)*100)"
      ],
      "execution_count": 59,
      "outputs": [
        {
          "output_type": "execute_result",
          "data": {
            "text/plain": [
              "<BarContainer object of 12 artists>"
            ]
          },
          "metadata": {},
          "execution_count": 59
        },
        {
          "output_type": "display_data",
          "data": {
            "image/png": "[encoded data removed]",
            "text/plain": [
              "<Figure size 2088x216 with 1 Axes>"
            ]
          },
          "metadata": {
            "needs_background": "light"
          }
        }
      ]
    },
    {
      "cell_type": "code",
      "metadata": {
        "id": "5VRnBYU7oLpE"
      },
      "source": [
        "df_copy['available_lang'] = df_copy['available_lang'].apply(lambda x:eval(x))"
      ],
      "execution_count": 60,
      "outputs": []
    },
    {
      "cell_type": "code",
      "metadata": {
        "id": "G6g6s-kcrzVu"
      },
      "source": [
        "df_copy['available_lang'] = df_copy['available_lang'].apply(lambda x:len(x))"
      ],
      "execution_count": 61,
      "outputs": []
    },
    {
      "cell_type": "code",
      "metadata": {
        "id": "LGIU7F9xr_wg"
      },
      "source": [
        "available_lang_views = df_copy.groupby('available_lang')['views'].mean()"
      ],
      "execution_count": 62,
      "outputs": []
    },
    {
      "cell_type": "code",
      "metadata": {
        "colab": {
          "base_uri": "https://localhost:8080/",
          "height": 254
        },
        "id": "cnGAZm3bsSzB",
        "outputId": "89606ef2-d221-46c2-ed25-d8a6e3a49068"
      },
      "source": [
        "plt.rcParams['figure.figsize'] = (10,3) \n",
        "plt.plot(available_lang_views.index,available_lang_views.values)\n",
        "plt.xlabel('number of available languages')\n",
        "plt.ylabel('avg_views')"
      ],
      "execution_count": 63,
      "outputs": [
        {
          "output_type": "execute_result",
          "data": {
            "text/plain": [
              "Text(0, 0.5, 'avg_views')"
            ]
          },
          "metadata": {},
          "execution_count": 63
        },
        {
          "output_type": "display_data",
          "data": {
            "image/png": "[encoded data removed]",
            "text/plain": [
              "<Figure size 720x216 with 1 Axes>"
            ]
          },
          "metadata": {
            "needs_background": "light"
          }
        }
      ]
    },
    {
      "cell_type": "code",
      "metadata": {
        "colab": {
          "base_uri": "https://localhost:8080/",
          "height": 1000
        },
        "id": "XzbUx3I4vMEy",
        "outputId": "cffee027-2138-496e-fc1c-01722ee483b4"
      },
      "source": [
        "df"
      ],
      "execution_count": 64,
      "outputs": [
        {
          "output_type": "execute_result",
          "data": {
            "text/html": [
              "<div>\n",
              "<style scoped>\n",
              "    .dataframe tbody tr th:only-of-type {\n",
              "        vertical-align: middle;\n",
              "    }\n",
              "\n",
              "    .dataframe tbody tr th {\n",
              "        vertical-align: top;\n",
              "    }\n",
              "\n",
              "    .dataframe thead th {\n",
              "        text-align: right;\n",
              "    }\n",
              "</style>\n",
              "<table border=\"1\" class=\"dataframe\">\n",
              "  <thead>\n",
              "    <tr style=\"text-align: right;\">\n",
              "      <th></th>\n",
              "      <th>talk_id</th>\n",
              "      <th>title</th>\n",
              "      <th>speaker_1</th>\n",
              "      <th>all_speakers</th>\n",
              "      <th>occupations</th>\n",
              "      <th>about_speakers</th>\n",
              "      <th>views</th>\n",
              "      <th>recorded_date</th>\n",
              "      <th>published_date</th>\n",
              "      <th>event</th>\n",
              "      <th>native_lang</th>\n",
              "      <th>available_lang</th>\n",
              "      <th>comments</th>\n",
              "      <th>duration</th>\n",
              "      <th>topics</th>\n",
              "      <th>related_talks</th>\n",
              "      <th>url</th>\n",
              "      <th>description</th>\n",
              "      <th>transcript</th>\n",
              "    </tr>\n",
              "  </thead>\n",
              "  <tbody>\n",
              "    <tr>\n",
              "      <th>0</th>\n",
              "      <td>1</td>\n",
              "      <td>Averting the climate crisis</td>\n",
              "      <td>Al Gore</td>\n",
              "      <td>{0: 'Al Gore'}</td>\n",
              "      <td>{0: ['climate advocate']}</td>\n",
              "      <td>{0: 'Nobel Laureate Al Gore focused the world’...</td>\n",
              "      <td>3523392</td>\n",
              "      <td>2006-02-25</td>\n",
              "      <td>2006-06-27</td>\n",
              "      <td>TED2006</td>\n",
              "      <td>en</td>\n",
              "      <td>['ar', 'bg', 'cs', 'de', 'el', 'en', 'es', 'fa...</td>\n",
              "      <td>272.0</td>\n",
              "      <td>977</td>\n",
              "      <td>['alternative energy', 'cars', 'climate change...</td>\n",
              "      <td>{243: 'New thinking on the climate crisis', 54...</td>\n",
              "      <td>https://www.ted.com/talks/al_gore_averting_the...</td>\n",
              "      <td>With the same humor and humanity he exuded in ...</td>\n",
              "      <td>Thank you so much, Chris. And it's truly a gre...</td>\n",
              "    </tr>\n",
              "    <tr>\n",
              "      <th>1</th>\n",
              "      <td>92</td>\n",
              "      <td>The best stats you've ever seen</td>\n",
              "      <td>Hans Rosling</td>\n",
              "      <td>{0: 'Hans Rosling'}</td>\n",
              "      <td>{0: ['global health expert; data visionary']}</td>\n",
              "      <td>{0: 'In Hans Rosling’s hands, data sings. Glob...</td>\n",
              "      <td>14501685</td>\n",
              "      <td>2006-02-22</td>\n",
              "      <td>2006-06-27</td>\n",
              "      <td>TED2006</td>\n",
              "      <td>en</td>\n",
              "      <td>['ar', 'az', 'bg', 'bn', 'bs', 'cs', 'da', 'de...</td>\n",
              "      <td>628.0</td>\n",
              "      <td>1190</td>\n",
              "      <td>['Africa', 'Asia', 'Google', 'demo', 'economic...</td>\n",
              "      <td>{2056: \"Own your body's data\", 2296: 'A visual...</td>\n",
              "      <td>https://www.ted.com/talks/hans_rosling_the_bes...</td>\n",
              "      <td>You've never seen data presented like this. Wi...</td>\n",
              "      <td>About 10 years ago, I took on the task to teac...</td>\n",
              "    </tr>\n",
              "    <tr>\n",
              "      <th>2</th>\n",
              "      <td>7</td>\n",
              "      <td>Simplicity sells</td>\n",
              "      <td>David Pogue</td>\n",
              "      <td>{0: 'David Pogue'}</td>\n",
              "      <td>{0: ['technology columnist']}</td>\n",
              "      <td>{0: 'David Pogue is the personal technology co...</td>\n",
              "      <td>1920832</td>\n",
              "      <td>2006-02-24</td>\n",
              "      <td>2006-06-27</td>\n",
              "      <td>TED2006</td>\n",
              "      <td>en</td>\n",
              "      <td>['ar', 'bg', 'de', 'el', 'en', 'es', 'fa', 'fr...</td>\n",
              "      <td>124.0</td>\n",
              "      <td>1286</td>\n",
              "      <td>['computers', 'entertainment', 'interface desi...</td>\n",
              "      <td>{1725: '10 top time-saving tech tips', 2274: '...</td>\n",
              "      <td>https://www.ted.com/talks/david_pogue_simplici...</td>\n",
              "      <td>New York Times columnist David Pogue takes aim...</td>\n",
              "      <td>(Music: \"The Sound of Silence,\" Simon &amp; Garfun...</td>\n",
              "    </tr>\n",
              "    <tr>\n",
              "      <th>3</th>\n",
              "      <td>53</td>\n",
              "      <td>Greening the ghetto</td>\n",
              "      <td>Majora Carter</td>\n",
              "      <td>{0: 'Majora Carter'}</td>\n",
              "      <td>{0: ['activist for environmental justice']}</td>\n",
              "      <td>{0: 'Majora Carter redefined the field of envi...</td>\n",
              "      <td>2664069</td>\n",
              "      <td>2006-02-26</td>\n",
              "      <td>2006-06-27</td>\n",
              "      <td>TED2006</td>\n",
              "      <td>en</td>\n",
              "      <td>['ar', 'bg', 'bn', 'ca', 'cs', 'de', 'en', 'es...</td>\n",
              "      <td>219.0</td>\n",
              "      <td>1116</td>\n",
              "      <td>['MacArthur grant', 'activism', 'business', 'c...</td>\n",
              "      <td>{1041: '3 stories of local eco-entrepreneurshi...</td>\n",
              "      <td>https://www.ted.com/talks/majora_carter_greeni...</td>\n",
              "      <td>In an emotionally charged talk, MacArthur-winn...</td>\n",
              "      <td>If you're here today — and I'm very happy that...</td>\n",
              "    </tr>\n",
              "    <tr>\n",
              "      <th>4</th>\n",
              "      <td>66</td>\n",
              "      <td>Do schools kill creativity?</td>\n",
              "      <td>Sir Ken Robinson</td>\n",
              "      <td>{0: 'Sir Ken Robinson'}</td>\n",
              "      <td>{0: ['author', 'educator']}</td>\n",
              "      <td>{0: \"Creativity expert Sir Ken Robinson challe...</td>\n",
              "      <td>65051954</td>\n",
              "      <td>2006-02-25</td>\n",
              "      <td>2006-06-27</td>\n",
              "      <td>TED2006</td>\n",
              "      <td>en</td>\n",
              "      <td>['af', 'ar', 'az', 'be', 'bg', 'bn', 'ca', 'cs...</td>\n",
              "      <td>4931.0</td>\n",
              "      <td>1164</td>\n",
              "      <td>['children', 'creativity', 'culture', 'dance',...</td>\n",
              "      <td>{865: 'Bring on the learning revolution!', 173...</td>\n",
              "      <td>https://www.ted.com/talks/sir_ken_robinson_do_...</td>\n",
              "      <td>Sir Ken Robinson makes an entertaining and pro...</td>\n",
              "      <td>Good morning. How are you? (Audience) Good. It...</td>\n",
              "    </tr>\n",
              "    <tr>\n",
              "      <th>...</th>\n",
              "      <td>...</td>\n",
              "      <td>...</td>\n",
              "      <td>...</td>\n",
              "      <td>...</td>\n",
              "      <td>...</td>\n",
              "      <td>...</td>\n",
              "      <td>...</td>\n",
              "      <td>...</td>\n",
              "      <td>...</td>\n",
              "      <td>...</td>\n",
              "      <td>...</td>\n",
              "      <td>...</td>\n",
              "      <td>...</td>\n",
              "      <td>...</td>\n",
              "      <td>...</td>\n",
              "      <td>...</td>\n",
              "      <td>...</td>\n",
              "      <td>...</td>\n",
              "      <td>...</td>\n",
              "    </tr>\n",
              "    <tr>\n",
              "      <th>4000</th>\n",
              "      <td>62678</td>\n",
              "      <td>Crisis support for the world, one text away</td>\n",
              "      <td>Nancy Lublin</td>\n",
              "      <td>{0: 'Nancy Lublin'}</td>\n",
              "      <td>{0: ['health activist']}</td>\n",
              "      <td>{0: 'Nancy Lublin, cofounder and CEO of Crisis...</td>\n",
              "      <td>502934</td>\n",
              "      <td>2020-04-22</td>\n",
              "      <td>2020-04-27</td>\n",
              "      <td>TED2020: The Prequel</td>\n",
              "      <td>en</td>\n",
              "      <td>['en']</td>\n",
              "      <td>6.0</td>\n",
              "      <td>690</td>\n",
              "      <td>['activism', 'data', 'technology', 'mental hea...</td>\n",
              "      <td>{2362: 'How data from a crisis text line is sa...</td>\n",
              "      <td>https://www.ted.com/talks/nancy_lublin_crisis_...</td>\n",
              "      <td>What if we could help people in crisis anytime...</td>\n",
              "      <td>\"I'm 14, and I want to go home.\" \"My name is B...</td>\n",
              "    </tr>\n",
              "    <tr>\n",
              "      <th>4001</th>\n",
              "      <td>62782</td>\n",
              "      <td>The dark history of IQ tests</td>\n",
              "      <td>Stefan C Dombrowski</td>\n",
              "      <td>{0: 'Stefan C Dombrowski'}</td>\n",
              "      <td>Empty</td>\n",
              "      <td>NaN</td>\n",
              "      <td>307187</td>\n",
              "      <td>2020-04-27</td>\n",
              "      <td>2020-04-27</td>\n",
              "      <td>TED-Ed</td>\n",
              "      <td>en</td>\n",
              "      <td>['en', 'es', 'my', 'pt-br']</td>\n",
              "      <td>NaN</td>\n",
              "      <td>346</td>\n",
              "      <td>['TED-Ed', 'education', 'history', 'animation'...</td>\n",
              "      <td>{35386: 'How does the Rorschach inkblot test w...</td>\n",
              "      <td>https://www.ted.com/talks/stefan_c_dombrowski_...</td>\n",
              "      <td>In 1905, psychologists Alfred Binet and Théodo...</td>\n",
              "      <td>In 1905, psychologists Alfred Binet and Théodo...</td>\n",
              "    </tr>\n",
              "    <tr>\n",
              "      <th>4002</th>\n",
              "      <td>62263</td>\n",
              "      <td>How \"policing for profit\" undermines your rights</td>\n",
              "      <td>Dick M. Carpenter II</td>\n",
              "      <td>{0: 'Dick M. Carpenter II'}</td>\n",
              "      <td>{0: ['law researcher']}</td>\n",
              "      <td>{0: 'Dick M. Carpenter II studies cutting edge...</td>\n",
              "      <td>464414</td>\n",
              "      <td>2019-06-22</td>\n",
              "      <td>2020-04-28</td>\n",
              "      <td>TEDxMileHigh</td>\n",
              "      <td>en</td>\n",
              "      <td>['en']</td>\n",
              "      <td>9.0</td>\n",
              "      <td>774</td>\n",
              "      <td>['society', 'law', 'policy', 'justice system',...</td>\n",
              "      <td>{2406: 'I love being a police officer, but we ...</td>\n",
              "      <td>https://www.ted.com/talks/dick_m_carpenter_ii_...</td>\n",
              "      <td>Many countries have an active, centuries-old l...</td>\n",
              "      <td>Picture yourself driving down the road tomorro...</td>\n",
              "    </tr>\n",
              "    <tr>\n",
              "      <th>4003</th>\n",
              "      <td>62784</td>\n",
              "      <td>The electrifying speeches of Sojourner Truth</td>\n",
              "      <td>Daina Ramey Berry</td>\n",
              "      <td>{0: 'Daina Ramey Berry'}</td>\n",
              "      <td>Empty</td>\n",
              "      <td>NaN</td>\n",
              "      <td>56582</td>\n",
              "      <td>2020-04-28</td>\n",
              "      <td>2020-04-30</td>\n",
              "      <td>TED-Ed</td>\n",
              "      <td>en</td>\n",
              "      <td>['en']</td>\n",
              "      <td>NaN</td>\n",
              "      <td>257</td>\n",
              "      <td>['TED-Ed', 'education', 'animation', 'United S...</td>\n",
              "      <td>{20973: 'The breathtaking courage of Harriet T...</td>\n",
              "      <td>https://www.ted.com/talks/daina_ramey_berry_th...</td>\n",
              "      <td>Isabella Baumfree was born into slavery in lat...</td>\n",
              "      <td>In early 1828, Sojourner Truth approached the ...</td>\n",
              "    </tr>\n",
              "    <tr>\n",
              "      <th>4004</th>\n",
              "      <td>62794</td>\n",
              "      <td>The most important anus in the ocean</td>\n",
              "      <td>Cella Wright</td>\n",
              "      <td>{0: 'Cella Wright'}</td>\n",
              "      <td>Empty</td>\n",
              "      <td>NaN</td>\n",
              "      <td>0</td>\n",
              "      <td>2020-04-30</td>\n",
              "      <td>2020-04-30</td>\n",
              "      <td>TED-Ed</td>\n",
              "      <td>en</td>\n",
              "      <td>['en']</td>\n",
              "      <td>NaN</td>\n",
              "      <td>281</td>\n",
              "      <td>['animals', 'TED-Ed', 'animation', 'oceans', '...</td>\n",
              "      <td>{62347: 'The bug that poops candy', 29159: 'In...</td>\n",
              "      <td>https://www.ted.com/talks/cella_wright_the_mos...</td>\n",
              "      <td>Is it a fuzzy sock? An overripe banana? A mold...</td>\n",
              "      <td>Can you guess what you’re looking at? Is it a ...</td>\n",
              "    </tr>\n",
              "  </tbody>\n",
              "</table>\n",
              "<p>4005 rows × 19 columns</p>\n",
              "</div>"
            ],
            "text/plain": [
              "      talk_id  ...                                         transcript\n",
              "0           1  ...  Thank you so much, Chris. And it's truly a gre...\n",
              "1          92  ...  About 10 years ago, I took on the task to teac...\n",
              "2           7  ...  (Music: \"The Sound of Silence,\" Simon & Garfun...\n",
              "3          53  ...  If you're here today — and I'm very happy that...\n",
              "4          66  ...  Good morning. How are you? (Audience) Good. It...\n",
              "...       ...  ...                                                ...\n",
              "4000    62678  ...  \"I'm 14, and I want to go home.\" \"My name is B...\n",
              "4001    62782  ...  In 1905, psychologists Alfred Binet and Théodo...\n",
              "4002    62263  ...  Picture yourself driving down the road tomorro...\n",
              "4003    62784  ...  In early 1828, Sojourner Truth approached the ...\n",
              "4004    62794  ...  Can you guess what you’re looking at? Is it a ...\n",
              "\n",
              "[4005 rows x 19 columns]"
            ]
          },
          "metadata": {},
          "execution_count": 64
        }
      ]
    },
    {
      "cell_type": "code",
      "metadata": {
        "id": "-v3RD4xtsrBK"
      },
      "source": [
        "df['comments'] = np.where(df['comments'].isnull(),'Empty',df['comments'])"
      ],
      "execution_count": 65,
      "outputs": []
    },
    {
      "cell_type": "code",
      "metadata": {
        "id": "LgsbFajot1Qj"
      },
      "source": [
        "series_without_empty_comments = df.loc[df['comments']!='Empty','comments']"
      ],
      "execution_count": 66,
      "outputs": []
    },
    {
      "cell_type": "code",
      "metadata": {
        "id": "KFpADUKB54yE"
      },
      "source": [
        "series_without_empty_comments = series_without_empty_comments.apply(lambda x:eval(x))"
      ],
      "execution_count": 67,
      "outputs": []
    },
    {
      "cell_type": "code",
      "metadata": {
        "colab": {
          "base_uri": "https://localhost:8080/"
        },
        "id": "eq3kBQ00ucMb",
        "outputId": "41b8a47d-8248-4bc4-8592-fc23f66cdb7c"
      },
      "source": [
        "series_without_empty_comments.sort_values(ascending=True).index"
      ],
      "execution_count": 68,
      "outputs": [
        {
          "output_type": "execute_result",
          "data": {
            "text/plain": [
              "Int64Index([3898, 3893, 2943, 2949, 3867, 3666, 3694, 2865, 3842, 2714,\n",
              "            ...\n",
              "             796,  631,  799,  911, 1296,  197, 1735,  617,    4,   94],\n",
              "           dtype='int64', length=3350)"
            ]
          },
          "metadata": {},
          "execution_count": 68
        }
      ]
    },
    {
      "cell_type": "code",
      "metadata": {
        "id": "rilBM0hzwD7b"
      },
      "source": [
        "views_comments_list = list()\n",
        "for i in series_without_empty_comments.sort_values(ascending=True).index:\n",
        "    views_comments_list.append(df.iloc[i,6])"
      ],
      "execution_count": 69,
      "outputs": []
    },
    {
      "cell_type": "code",
      "metadata": {
        "id": "czh10Rn32qBL"
      },
      "source": [
        "comments_views_df = pd.DataFrame(views_comments_list,index = series_without_empty_comments.sort_values(ascending=True) , columns = ['views'])\n",
        "grouped_comments_series = comments_views_df.groupby('comments')['views'].mean()"
      ],
      "execution_count": 70,
      "outputs": []
    },
    {
      "cell_type": "code",
      "metadata": {
        "colab": {
          "base_uri": "https://localhost:8080/",
          "height": 634
        },
        "id": "RGJFKWDfxObT",
        "outputId": "b2f51336-dc63-4bf9-94be-d5f45cb081d8"
      },
      "source": [
        "plt.rcParams['figure.figsize'] = (15,10) \n",
        "plt.plot(grouped_comments_series.index,grouped_comments_series.values)\n",
        "plt.xlabel('number_of_comments')\n",
        "plt.ylabel('views')"
      ],
      "execution_count": 71,
      "outputs": [
        {
          "output_type": "execute_result",
          "data": {
            "text/plain": [
              "Text(0, 0.5, 'views')"
            ]
          },
          "metadata": {},
          "execution_count": 71
        },
        {
          "output_type": "display_data",
          "data": {
            "image/png": "[encoded data removed]",
            "text/plain": [
              "<Figure size 1080x720 with 1 Axes>"
            ]
          },
          "metadata": {
            "needs_background": "light"
          }
        }
      ]
    },
    {
      "cell_type": "code",
      "metadata": {
        "colab": {
          "base_uri": "https://localhost:8080/"
        },
        "id": "6KSOS6b2azJR",
        "outputId": "e2e3a466-84f7-4435-a679-f71ac3c36250"
      },
      "source": [
        "df.groupby('duration')['views'].mean()"
      ],
      "execution_count": 72,
      "outputs": [
        {
          "output_type": "execute_result",
          "data": {
            "text/plain": [
              "duration\n",
              "60       163277.0\n",
              "78       138145.5\n",
              "107       10356.0\n",
              "109      198694.0\n",
              "122      230354.0\n",
              "          ...    \n",
              "3503    1242418.0\n",
              "3608    3028381.0\n",
              "3740    1142208.0\n",
              "3760     380451.0\n",
              "3922    1493370.0\n",
              "Name: views, Length: 1188, dtype: float64"
            ]
          },
          "metadata": {},
          "execution_count": 72
        }
      ]
    },
    {
      "cell_type": "code",
      "metadata": {
        "colab": {
          "base_uri": "https://localhost:8080/",
          "height": 634
        },
        "id": "JVPvGDBnxZRe",
        "outputId": "0475ef18-9e15-4645-add7-baa43e709955"
      },
      "source": [
        "plt.plot(df.groupby('duration')['views'].mean().index,df.groupby('duration')['views'].mean().values)\n",
        "plt.xlabel('duration')\n",
        "plt.ylabel('avg_views')"
      ],
      "execution_count": 73,
      "outputs": [
        {
          "output_type": "execute_result",
          "data": {
            "text/plain": [
              "Text(0, 0.5, 'avg_views')"
            ]
          },
          "metadata": {},
          "execution_count": 73
        },
        {
          "output_type": "display_data",
          "data": {
            "image/png": "[encoded data removed]",
            "text/plain": [
              "<Figure size 1080x720 with 1 Axes>"
            ]
          },
          "metadata": {
            "needs_background": "light"
          }
        }
      ]
    },
    {
      "cell_type": "code",
      "metadata": {
        "id": "jQ0a76oHamw-"
      },
      "source": [
        "df['topics'] = df['topics'].apply(lambda x: eval(x))"
      ],
      "execution_count": 74,
      "outputs": []
    },
    {
      "cell_type": "code",
      "metadata": {
        "colab": {
          "base_uri": "https://localhost:8080/"
        },
        "id": "6wRDWelsd5rw",
        "outputId": "e11f072a-7048-4a8c-9a77-b967646501b7"
      },
      "source": [
        "df['topics'][0]"
      ],
      "execution_count": 75,
      "outputs": [
        {
          "output_type": "execute_result",
          "data": {
            "text/plain": [
              "['alternative energy',\n",
              " 'cars',\n",
              " 'climate change',\n",
              " 'culture',\n",
              " 'environment',\n",
              " 'global issues',\n",
              " 'science',\n",
              " 'sustainability',\n",
              " 'technology']"
            ]
          },
          "metadata": {},
          "execution_count": 75
        }
      ]
    }
  ]
}