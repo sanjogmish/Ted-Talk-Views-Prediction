{
  "nbformat": 4,
  "nbformat_minor": 0,
  "metadata": {
    "colab": {
      "name": "TED_Talk_Views_Prediction_edit1.ipynb",
      "provenance": [],
      "collapsed_sections": [],
      "mount_file_id": "1xydnZd3i4e0w1UU-lmJXcc0UOzUcyI9m",
      "authorship_tag": "ABX9TyOizcqhHKWSjCspWu/5mllY",
      "include_colab_link": true
    },
    "kernelspec": {
      "name": "python3",
      "display_name": "Python 3"
    },
    "language_info": {
      "name": "python"
    }
  },
  "cells": [
    {
      "cell_type": "markdown",
      "metadata": {
        "id": "view-in-github",
        "colab_type": "text"
      },
      "source": [
        "<a href=\"https://colab.research.google.com/github/sanjogmish/Ted-Talk-Views-Prediction/blob/main/TED_Talk_Views_Prediction_edit1.ipynb\" target=\"_parent\"><img src=\"https://colab.research.google.com/assets/colab-badge.svg\" alt=\"Open In Colab\"/></a>"
      ]
    },
    {
      "cell_type": "code",
      "metadata": {
        "id": "BRVIooGRtca7"
      },
      "source": [
        "import pandas as pd"
      ],
      "execution_count": 1,
      "outputs": []
    },
    {
      "cell_type": "code",
      "metadata": {
        "id": "EI2A-ge1sukg"
      },
      "source": [
        "df =pd.read_csv('/content/drive/MyDrive/Almabetter/Modules/files/data_ted_talks.csv')"
      ],
      "execution_count": 2,
      "outputs": []
    },
    {
      "cell_type": "code",
      "metadata": {
        "colab": {
          "base_uri": "https://localhost:8080/",
          "height": 717
        },
        "id": "J6FilNSOtbBF",
        "outputId": "aeee19cb-c847-4f78-bd16-0a9fb1273d45"
      },
      "source": [
        "df.head(10).T"
      ],
      "execution_count": 3,
      "outputs": [
        {
          "output_type": "execute_result",
          "data": {
            "text/html": [
              "<div>\n",
              "<style scoped>\n",
              "    .dataframe tbody tr th:only-of-type {\n",
              "        vertical-align: middle;\n",
              "    }\n",
              "\n",
              "    .dataframe tbody tr th {\n",
              "        vertical-align: top;\n",
              "    }\n",
              "\n",
              "    .dataframe thead th {\n",
              "        text-align: right;\n",
              "    }\n",
              "</style>\n",
              "<table border=\"1\" class=\"dataframe\">\n",
              "  <thead>\n",
              "    <tr style=\"text-align: right;\">\n",
              "      <th></th>\n",
              "      <th>0</th>\n",
              "      <th>1</th>\n",
              "      <th>2</th>\n",
              "      <th>3</th>\n",
              "      <th>4</th>\n",
              "      <th>5</th>\n",
              "      <th>6</th>\n",
              "      <th>7</th>\n",
              "      <th>8</th>\n",
              "      <th>9</th>\n",
              "    </tr>\n",
              "  </thead>\n",
              "  <tbody>\n",
              "    <tr>\n",
              "      <th>talk_id</th>\n",
              "      <td>1</td>\n",
              "      <td>92</td>\n",
              "      <td>7</td>\n",
              "      <td>53</td>\n",
              "      <td>66</td>\n",
              "      <td>49</td>\n",
              "      <td>86</td>\n",
              "      <td>94</td>\n",
              "      <td>71</td>\n",
              "      <td>55</td>\n",
              "    </tr>\n",
              "    <tr>\n",
              "      <th>title</th>\n",
              "      <td>Averting the climate crisis</td>\n",
              "      <td>The best stats you've ever seen</td>\n",
              "      <td>Simplicity sells</td>\n",
              "      <td>Greening the ghetto</td>\n",
              "      <td>Do schools kill creativity?</td>\n",
              "      <td>Behind the design of Seattle's library</td>\n",
              "      <td>Letting go of God</td>\n",
              "      <td>Let's teach religion -- all religion -- in sch...</td>\n",
              "      <td>A life of purpose</td>\n",
              "      <td>My wish: A global day of film</td>\n",
              "    </tr>\n",
              "    <tr>\n",
              "      <th>speaker_1</th>\n",
              "      <td>Al Gore</td>\n",
              "      <td>Hans Rosling</td>\n",
              "      <td>David Pogue</td>\n",
              "      <td>Majora Carter</td>\n",
              "      <td>Sir Ken Robinson</td>\n",
              "      <td>Joshua Prince-Ramus</td>\n",
              "      <td>Julia Sweeney</td>\n",
              "      <td>Dan Dennett</td>\n",
              "      <td>Rick Warren</td>\n",
              "      <td>Jehane Noujaim</td>\n",
              "    </tr>\n",
              "    <tr>\n",
              "      <th>all_speakers</th>\n",
              "      <td>{0: 'Al Gore'}</td>\n",
              "      <td>{0: 'Hans Rosling'}</td>\n",
              "      <td>{0: 'David Pogue'}</td>\n",
              "      <td>{0: 'Majora Carter'}</td>\n",
              "      <td>{0: 'Sir Ken Robinson'}</td>\n",
              "      <td>{0: 'Joshua Prince-Ramus'}</td>\n",
              "      <td>{0: 'Julia Sweeney'}</td>\n",
              "      <td>{0: 'Dan Dennett'}</td>\n",
              "      <td>{0: 'Rick Warren'}</td>\n",
              "      <td>{0: 'Jehane Noujaim'}</td>\n",
              "    </tr>\n",
              "    <tr>\n",
              "      <th>occupations</th>\n",
              "      <td>{0: ['climate advocate']}</td>\n",
              "      <td>{0: ['global health expert; data visionary']}</td>\n",
              "      <td>{0: ['technology columnist']}</td>\n",
              "      <td>{0: ['activist for environmental justice']}</td>\n",
              "      <td>{0: ['author', 'educator']}</td>\n",
              "      <td>{0: ['architect']}</td>\n",
              "      <td>{0: ['actor', 'comedian', 'playwright']}</td>\n",
              "      <td>{0: ['philosopher', 'cognitive scientist']}</td>\n",
              "      <td>{0: ['pastor', 'author']}</td>\n",
              "      <td>{0: ['filmmaker']}</td>\n",
              "    </tr>\n",
              "    <tr>\n",
              "      <th>about_speakers</th>\n",
              "      <td>{0: 'Nobel Laureate Al Gore focused the world’...</td>\n",
              "      <td>{0: 'In Hans Rosling’s hands, data sings. Glob...</td>\n",
              "      <td>{0: 'David Pogue is the personal technology co...</td>\n",
              "      <td>{0: 'Majora Carter redefined the field of envi...</td>\n",
              "      <td>{0: \"Creativity expert Sir Ken Robinson challe...</td>\n",
              "      <td>{0: 'Joshua Prince-Ramus is best known as arch...</td>\n",
              "      <td>{0: 'Julia Sweeney creates comedic works that ...</td>\n",
              "      <td>{0: 'Dan Dennett thinks that human consciousne...</td>\n",
              "      <td>{0: 'Pastor Rick Warren is the author of &lt;em&gt;T...</td>\n",
              "      <td>{0: 'TED Prize winner Jehane Noujaim is a guts...</td>\n",
              "    </tr>\n",
              "    <tr>\n",
              "      <th>views</th>\n",
              "      <td>3523392</td>\n",
              "      <td>14501685</td>\n",
              "      <td>1920832</td>\n",
              "      <td>2664069</td>\n",
              "      <td>65051954</td>\n",
              "      <td>1208138</td>\n",
              "      <td>4636596</td>\n",
              "      <td>3781244</td>\n",
              "      <td>3998282</td>\n",
              "      <td>460994</td>\n",
              "    </tr>\n",
              "    <tr>\n",
              "      <th>recorded_date</th>\n",
              "      <td>2006-02-25</td>\n",
              "      <td>2006-02-22</td>\n",
              "      <td>2006-02-24</td>\n",
              "      <td>2006-02-26</td>\n",
              "      <td>2006-02-25</td>\n",
              "      <td>2006-02-23</td>\n",
              "      <td>2006-02-24</td>\n",
              "      <td>2006-02-02</td>\n",
              "      <td>2006-02-25</td>\n",
              "      <td>2006-02-26</td>\n",
              "    </tr>\n",
              "    <tr>\n",
              "      <th>published_date</th>\n",
              "      <td>2006-06-27</td>\n",
              "      <td>2006-06-27</td>\n",
              "      <td>2006-06-27</td>\n",
              "      <td>2006-06-27</td>\n",
              "      <td>2006-06-27</td>\n",
              "      <td>2006-07-10</td>\n",
              "      <td>2006-07-10</td>\n",
              "      <td>2006-07-18</td>\n",
              "      <td>2006-07-18</td>\n",
              "      <td>2006-07-25</td>\n",
              "    </tr>\n",
              "    <tr>\n",
              "      <th>event</th>\n",
              "      <td>TED2006</td>\n",
              "      <td>TED2006</td>\n",
              "      <td>TED2006</td>\n",
              "      <td>TED2006</td>\n",
              "      <td>TED2006</td>\n",
              "      <td>TED2006</td>\n",
              "      <td>TED2006</td>\n",
              "      <td>TED2006</td>\n",
              "      <td>TED2006</td>\n",
              "      <td>TED2006</td>\n",
              "    </tr>\n",
              "    <tr>\n",
              "      <th>native_lang</th>\n",
              "      <td>en</td>\n",
              "      <td>en</td>\n",
              "      <td>en</td>\n",
              "      <td>en</td>\n",
              "      <td>en</td>\n",
              "      <td>en</td>\n",
              "      <td>en</td>\n",
              "      <td>en</td>\n",
              "      <td>en</td>\n",
              "      <td>en</td>\n",
              "    </tr>\n",
              "    <tr>\n",
              "      <th>available_lang</th>\n",
              "      <td>['ar', 'bg', 'cs', 'de', 'el', 'en', 'es', 'fa...</td>\n",
              "      <td>['ar', 'az', 'bg', 'bn', 'bs', 'cs', 'da', 'de...</td>\n",
              "      <td>['ar', 'bg', 'de', 'el', 'en', 'es', 'fa', 'fr...</td>\n",
              "      <td>['ar', 'bg', 'bn', 'ca', 'cs', 'de', 'en', 'es...</td>\n",
              "      <td>['af', 'ar', 'az', 'be', 'bg', 'bn', 'ca', 'cs...</td>\n",
              "      <td>['ar', 'bg', 'en', 'es', 'fr', 'he', 'it', 'ja...</td>\n",
              "      <td>['ar', 'bg', 'cs', 'de', 'el', 'en', 'es', 'fa...</td>\n",
              "      <td>['ar', 'bg', 'cs', 'de', 'el', 'en', 'es', 'fa...</td>\n",
              "      <td>['ar', 'bg', 'cs', 'de', 'el', 'en', 'es', 'fa...</td>\n",
              "      <td>['ar', 'bg', 'cs', 'en', 'es', 'fa', 'fr', 'he...</td>\n",
              "    </tr>\n",
              "    <tr>\n",
              "      <th>comments</th>\n",
              "      <td>272</td>\n",
              "      <td>628</td>\n",
              "      <td>124</td>\n",
              "      <td>219</td>\n",
              "      <td>4931</td>\n",
              "      <td>48</td>\n",
              "      <td>980</td>\n",
              "      <td>919</td>\n",
              "      <td>930</td>\n",
              "      <td>59</td>\n",
              "    </tr>\n",
              "    <tr>\n",
              "      <th>duration</th>\n",
              "      <td>977</td>\n",
              "      <td>1190</td>\n",
              "      <td>1286</td>\n",
              "      <td>1116</td>\n",
              "      <td>1164</td>\n",
              "      <td>1198</td>\n",
              "      <td>992</td>\n",
              "      <td>1485</td>\n",
              "      <td>1262</td>\n",
              "      <td>1538</td>\n",
              "    </tr>\n",
              "    <tr>\n",
              "      <th>topics</th>\n",
              "      <td>['alternative energy', 'cars', 'climate change...</td>\n",
              "      <td>['Africa', 'Asia', 'Google', 'demo', 'economic...</td>\n",
              "      <td>['computers', 'entertainment', 'interface desi...</td>\n",
              "      <td>['MacArthur grant', 'activism', 'business', 'c...</td>\n",
              "      <td>['children', 'creativity', 'culture', 'dance',...</td>\n",
              "      <td>['architecture', 'collaboration', 'culture', '...</td>\n",
              "      <td>['Christianity', 'God', 'atheism', 'comedy', '...</td>\n",
              "      <td>['God', 'atheism', 'brain', 'cognitive science...</td>\n",
              "      <td>['Christianity', 'God', 'culture', 'happiness'...</td>\n",
              "      <td>['TED Prize', 'culture', 'entertainment', 'fil...</td>\n",
              "    </tr>\n",
              "    <tr>\n",
              "      <th>related_talks</th>\n",
              "      <td>{243: 'New thinking on the climate crisis', 54...</td>\n",
              "      <td>{2056: \"Own your body's data\", 2296: 'A visual...</td>\n",
              "      <td>{1725: '10 top time-saving tech tips', 2274: '...</td>\n",
              "      <td>{1041: '3 stories of local eco-entrepreneurshi...</td>\n",
              "      <td>{865: 'Bring on the learning revolution!', 173...</td>\n",
              "      <td>{750: 'Building a theater that remakes itself'...</td>\n",
              "      <td>{22: 'Why people believe weird things', 94: \"L...</td>\n",
              "      <td>{71: 'A life of purpose', 2011: 'Is religion g...</td>\n",
              "      <td>{94: \"Let's teach religion -- all religion -- ...</td>\n",
              "      <td>{2228: 'How virtual reality can create the ult...</td>\n",
              "    </tr>\n",
              "    <tr>\n",
              "      <th>url</th>\n",
              "      <td>https://www.ted.com/talks/al_gore_averting_the...</td>\n",
              "      <td>https://www.ted.com/talks/hans_rosling_the_bes...</td>\n",
              "      <td>https://www.ted.com/talks/david_pogue_simplici...</td>\n",
              "      <td>https://www.ted.com/talks/majora_carter_greeni...</td>\n",
              "      <td>https://www.ted.com/talks/sir_ken_robinson_do_...</td>\n",
              "      <td>https://www.ted.com/talks/joshua_prince_ramus_...</td>\n",
              "      <td>https://www.ted.com/talks/julia_sweeney_lettin...</td>\n",
              "      <td>https://www.ted.com/talks/dan_dennett_let_s_te...</td>\n",
              "      <td>https://www.ted.com/talks/rick_warren_a_life_o...</td>\n",
              "      <td>https://www.ted.com/talks/jehane_noujaim_my_wi...</td>\n",
              "    </tr>\n",
              "    <tr>\n",
              "      <th>description</th>\n",
              "      <td>With the same humor and humanity he exuded in ...</td>\n",
              "      <td>You've never seen data presented like this. Wi...</td>\n",
              "      <td>New York Times columnist David Pogue takes aim...</td>\n",
              "      <td>In an emotionally charged talk, MacArthur-winn...</td>\n",
              "      <td>Sir Ken Robinson makes an entertaining and pro...</td>\n",
              "      <td>Architect Joshua Prince-Ramus takes the audien...</td>\n",
              "      <td>When two young Mormon missionaries knock on Ju...</td>\n",
              "      <td>Philosopher Dan Dennett calls for religion -- ...</td>\n",
              "      <td>Pastor Rick Warren, author of \"The Purpose-Dri...</td>\n",
              "      <td>Jehane Noujaim unveils her 2006 TED Prize wish...</td>\n",
              "    </tr>\n",
              "    <tr>\n",
              "      <th>transcript</th>\n",
              "      <td>Thank you so much, Chris. And it's truly a gre...</td>\n",
              "      <td>About 10 years ago, I took on the task to teac...</td>\n",
              "      <td>(Music: \"The Sound of Silence,\" Simon &amp; Garfun...</td>\n",
              "      <td>If you're here today — and I'm very happy that...</td>\n",
              "      <td>Good morning. How are you? (Audience) Good. It...</td>\n",
              "      <td>I'm going to present three projects in rapid f...</td>\n",
              "      <td>On September 10, the morning of my seventh bir...</td>\n",
              "      <td>It's wonderful to be back. I love this wonderf...</td>\n",
              "      <td>I'm often asked, \"What surprised you about the...</td>\n",
              "      <td>I can't help but this wish: to think about whe...</td>\n",
              "    </tr>\n",
              "  </tbody>\n",
              "</table>\n",
              "</div>"
            ],
            "text/plain": [
              "                                                                0  ...                                                  9\n",
              "talk_id                                                         1  ...                                                 55\n",
              "title                                 Averting the climate crisis  ...                      My wish: A global day of film\n",
              "speaker_1                                                 Al Gore  ...                                     Jehane Noujaim\n",
              "all_speakers                                       {0: 'Al Gore'}  ...                              {0: 'Jehane Noujaim'}\n",
              "occupations                             {0: ['climate advocate']}  ...                                 {0: ['filmmaker']}\n",
              "about_speakers  {0: 'Nobel Laureate Al Gore focused the world’...  ...  {0: 'TED Prize winner Jehane Noujaim is a guts...\n",
              "views                                                     3523392  ...                                             460994\n",
              "recorded_date                                          2006-02-25  ...                                         2006-02-26\n",
              "published_date                                         2006-06-27  ...                                         2006-07-25\n",
              "event                                                     TED2006  ...                                            TED2006\n",
              "native_lang                                                    en  ...                                                 en\n",
              "available_lang  ['ar', 'bg', 'cs', 'de', 'el', 'en', 'es', 'fa...  ...  ['ar', 'bg', 'cs', 'en', 'es', 'fa', 'fr', 'he...\n",
              "comments                                                      272  ...                                                 59\n",
              "duration                                                      977  ...                                               1538\n",
              "topics          ['alternative energy', 'cars', 'climate change...  ...  ['TED Prize', 'culture', 'entertainment', 'fil...\n",
              "related_talks   {243: 'New thinking on the climate crisis', 54...  ...  {2228: 'How virtual reality can create the ult...\n",
              "url             https://www.ted.com/talks/al_gore_averting_the...  ...  https://www.ted.com/talks/jehane_noujaim_my_wi...\n",
              "description     With the same humor and humanity he exuded in ...  ...  Jehane Noujaim unveils her 2006 TED Prize wish...\n",
              "transcript      Thank you so much, Chris. And it's truly a gre...  ...  I can't help but this wish: to think about whe...\n",
              "\n",
              "[19 rows x 10 columns]"
            ]
          },
          "metadata": {},
          "execution_count": 3
        }
      ]
    },
    {
      "cell_type": "code",
      "metadata": {
        "colab": {
          "base_uri": "https://localhost:8080/"
        },
        "id": "bKzvTFBZthLr",
        "outputId": "d62b55d2-4011-40a1-df11-30292d395c7a"
      },
      "source": [
        "df.info()"
      ],
      "execution_count": 4,
      "outputs": [
        {
          "output_type": "stream",
          "name": "stdout",
          "text": [
            "<class 'pandas.core.frame.DataFrame'>\n",
            "RangeIndex: 4005 entries, 0 to 4004\n",
            "Data columns (total 19 columns):\n",
            " #   Column          Non-Null Count  Dtype  \n",
            "---  ------          --------------  -----  \n",
            " 0   talk_id         4005 non-null   int64  \n",
            " 1   title           4005 non-null   object \n",
            " 2   speaker_1       4005 non-null   object \n",
            " 3   all_speakers    4001 non-null   object \n",
            " 4   occupations     3483 non-null   object \n",
            " 5   about_speakers  3502 non-null   object \n",
            " 6   views           4005 non-null   int64  \n",
            " 7   recorded_date   4004 non-null   object \n",
            " 8   published_date  4005 non-null   object \n",
            " 9   event           4005 non-null   object \n",
            " 10  native_lang     4005 non-null   object \n",
            " 11  available_lang  4005 non-null   object \n",
            " 12  comments        3350 non-null   float64\n",
            " 13  duration        4005 non-null   int64  \n",
            " 14  topics          4005 non-null   object \n",
            " 15  related_talks   4005 non-null   object \n",
            " 16  url             4005 non-null   object \n",
            " 17  description     4005 non-null   object \n",
            " 18  transcript      4005 non-null   object \n",
            "dtypes: float64(1), int64(3), object(15)\n",
            "memory usage: 594.6+ KB\n"
          ]
        }
      ]
    },
    {
      "cell_type": "code",
      "metadata": {
        "colab": {
          "base_uri": "https://localhost:8080/"
        },
        "id": "NGm8gBFAyxCq",
        "outputId": "5dc4ae83-1e2a-45cc-ebe7-227da44ff17e"
      },
      "source": [
        "# 'talk_id' consists of all unique values; no trend and must not influence target; to be dropped\n",
        "df['talk_id'].nunique()"
      ],
      "execution_count": 5,
      "outputs": [
        {
          "output_type": "execute_result",
          "data": {
            "text/plain": [
              "4005"
            ]
          },
          "metadata": {},
          "execution_count": 5
        }
      ]
    },
    {
      "cell_type": "code",
      "metadata": {
        "colab": {
          "base_uri": "https://localhost:8080/"
        },
        "id": "YWwJCXUFze_z",
        "outputId": "c4692934-a92c-4556-ee7f-8ad469f7b257"
      },
      "source": [
        "# 'title' consists of all unique values; no trend and must not influence target; to be dropped or combined with another column\n",
        "df['title'].nunique()"
      ],
      "execution_count": 6,
      "outputs": [
        {
          "output_type": "execute_result",
          "data": {
            "text/plain": [
              "4005"
            ]
          },
          "metadata": {},
          "execution_count": 6
        }
      ]
    },
    {
      "cell_type": "code",
      "metadata": {
        "colab": {
          "base_uri": "https://localhost:8080/"
        },
        "id": "qN1U_MAK2AcA",
        "outputId": "b0e8801c-3983-426e-955e-b8b7f5ece24f"
      },
      "source": [
        "df['speaker_1'].nunique()"
      ],
      "execution_count": 7,
      "outputs": [
        {
          "output_type": "execute_result",
          "data": {
            "text/plain": [
              "3274"
            ]
          },
          "metadata": {},
          "execution_count": 7
        }
      ]
    },
    {
      "cell_type": "code",
      "metadata": {
        "colab": {
          "base_uri": "https://localhost:8080/"
        },
        "id": "BDRNSTqg3vqr",
        "outputId": "dabcfad1-a371-4e20-ae19-996a03ffbe38"
      },
      "source": [
        "df['speaker_1'].value_counts().index"
      ],
      "execution_count": 8,
      "outputs": [
        {
          "output_type": "execute_result",
          "data": {
            "text/plain": [
              "Index(['Alex Gendler', 'Iseult Gillespie', 'Emma Bryce', 'Daniel Finkel',\n",
              "       'Hans Rosling', 'Alex Rosenthal', 'Juan Enriquez', 'Greg Gage',\n",
              "       'Chris Anderson', 'Dan Ariely',\n",
              "       ...\n",
              "       'Pia Mancini', 'Imogen Heap', 'Majd Mashharawi', 'Craig Costello',\n",
              "       'Sydney Jensen', 'Rodrigo Bijou', 'The LXD', 'Kate Messner',\n",
              "       'Daniel Libeskind', 'Gregory Stock'],\n",
              "      dtype='object', length=3274)"
            ]
          },
          "metadata": {},
          "execution_count": 8
        }
      ]
    },
    {
      "cell_type": "code",
      "metadata": {
        "id": "DU8t3jhk4ClK"
      },
      "source": [
        "dict_of_speakers_frequency = dict(zip(df['speaker_1'].value_counts().index , df['speaker_1'].value_counts().values))\n",
        "list_of_frequent_speakers = list()\n",
        "for key,value in dict_of_speakers_frequency.items():\n",
        "  if value > 1:\n",
        "    list_of_frequent_speakers.append(key)"
      ],
      "execution_count": 9,
      "outputs": []
    },
    {
      "cell_type": "code",
      "metadata": {
        "colab": {
          "base_uri": "https://localhost:8080/"
        },
        "id": "EOj73ONxBxDs",
        "outputId": "aeeeceda-6108-4daf-b257-63ce25348299"
      },
      "source": [
        "len(list_of_frequent_speakers)"
      ],
      "execution_count": 10,
      "outputs": [
        {
          "output_type": "execute_result",
          "data": {
            "text/plain": [
              "424"
            ]
          },
          "metadata": {},
          "execution_count": 10
        }
      ]
    },
    {
      "cell_type": "code",
      "metadata": {
        "id": "jZXc7x78I8-v"
      },
      "source": [
        "import numpy as np\n",
        "import math"
      ],
      "execution_count": 11,
      "outputs": []
    },
    {
      "cell_type": "code",
      "metadata": {
        "id": "Xa5Jm9r-TIsv"
      },
      "source": [
        "def convert(string):\n",
        "    return eval(string)"
      ],
      "execution_count": 12,
      "outputs": []
    },
    {
      "cell_type": "code",
      "metadata": {
        "colab": {
          "base_uri": "https://localhost:8080/",
          "height": 507
        },
        "id": "dLry4GV0NDTd",
        "outputId": "d53126f5-dc20-467b-91a1-1c0ed38d9141"
      },
      "source": [
        "df.loc[df['all_speakers'].isnull()==True]"
      ],
      "execution_count": 13,
      "outputs": [
        {
          "output_type": "execute_result",
          "data": {
            "text/html": [
              "<div>\n",
              "<style scoped>\n",
              "    .dataframe tbody tr th:only-of-type {\n",
              "        vertical-align: middle;\n",
              "    }\n",
              "\n",
              "    .dataframe tbody tr th {\n",
              "        vertical-align: top;\n",
              "    }\n",
              "\n",
              "    .dataframe thead th {\n",
              "        text-align: right;\n",
              "    }\n",
              "</style>\n",
              "<table border=\"1\" class=\"dataframe\">\n",
              "  <thead>\n",
              "    <tr style=\"text-align: right;\">\n",
              "      <th></th>\n",
              "      <th>talk_id</th>\n",
              "      <th>title</th>\n",
              "      <th>speaker_1</th>\n",
              "      <th>all_speakers</th>\n",
              "      <th>occupations</th>\n",
              "      <th>about_speakers</th>\n",
              "      <th>views</th>\n",
              "      <th>recorded_date</th>\n",
              "      <th>published_date</th>\n",
              "      <th>event</th>\n",
              "      <th>native_lang</th>\n",
              "      <th>available_lang</th>\n",
              "      <th>comments</th>\n",
              "      <th>duration</th>\n",
              "      <th>topics</th>\n",
              "      <th>related_talks</th>\n",
              "      <th>url</th>\n",
              "      <th>description</th>\n",
              "      <th>transcript</th>\n",
              "    </tr>\n",
              "  </thead>\n",
              "  <tbody>\n",
              "    <tr>\n",
              "      <th>2927</th>\n",
              "      <td>23418</td>\n",
              "      <td>How prefab homes can transform affordable housing</td>\n",
              "      <td>Antón García-Abril</td>\n",
              "      <td>NaN</td>\n",
              "      <td>NaN</td>\n",
              "      <td>NaN</td>\n",
              "      <td>14934</td>\n",
              "      <td>2016-11-19</td>\n",
              "      <td>2018-09-04</td>\n",
              "      <td>TEDxYouth@Beaconstreet</td>\n",
              "      <td>en</td>\n",
              "      <td>['en', 'es']</td>\n",
              "      <td>NaN</td>\n",
              "      <td>449</td>\n",
              "      <td>['design', 'architecture', 'industrial design'...</td>\n",
              "      <td>{1015: 'Creative houses from reclaimed stuff',...</td>\n",
              "      <td>https://www.ted.com/talks/anton_garcia_abril_h...</td>\n",
              "      <td>When architect Antón García-Abril moved to Bos...</td>\n",
              "      <td>Subtitle Provided by JUFE MOOC Studio M Subtit...</td>\n",
              "    </tr>\n",
              "    <tr>\n",
              "      <th>3266</th>\n",
              "      <td>36384</td>\n",
              "      <td>Why we need to stop obsessing over World War II</td>\n",
              "      <td>Keith Lowe</td>\n",
              "      <td>NaN</td>\n",
              "      <td>NaN</td>\n",
              "      <td>NaN</td>\n",
              "      <td>103682</td>\n",
              "      <td>2014-11-15</td>\n",
              "      <td>2019-03-01</td>\n",
              "      <td>TEDxAthens</td>\n",
              "      <td>en</td>\n",
              "      <td>['en', 'pt', 'sr']</td>\n",
              "      <td>NaN</td>\n",
              "      <td>1109</td>\n",
              "      <td>['war', 'history', 'society', 'future', 'globa...</td>\n",
              "      <td>{1999: 'Why veterans miss war', 1651: 'What I ...</td>\n",
              "      <td>https://www.ted.com/talks/keith_lowe_why_we_ne...</td>\n",
              "      <td>Why are we so obsessed with World War II? Hist...</td>\n",
              "      <td>Hello everybody. Audience: Hello. Keith Lowe: ...</td>\n",
              "    </tr>\n",
              "    <tr>\n",
              "      <th>3290</th>\n",
              "      <td>36844</td>\n",
              "      <td>Why talent carries you further than fame</td>\n",
              "      <td>Maisie Williams</td>\n",
              "      <td>NaN</td>\n",
              "      <td>NaN</td>\n",
              "      <td>NaN</td>\n",
              "      <td>3677746</td>\n",
              "      <td>2019-02-03</td>\n",
              "      <td>2019-03-11</td>\n",
              "      <td>TEDxManchester</td>\n",
              "      <td>en</td>\n",
              "      <td>['ar', 'de', 'el', 'en', 'es', 'fr', 'hu', 'pt...</td>\n",
              "      <td>NaN</td>\n",
              "      <td>982</td>\n",
              "      <td>['art', 'entertainment', 'entrepreneur', 'tech...</td>\n",
              "      <td>{39192: 'Why medieval politics was nothing lik...</td>\n",
              "      <td>https://www.ted.com/talks/maisie_williams_why_...</td>\n",
              "      <td>You'd never know from her transformation into ...</td>\n",
              "      <td>Hi. I'm Maisie Williams. And I'm kind of just ...</td>\n",
              "    </tr>\n",
              "    <tr>\n",
              "      <th>3665</th>\n",
              "      <td>49223</td>\n",
              "      <td>Are we living in a simulation?</td>\n",
              "      <td>Zohreh Davoudi</td>\n",
              "      <td>NaN</td>\n",
              "      <td>NaN</td>\n",
              "      <td>NaN</td>\n",
              "      <td>485122</td>\n",
              "      <td>2019-10-08</td>\n",
              "      <td>2019-10-08</td>\n",
              "      <td>TED-Ed</td>\n",
              "      <td>en</td>\n",
              "      <td>['ar', 'el', 'en', 'es', 'fa', 'fr', 'he', 'id...</td>\n",
              "      <td>NaN</td>\n",
              "      <td>249</td>\n",
              "      <td>['TED-Ed', 'animation', 'education', 'technolo...</td>\n",
              "      <td>{26263: 'Does time exist?', 24106: 'How do you...</td>\n",
              "      <td>https://www.ted.com/talks/zohreh_davoudi_are_w...</td>\n",
              "      <td>All life on Earth— living and inanimate, micro...</td>\n",
              "      <td>We live in a vast universe, on a small wet pla...</td>\n",
              "    </tr>\n",
              "  </tbody>\n",
              "</table>\n",
              "</div>"
            ],
            "text/plain": [
              "      talk_id  ...                                         transcript\n",
              "2927    23418  ...  Subtitle Provided by JUFE MOOC Studio M Subtit...\n",
              "3266    36384  ...  Hello everybody. Audience: Hello. Keith Lowe: ...\n",
              "3290    36844  ...  Hi. I'm Maisie Williams. And I'm kind of just ...\n",
              "3665    49223  ...  We live in a vast universe, on a small wet pla...\n",
              "\n",
              "[4 rows x 19 columns]"
            ]
          },
          "metadata": {},
          "execution_count": 13
        }
      ]
    },
    {
      "cell_type": "code",
      "metadata": {
        "id": "DoabZieRQl7i"
      },
      "source": [
        "df['all_speakers'] = np.where(df['all_speakers'].isnull(),'Empty',df['all_speakers'])"
      ],
      "execution_count": 14,
      "outputs": []
    },
    {
      "cell_type": "code",
      "metadata": {
        "colab": {
          "base_uri": "https://localhost:8080/",
          "height": 282
        },
        "id": "MUIH0XDeeLob",
        "outputId": "1ae45b4e-742a-4945-8229-5dc6e18b7ac6"
      },
      "source": [
        "number_speakers_each_talk = list()\n",
        "for i in df['all_speakers']:\n",
        "  if i=='Empty':\n",
        "    pass\n",
        "  else:\n",
        "    converted_dictionary = convert(i)\n",
        "    number_speakers_each_talk.append(len(converted_dictionary.items()))\n",
        "import matplotlib.pyplot as plt\n",
        "x = range(1,4002)\n",
        "plt.scatter(x,number_speakers_each_talk)"
      ],
      "execution_count": 15,
      "outputs": [
        {
          "output_type": "execute_result",
          "data": {
            "text/plain": [
              "<matplotlib.collections.PathCollection at 0x7f45317e3750>"
            ]
          },
          "metadata": {},
          "execution_count": 15
        },
        {
          "output_type": "display_data",
          "data": {
            "image/png": "[encoded data removed]",
            "text/plain": [
              "<Figure size 432x288 with 1 Axes>"
            ]
          },
          "metadata": {
            "needs_background": "light"
          }
        }
      ]
    },
    {
      "cell_type": "code",
      "metadata": {
        "id": "HHbzY1B5kdoK"
      },
      "source": [
        "df['occupations'] = np.where(df['occupations'].isnull(),'Empty',df['occupations'])"
      ],
      "execution_count": 16,
      "outputs": []
    },
    {
      "cell_type": "code",
      "metadata": {
        "colab": {
          "base_uri": "https://localhost:8080/"
        },
        "id": "5G2tkaHefwPN",
        "outputId": "1b5eb5a4-b263-4dec-9cdc-0e1d3badb708"
      },
      "source": [
        "occupations = list()\n",
        "for i in df['occupations']:\n",
        "    if i == 'Empty':\n",
        "      pass\n",
        "    else:\n",
        "      converted_dictionary_occupation = convert(i)\n",
        "      occupations.append(list(converted_dictionary_occupation.values()))\n",
        "occupations"
      ],
      "execution_count": 17,
      "outputs": [
        {
          "output_type": "execute_result",
          "data": {
            "text/plain": [
              "[[['climate advocate']],\n",
              " [['global health expert; data visionary']],\n",
              " [['technology columnist']],\n",
              " [['activist for environmental justice']],\n",
              " [['author', 'educator']],\n",
              " [['architect']],\n",
              " [['actor', 'comedian', 'playwright']],\n",
              " [['philosopher', 'cognitive scientist']],\n",
              " [['pastor', 'author']],\n",
              " [['filmmaker']],\n",
              " [['epidemiologist', 'philanthropist']],\n",
              " [['co-founder', 'architecture for humanity']],\n",
              " [['tech visionary']],\n",
              " [['human-computer interface designer']],\n",
              " [['pianist', 'composer']],\n",
              " [['violinist']],\n",
              " [['inventor', 'engineer']],\n",
              " [['industrial designer']],\n",
              " [['founder of wikipedia']],\n",
              " [['education visionary']],\n",
              " [['web humorist']],\n",
              " [['blogger; cofounder', 'six apart']],\n",
              " [['anthropologist', 'expert on love']],\n",
              " [['playwright', 'activist']],\n",
              " [['evolutionary biologist']],\n",
              " [['physicist', 'author']],\n",
              " [['writer']],\n",
              " [['economist']],\n",
              " [['psychologist; happiness expert']],\n",
              " [['psychologist']],\n",
              " [['neuroscience and cancer researcher']],\n",
              " [['crusader against aging']],\n",
              " [['investor and advocate for moral leadership']],\n",
              " [['founder', 'grameenphone']],\n",
              " [['president-elect of afghanistan']],\n",
              " [['nonprofit venture capitalist']],\n",
              " [['aircraft engineer']],\n",
              " [['polar explorer']],\n",
              " [['photographer']],\n",
              " [['biomedical inventor']],\n",
              " [['musician', 'activist']],\n",
              " [['skeptic']],\n",
              " [['mathematician; statistician']],\n",
              " [['digital visionary']],\n",
              " [['inventor', 'futurist']],\n",
              " [['musician', 'activist']],\n",
              " [['performance poet', 'multimedia artist']],\n",
              " [['physician', 'author']],\n",
              " [['marketer', 'success analyst']],\n",
              " [['author']],\n",
              " [['global prioritizer']],\n",
              " [['anthropologist', 'ethnobotanist']],\n",
              " [['photographer']],\n",
              " [['astrophysicist']],\n",
              " [['journalist', 'philosopher']],\n",
              " [['innovation consultant']],\n",
              " [['writer']],\n",
              " [['actor', 'playwright', 'social critic']],\n",
              " [['inventor']],\n",
              " [['physicist', 'personal fab pioneer']],\n",
              " [['writer', 'thinker', 'activist']],\n",
              " [['photojournalist']],\n",
              " [['biologist']],\n",
              " [['activist']],\n",
              " [['inventor']],\n",
              " [['biologist', 'biomechanics researcher']],\n",
              " [['car designer']],\n",
              " [['experimental audio-visual artist']],\n",
              " [['biologist', 'nobel laureate']],\n",
              " [['designer; creative director', 'ideo']],\n",
              " [['philosopher']],\n",
              " [['graphic designer']],\n",
              " [['author', 'academic', 'futurist']],\n",
              " [['science writer', 'innovation consultant', 'conservationist']],\n",
              " [['nature photographer']],\n",
              " [['singer', 'performance artist']],\n",
              " [['master of visual illusions']],\n",
              " [['primate authority']],\n",
              " [['planetary futurist']],\n",
              " [['biologist', 'genetics pioneer']],\n",
              " [['artist']],\n",
              " [['marketer and author']],\n",
              " [['architect']],\n",
              " [['primatologist', 'environmentalist']],\n",
              " [['singer/songwriter']],\n",
              " [['cellist; singer-songwriter']],\n",
              " [['philosopher', 'cognitive scientist']],\n",
              " [['musician']],\n",
              " [['architect']],\n",
              " [['performance poet', 'multimedia artist']],\n",
              " [['online commerce pioneer']],\n",
              " [['singer/songwriter'], ['electronic music pioneer']],\n",
              " [['singer/songwriter'], ['electronic music pioneer']],\n",
              " [['satirist']],\n",
              " [['evolutionary biologist']],\n",
              " [['musician'], ['electronic music pioneer']],\n",
              " [['priest']],\n",
              " [['drone maker']],\n",
              " [['fiddler'], ['electronic music pioneer']],\n",
              " [['computer scientist', 'entrepreneur and philanthropist'],\n",
              "  ['ceo of google']],\n",
              " [['singer/songwriter']],\n",
              " [['social critic']],\n",
              " [['designer', 'educator']],\n",
              " [['environmentalist', 'futurist']],\n",
              " [['computer designer', 'brain researcher']],\n",
              " [['marine biologist']],\n",
              " [['venture capitalist']],\n",
              " [['software architect']],\n",
              " [['economist']],\n",
              " [['technologist', 'digital product designer']],\n",
              " [['buddhist scholar']],\n",
              " [['architect', 'experience designer']],\n",
              " [['military strategist']],\n",
              " [[\"general manager of microsoft's virtual earth\"]],\n",
              " [['global health expert; data visionary']],\n",
              " [['explorer', 'inventor', 'outer space dreamer']],\n",
              " [['philosopher', 'cognitive scientist']],\n",
              " [['medical futurist']],\n",
              " [['artist', 'storyteller', 'internet anthropologist']],\n",
              " [['economist']],\n",
              " [['performance poet', 'multimedia artist']],\n",
              " [['game designer']],\n",
              " [['medical animator']],\n",
              " [['marketing expert']],\n",
              " [['economist']],\n",
              " [['inventor']],\n",
              " [['economist']],\n",
              " [['investment banker']],\n",
              " [['university founder']],\n",
              " [['novelist', 'poet']],\n",
              " [['investor and advocate for moral leadership']],\n",
              " [['musician', 'activist']],\n",
              " [['producer']],\n",
              " [['inventor']],\n",
              " [['dictionary editor']],\n",
              " [['journalist']],\n",
              " [['artist']],\n",
              " [['psychologist']],\n",
              " [['psychologist']],\n",
              " [['filmmaker']],\n",
              " [['paleoanthropologist']],\n",
              " [['artist']],\n",
              " [['technology forecaster']],\n",
              " [['engineer']],\n",
              " [['planetary scientist']],\n",
              " [['dancer']],\n",
              " [['entrepreneur']],\n",
              " [['roboticist']],\n",
              " [['illustrator', 'author']],\n",
              " [['user anthropologist']],\n",
              " [['brain expert']],\n",
              " [['economist']],\n",
              " [['doctor']],\n",
              " [['monk', 'author', 'photographer']],\n",
              " [['legal activist']],\n",
              " [['dna origamist']],\n",
              " [['environmental scientist']],\n",
              " [['author', 'academic', 'futurist']],\n",
              " [['epidemiologist', 'philanthropist']],\n",
              " [['biologist']],\n",
              " [['mathematician']],\n",
              " [['designer']],\n",
              " [['physicist']],\n",
              " [['physicist', 'energy guru']],\n",
              " [['mathemagician']],\n",
              " [['psychologist']],\n",
              " [['connector']],\n",
              " [['tinkerer']],\n",
              " [['novelist']],\n",
              " [['investor']],\n",
              " [['ecologist']],\n",
              " [['filmmaker']],\n",
              " [['oceanographer']],\n",
              " [['curator of architecture and design']],\n",
              " [['architect']],\n",
              " [['guitarist']],\n",
              " [['social innovator']],\n",
              " [['college president']],\n",
              " [['technology columnist']],\n",
              " [['artist']],\n",
              " [['head of ted']],\n",
              " [['transport networker']],\n",
              " [['city evangelist']],\n",
              " [['illustrator']],\n",
              " [['environmental writer']],\n",
              " [['digital community builder']],\n",
              " [['theremin player']],\n",
              " [['historian of science']],\n",
              " [['architect']],\n",
              " [['singer/songwriter'], ['actor', 'comedian', 'playwright']],\n",
              " [['jugglers']],\n",
              " [['kenyan mp']],\n",
              " [['venture capitalist']],\n",
              " [['researcher'], ['astronomer']],\n",
              " [['educator and computing pioneer']],\n",
              " [['biologist', 'genetics pioneer']],\n",
              " [['tech visionary']],\n",
              " [['neuroanatomist']],\n",
              " [['architect']],\n",
              " [['author', 'publisher', 'education activist']],\n",
              " [['religious scholar']],\n",
              " [['physicist', 'education activist']],\n",
              " [['architect']],\n",
              " [['brain researcher']],\n",
              " [['astronomer', 'educator', 'skeptic']],\n",
              " [['illustrator']],\n",
              " [['filmmaker']],\n",
              " [['designer']],\n",
              " [['theoretical physicist']],\n",
              " [['climate advocate']],\n",
              " [['human-computer interaction researcher']],\n",
              " [['composer', 'inventor'], ['musician']],\n",
              " [['legal expert']],\n",
              " [['cardiologist']],\n",
              " [['novelist']],\n",
              " [['physicist']],\n",
              " [['band']],\n",
              " [['physicist']],\n",
              " [['ceo']],\n",
              " [['mycologist']],\n",
              " [['evolutionary biologist']],\n",
              " [['juggler']],\n",
              " [['hacker']],\n",
              " [['ceo', 'public radio international (pri)']],\n",
              " [['food writer']],\n",
              " [['oceanographer']],\n",
              " [['designer']],\n",
              " [['sculptor']],\n",
              " [['doctor']],\n",
              " [['economist']],\n",
              " [['memeticist']],\n",
              " [['polymath']],\n",
              " [['anthropologist', 'ethnobotanist']],\n",
              " [['physicist']],\n",
              " [['artist']],\n",
              " [['historian of science']],\n",
              " [['physician', 'author']],\n",
              " [['biologist']],\n",
              " [['venture capitalist']],\n",
              " [['economist']],\n",
              " [['conductor']],\n",
              " [['tech visionary']],\n",
              " [['singer/songwriter']],\n",
              " [['space activist']],\n",
              " [['photographer']],\n",
              " [['guitarist']],\n",
              " [['botanist and activist']],\n",
              " [['animating neurobiologist']],\n",
              " [['filmmaker']],\n",
              " [['social media theorist']],\n",
              " [['singer/songwriter']],\n",
              " [['physicist']],\n",
              " [['anthropologist', 'expert on love']],\n",
              " [['preacher']],\n",
              " [['author']],\n",
              " [['magician']],\n",
              " [['psychologist']],\n",
              " [['craft artist', 'product designer']],\n",
              " [['novelist', 'poet']],\n",
              " [['paleoanthropologist']],\n",
              " [['artist', 'storyteller', 'internet anthropologist']],\n",
              " [['architecture critic']],\n",
              " [['digital visionary']],\n",
              " [['origamist']],\n",
              " [['bioengineer']],\n",
              " [['engineer and origamist'], ['cellist']],\n",
              " [['particle physicist']],\n",
              " [['genographer']],\n",
              " [['director of photography', 'national geographic']],\n",
              " [['close-up card magician']],\n",
              " [['animal behaviorist']],\n",
              " [['singer/songwriter']],\n",
              " [['musician and inventor']],\n",
              " [['education researcher']],\n",
              " [['blogger and activist']],\n",
              " [['african grey parrot']],\n",
              " [['dna origamist']],\n",
              " [['space activist']],\n",
              " [['entrepreneur', 'marketer']],\n",
              " [['educator']],\n",
              " [['primatologist', 'environmentalist']],\n",
              " [['physician', 'disaster-preparedness activist']],\n",
              " [['digital librarian']],\n",
              " [['oceanographer']],\n",
              " [['storyteller']],\n",
              " [['traveler']],\n",
              " [['lunch lady']],\n",
              " [['social psychologist']],\n",
              " [['playwright', 'activist']],\n",
              " [['angel investor']],\n",
              " [['ai pioneer']],\n",
              " [['psychologist']],\n",
              " [['counselor', 'coach and baker']],\n",
              " [['toy designer']],\n",
              " [['psychologist']],\n",
              " [['roboticist']],\n",
              " [['graphic designer']],\n",
              " [['constitutional law scholar']],\n",
              " [['designer']],\n",
              " [['photojournalist']],\n",
              " [['game designer']],\n",
              " [['historian']],\n",
              " [['writer']],\n",
              " [['human beatbox']],\n",
              " [['physicist']],\n",
              " [['curator of architecture and design']],\n",
              " [['journalist']],\n",
              " [['physician', 'author']],\n",
              " [['expert']],\n",
              " [['engineer']],\n",
              " [['positive psychologist']],\n",
              " [['photographer']],\n",
              " [['civilization scholar']],\n",
              " [['performance poet', 'multimedia artist']],\n",
              " [['inventor'], ['inventor']],\n",
              " [['filmmaker']],\n",
              " [['spiritual leader']],\n",
              " [['vedantic teacher']],\n",
              " [['preacher']],\n",
              " [['chairman of the cordoba initiative']],\n",
              " [['buddhist scholar']],\n",
              " [['journalist', 'philosopher']],\n",
              " [['inventor']],\n",
              " [['finance journalist']],\n",
              " [['planet walker']],\n",
              " [['designer']],\n",
              " [['nose']],\n",
              " [['physicist']],\n",
              " [['political scientist and journalist']],\n",
              " [['planetary scientist']],\n",
              " [['comedian']],\n",
              " [['environmentalist', 'futurist']],\n",
              " [['fashion designer']],\n",
              " [['filmmaker']],\n",
              " [['astrophysicist']],\n",
              " [['technologist and futurist']],\n",
              " [['chef']],\n",
              " [['internet entrepreneur']],\n",
              " [['bioengineer']],\n",
              " [['writer']],\n",
              " [['entrepreneur']],\n",
              " [['automotive researcher']],\n",
              " [['inventor']],\n",
              " [['folk musician']],\n",
              " [['designer']],\n",
              " [['bee expert']],\n",
              " [['entrepreneur']],\n",
              " [['psychologist; happiness expert']],\n",
              " [['author']],\n",
              " [['cave scientist']],\n",
              " [['tech visionary']],\n",
              " [['mathematician']],\n",
              " [['reporter']],\n",
              " [['biochemist']],\n",
              " [['artist']],\n",
              " [['paleontologist']],\n",
              " [['inventor']],\n",
              " [['designer']],\n",
              " [['designer']],\n",
              " [['cartoonist']],\n",
              " [['baker']],\n",
              " [['writer']],\n",
              " [['designer at play']],\n",
              " [['type designer']],\n",
              " [['world-builder']],\n",
              " [['entrepreneur']],\n",
              " [['doctor']],\n",
              " [['inventor']],\n",
              " [['paleontologist']],\n",
              " [['athlete and actor']],\n",
              " [['biochemist']],\n",
              " [['fiddler']],\n",
              " [['idea guy']],\n",
              " [['philanthropist']],\n",
              " [['writer']],\n",
              " [['graphic designer']],\n",
              " [['mit grad student']],\n",
              " [['psychologist']],\n",
              " [['author', 'academic', 'futurist']],\n",
              " [['maestro']],\n",
              " [['ensemble']],\n",
              " [['oceanographer']],\n",
              " [['astronomer']],\n",
              " [['visual storyteller']],\n",
              " [['oceanographer']],\n",
              " [['ichthyologist']],\n",
              " [['photographer and explorer']],\n",
              " [['twitter co-founder']],\n",
              " [['designer and theorist']],\n",
              " [['conservationist']],\n",
              " [['tree researcher']],\n",
              " [['tv host']],\n",
              " [['cognitive scientist and design critic']],\n",
              " [['researcher'], ['director of research', 'samsung research america']],\n",
              " [['athlete and actor']],\n",
              " [['play researcher', 'psychiatrist']],\n",
              " [['inventor']],\n",
              " [['philosopher', 'cognitive scientist']],\n",
              " [['behavioral economist']],\n",
              " [['maker', 'critical thinker']],\n",
              " [['humorist']],\n",
              " [['business owner and activist']],\n",
              " [['inventor']],\n",
              " [['investor and advocate for moral leadership']],\n",
              " [['technology columnist']],\n",
              " [['coach']],\n",
              " [['virus hunter']],\n",
              " [['poet']],\n",
              " [['newspaper designer']],\n",
              " [['aerialist']],\n",
              " [['designer']],\n",
              " [['military analyst']],\n",
              " [['filmmaker']],\n",
              " [['political scientist']],\n",
              " [['molecular biologist']],\n",
              " [['philosopher-comic']],\n",
              " [['skeptimist']],\n",
              " [['green auto pioneer']],\n",
              " [['author', 'thinker']],\n",
              " [['investor', 'human guinea pig', 'author']],\n",
              " [['composer']],\n",
              " [['marketer', 'rock climber']],\n",
              " [['figurer']],\n",
              " [['designer']],\n",
              " [['cartoonist']],\n",
              " [['statistician']],\n",
              " [['technologist']],\n",
              " [['economist']],\n",
              " [['neuroscientist']],\n",
              " [['polymorphic playwright']],\n",
              " [['science journalist']],\n",
              " [['physicist']],\n",
              " [['physicist and military theorist']],\n",
              " [['astronaut', 'engineer', 'entrepreneur', 'physician and educator']],\n",
              " [['sculptor']],\n",
              " [['climate advocate']],\n",
              " [['food and agriculture expert']],\n",
              " [['marketer and author']],\n",
              " [['global health expert; data visionary']],\n",
              " [['technologist and visionary']],\n",
              " [['a capella ensemble']],\n",
              " [['sustainable-business pioneer']],\n",
              " [['behavioral economist']],\n",
              " [['writer']],\n",
              " [['planetary scientist']],\n",
              " [['designer']],\n",
              " [['speaker and author']],\n",
              " [['first lady of the united states']],\n",
              " [['entrepreneur']],\n",
              " [['educator']],\n",
              " [['guitarist']],\n",
              " [['college president']],\n",
              " [['inventor', 'futurist']],\n",
              " [['photographer']],\n",
              " [['publisher', 'philanthropist', 'poet']],\n",
              " [['media exec']],\n",
              " [['engineer', 'executive']],\n",
              " [['inventor']],\n",
              " [['evolutionary psychologist']],\n",
              " [['biologist']],\n",
              " [['marketer', 'success analyst']],\n",
              " [['biospherian']],\n",
              " [['social media theorist']],\n",
              " [['deprogrammer']],\n",
              " [['roboticist']],\n",
              " [['psychologist']],\n",
              " [['economist']],\n",
              " [['new philanthropist']],\n",
              " [['endurance runner']],\n",
              " [['mathemagician']],\n",
              " [['tinkerer']],\n",
              " [['architect']],\n",
              " [['artist']],\n",
              " [['designer']],\n",
              " [['development economist']],\n",
              " [['biochemist']],\n",
              " [['environmentalist', 'futurist']],\n",
              " [['sculptor of light and space']],\n",
              " [['physician-scientist', 'inventor', 'entrepreneur']],\n",
              " [['neurobiologist']],\n",
              " [['anthropologist']],\n",
              " [['british prime minister']],\n",
              " [['philosopher']],\n",
              " [['experimental audio-visual artist']],\n",
              " [['aquatic ape theorist']],\n",
              " [['micro-sculptor']],\n",
              " [['inventor']],\n",
              " [['chief economist and senior vice president', 'world bank']],\n",
              " [['science writer', 'innovation consultant', 'conservationist']],\n",
              " [['hip-hop artist']],\n",
              " [['career analyst']],\n",
              " [['wireless electrician']],\n",
              " [['global health expert; data visionary']],\n",
              " [['artist']],\n",
              " [['biodiversity archivist']],\n",
              " [['optical innovator']],\n",
              " [['social commentator']],\n",
              " [['creative technologist']],\n",
              " [['stuntman']],\n",
              " [['photographer']],\n",
              " [['coldwater swimmer']],\n",
              " [['cognitive neuroscientist']],\n",
              " [['underworld investigator']],\n",
              " [['architect']],\n",
              " [['producer']],\n",
              " [['neurological anthropologist']],\n",
              " [['musician']],\n",
              " [['net watchdog']],\n",
              " [['internet scientist']],\n",
              " [['inventor']],\n",
              " [['artist']],\n",
              " [['investor and advocate for moral leadership']],\n",
              " [['global strategist']],\n",
              " [['designer']],\n",
              " [['religious scholar']],\n",
              " [['astrophysicist']],\n",
              " [['graphic designer']],\n",
              " [['food urbanist']],\n",
              " [['professor of management']],\n",
              " [['novelist']],\n",
              " [['neuroscientist']],\n",
              " [['writer']],\n",
              " [['landscape ecologist']],\n",
              " [['robotics designer']],\n",
              " [['advertising guru']],\n",
              " [['neuroscientist']],\n",
              " [['sound consultant']],\n",
              " [['marketing whiz']],\n",
              " [['computer graphics pioneer']],\n",
              " [['conductor and leadership expert']],\n",
              " [['inventor']],\n",
              " [['economist', 'development visionary']],\n",
              " [['physicist', 'author']],\n",
              " [['applied scientist', 'innovator']],\n",
              " [['writer']],\n",
              " [['mathematician']],\n",
              " [['tech anthropologist']],\n",
              " [['co-founder', 'architecture for humanity']],\n",
              " [['atmospheric chemist']],\n",
              " [['photographer']],\n",
              " [['cultural diplomacy expert']],\n",
              " [['director of research', 'samsung research america']],\n",
              " [['designer']],\n",
              " [['social entrepreneur']],\n",
              " [['mythologist']],\n",
              " [['designer']],\n",
              " [['global health expert; data visionary']],\n",
              " [['resilience leader']],\n",
              " [['dune architect']],\n",
              " [['dancer', 'actor', 'activist']],\n",
              " [['politician and writer']],\n",
              " [['british prime minister']],\n",
              " [['astronomer']],\n",
              " [['environmental activist']],\n",
              " [['puzzlemaster']],\n",
              " [['comedian']],\n",
              " [['anti-trafficking crusader']],\n",
              " [['vision activist']],\n",
              " [['cultural historian']],\n",
              " [['arab sexuality expert']],\n",
              " [['macroeconomist']],\n",
              " [['entrepreneur']],\n",
              " [['photographer']],\n",
              " [['marine biologist']],\n",
              " [['aphorist']],\n",
              " [['social entrepreneur', 'lawyer']],\n",
              " [['physicist']],\n",
              " [['social entrepreneur']],\n",
              " [['solar adventurer']],\n",
              " [['brain expert']],\n",
              " [['x-ray visionary']],\n",
              " [['longevity coach', 'explorer']],\n",
              " [['herpetologist']],\n",
              " [['jazz legend']],\n",
              " [['wildlife conservationist']],\n",
              " [['educator']],\n",
              " [['engineer']],\n",
              " [['comedian', 'voice artist']],\n",
              " [['illusionist', 'endurance artist']],\n",
              " [['investor']],\n",
              " [['surgeon']],\n",
              " [['health and human services expert']],\n",
              " [['architect']],\n",
              " [['playwright', 'activist']],\n",
              " [['social entrepreneur']],\n",
              " [['entrepreneur']],\n",
              " [['behavioral economist']],\n",
              " [['healthcare revolutionary']],\n",
              " [['chemist']],\n",
              " [['cancer doctor']],\n",
              " [['sculptor'], ['journalist']],\n",
              " [['founder', 'transparency international']],\n",
              " [['chef', 'activist']],\n",
              " [['software architect']],\n",
              " [['politician']],\n",
              " [['athlete and actor']],\n",
              " [['philanthropist']],\n",
              " [['digital visionary']],\n",
              " [['legal activist']],\n",
              " [['cardiologist and geneticist']],\n",
              " [['livestock handling designer', 'autism activist']],\n",
              " [['visual neuroscientist']],\n",
              " [['artist']],\n",
              " [['behavioral economics founder']],\n",
              " [['cricket commentator']],\n",
              " [['technologist']],\n",
              " [['director']],\n",
              " [['dance adventurers']],\n",
              " [['inventor']],\n",
              " [['venture capitalist']],\n",
              " [['chef']],\n",
              " [['magician']],\n",
              " [['biochemist', 'cell biologist']],\n",
              " [['social scientist']],\n",
              " [['game designer']],\n",
              " [['adventure physician']],\n",
              " [['director and writer']],\n",
              " [['neuroscientist', 'philosopher']],\n",
              " [['biologist']],\n",
              " [['executive', 'simplicity guru']],\n",
              " [['planetary and atmospheric scientist']],\n",
              " [['anti-slavery activist']],\n",
              " [['education activist']],\n",
              " [['child prodigy']],\n",
              " [['entrepreneur']],\n",
              " [['media expert']],\n",
              " [['author']],\n",
              " [['inventor']],\n",
              " [['roboticist']],\n",
              " [['educator']],\n",
              " [['singer/songwriter']],\n",
              " [['writer']],\n",
              " [['executive']],\n",
              " [['roboticist']],\n",
              " [['curator']],\n",
              " [['marine biologist']],\n",
              " [['skeptic and conjuror']],\n",
              " [['inventor']],\n",
              " [['designer']],\n",
              " [['technologist', 'city councilman']],\n",
              " [['philanthropist']],\n",
              " [['scientist', 'inventor']],\n",
              " [['chemist']],\n",
              " [['ocean rower']],\n",
              " [['data scientist']],\n",
              " [['development economist']],\n",
              " [['leadership expert']],\n",
              " [['marine ecologist']],\n",
              " [['innovation advocate']],\n",
              " [['electronic music pioneer'], ['string quartet']],\n",
              " [['physician', 'social scientist']],\n",
              " [['polymath']],\n",
              " [['marine ecologist']],\n",
              " [['educator']],\n",
              " [['actor', 'comedian', 'playwright']],\n",
              " [['cancer researcher']],\n",
              " [['journalist']],\n",
              " [['conservation biologist']],\n",
              " [['geophysicist']],\n",
              " [['biologist', 'genetics pioneer']],\n",
              " [['author', 'educator']],\n",
              " [['media maven']],\n",
              " [['director', 'journalist']],\n",
              " [['vaccine visionary']],\n",
              " [['legal activist']],\n",
              " [['interface designer']],\n",
              " [['photographer']],\n",
              " [['founder', '4chan']],\n",
              " [['physicist']],\n",
              " [['creative entrepreneur']],\n",
              " [['political philosopher']],\n",
              " [['conservationist']],\n",
              " [['advertising guru']],\n",
              " [['environmentalist', 'futurist'], ['civil and environmental engineer']],\n",
              " [['musician', 'artist', 'writer']],\n",
              " [['skeptic']],\n",
              " [['user experience master']],\n",
              " [['behavioral ecologist']],\n",
              " [['entrepreneur']],\n",
              " [['dancer and choreographer']],\n",
              " [['hospitality entrepreneur', 'author']],\n",
              " [['designer', 'illustrator', 'typographer']],\n",
              " [['innovation consultant']],\n",
              " [['neuroscientist']],\n",
              " [['entrepreneur', 'lego enthusiast']],\n",
              " [['social media theorist']],\n",
              " [['architect']],\n",
              " [['marine biologist']],\n",
              " [['scientist', 'artist']],\n",
              " [['architect', 'designer']],\n",
              " [['mathematician']],\n",
              " [['social entrepreneur']],\n",
              " [['tree researcher']],\n",
              " [['global health expert; data visionary']],\n",
              " [['ecologist', 'writer']],\n",
              " [['rational optimist']],\n",
              " [['blogger', 'digital visionary']],\n",
              " [['novelist']],\n",
              " [['internet activist']],\n",
              " [['creator', 'the 99']],\n",
              " [['astronomer']],\n",
              " [['entrepreneur']],\n",
              " [['surgeon', 'inventor']],\n",
              " [['psycho-economist']],\n",
              " [['oceanographer']],\n",
              " [['cognitive psychologist']],\n",
              " [['coldwater swimmer']],\n",
              " [['market transformer']],\n",
              " [['author', 'journalist']],\n",
              " [['game changer']],\n",
              " [['producer']],\n",
              " [['comedian']],\n",
              " [['entrepreneur']],\n",
              " [['data journalist']],\n",
              " [['journalist']],\n",
              " [['cartoonist']],\n",
              " [['writer']],\n",
              " [['online marketing whiz']],\n",
              " [['happiness researcher']],\n",
              " [['sustainability expert']],\n",
              " [['spiritual leader']],\n",
              " [['entrepreneur']],\n",
              " [['artist', 'photographer']],\n",
              " [['education researcher']],\n",
              " [['artist']],\n",
              " [['diplomat']],\n",
              " [['arts administrator']],\n",
              " [['oceanographer', 'biogeochemist']],\n",
              " [['head of ted']],\n",
              " [['writer']],\n",
              " [['physician', 'social scientist']],\n",
              " [['musician']],\n",
              " [['artist']],\n",
              " [['writer']],\n",
              " [['hiv/aids fighter']],\n",
              " [['activist', 'singer-songwriter']],\n",
              " [['designer']],\n",
              " [['sound consultant']],\n",
              " [['journalist']],\n",
              " [['computational neuroscientist']],\n",
              " [['analytical psychologist']],\n",
              " [['public health expert']],\n",
              " [['green designer']],\n",
              " [['economist']],\n",
              " [['marine biologist']],\n",
              " [['global health expert; data visionary']],\n",
              " [['brand strategist']],\n",
              " [['plant neurobiologist']],\n",
              " [['philanthropist']],\n",
              " [['building activist']],\n",
              " [['artist and engineer']],\n",
              " [['web humorist']],\n",
              " [['microlender']],\n",
              " [['food scientist']],\n",
              " [['artist and activist']],\n",
              " [['editorial cartoonist']],\n",
              " [['electronic music pioneer'],\n",
              "  ['string quartet'],\n",
              "  ['musician', 'artist', 'writer']],\n",
              " [['scientist', 'innovator']],\n",
              " [['diplomat']],\n",
              " [['chef']],\n",
              " [['entomologist']],\n",
              " [['multimedia artist']],\n",
              " [['gaming theorist']],\n",
              " [['voting system designer']],\n",
              " [['optogeneticist']],\n",
              " [['oceanographer']],\n",
              " [['musician']],\n",
              " [['humanitarian design activist']],\n",
              " [['ethnic conflicts scholar']],\n",
              " [['photographer']],\n",
              " [['labor-rights activist']],\n",
              " [['ecologist']],\n",
              " [['mathematician']],\n",
              " [['philosopher']],\n",
              " [['computer scientist', 'educator']],\n",
              " [['designer', 'educator']],\n",
              " [['high seas policy advisor']],\n",
              " [['neuropsychologist']],\n",
              " [['activist and social entrepreneur']],\n",
              " [['software entrepreneur']],\n",
              " [['builder']],\n",
              " [['aspiring organic farmer']],\n",
              " [['mediator']],\n",
              " [['ecological entomologist']],\n",
              " [['product developer']],\n",
              " [['green chef']],\n",
              " [['change catalyst']],\n",
              " [['author', 'educator', 'activist']],\n",
              " [['corrections pioneer']],\n",
              " [['journalist']],\n",
              " [['educator']],\n",
              " [['website co-founders']],\n",
              " [['trust researcher']],\n",
              " [['conservationists', 'filmmakers']],\n",
              " [['coo', 'facebook']],\n",
              " [['activist for environmental justice']],\n",
              " [['vulnerability researcher']],\n",
              " [['psychologist']],\n",
              " [['journalist']],\n",
              " [['writer', 'psychologist']],\n",
              " [['researcher']],\n",
              " [['physician', 'cancer researcher']],\n",
              " [['thinker', 'writer', 'speaker', 'podcaster']],\n",
              " [['nobel peace laureate']],\n",
              " [['cyborg anthropologist']],\n",
              " [['designer']],\n",
              " [['wellness specialist']],\n",
              " [['instructional designer']],\n",
              " [['journalist', 'activist']],\n",
              " [['soprano']],\n",
              " [['social justice and green energy activist']],\n",
              " [['scientific visualization expert']],\n",
              " [['roboticist']],\n",
              " [['writer', 'columnist']],\n",
              " [['healthcare communicator']],\n",
              " [['cartoonist']],\n",
              " [['artist', 'scientist and entrepreneur']],\n",
              " [['writer']],\n",
              " [['landscape architect']],\n",
              " [['tech publisher']],\n",
              " [['media maven']],\n",
              " [['journalist', 'runner']],\n",
              " [['poet', 'playwright']],\n",
              " [['author and marketer']],\n",
              " [['roboticist']],\n",
              " [['somali doctors who treat women refugees']],\n",
              " [['architect']],\n",
              " [['whistler']],\n",
              " [['journalist']],\n",
              " [['language']],\n",
              " [['investor and advocate for moral leadership']],\n",
              " [['entrepreneur']],\n",
              " [['former us secretary of state']],\n",
              " [['economist']],\n",
              " [['facial surgeon']],\n",
              " [['explorer', 'ethnographer']],\n",
              " [['computer theorist']],\n",
              " [['piano trio']],\n",
              " [['journalist']],\n",
              " [['street artist']],\n",
              " [['internet activist and computer engineer']],\n",
              " [['philanthropist']],\n",
              " [['surgeon']],\n",
              " [['journalist']],\n",
              " [['educator and social entrepreneur']],\n",
              " [['cognitive scientist']],\n",
              " [['natural resources expert']],\n",
              " [['op-ed columnist', 'author']],\n",
              " [['physicist']],\n",
              " [['activist', 'volunteer firefighter']],\n",
              " [['lighting designer']],\n",
              " [['poet']],\n",
              " [['global health expert; data visionary']],\n",
              " [['primatologist']],\n",
              " [['ethicist']],\n",
              " [[\"berkeley bionics' ceo\"]],\n",
              " [['soprano']],\n",
              " [['language teacher']],\n",
              " [['security consultant']],\n",
              " [['puppeteers']],\n",
              " [['educator', 'entrepreneur']],\n",
              " [['composer', 'conductor']],\n",
              " [['educator']],\n",
              " [['military leader']],\n",
              " [['google fellow']],\n",
              " [['filmmaker']],\n",
              " [['entrepreneur']],\n",
              " [['inclusivity activist']],\n",
              " [['musician and activist']],\n",
              " [['historian']],\n",
              " [['artist and organizer']],\n",
              " [['film critic and blogger']],\n",
              " [['farmer and technologist']],\n",
              " [['surgeon']],\n",
              " [['sociologist']],\n",
              " [['wrongologist']],\n",
              " [['educator']],\n",
              " [['author', 'journalist']],\n",
              " [['entrepreneur']],\n",
              " [['health policy expert']],\n",
              " [['security expert']],\n",
              " [['biological engineer']],\n",
              " [['software engineer']],\n",
              " [['toymaker']],\n",
              " [['9/11 mothers']],\n",
              " [['online democracy advocate']],\n",
              " [['architect and engineer']],\n",
              " [['designer', 'biofabrication pioneer']],\n",
              " [['physicist', 'cosmologist']],\n",
              " [['filmmaker']],\n",
              " [['polar photographer']],\n",
              " [['biomedical engineer']],\n",
              " [['entrepreneur']],\n",
              " [['technologist']],\n",
              " [['physicist']],\n",
              " [['neuroengineer']],\n",
              " [['designer']],\n",
              " [['pediatric anesthesiologist']],\n",
              " [['marine biologist']],\n",
              " [['thinker']],\n",
              " [['data artist']],\n",
              " [['epidemiologist']],\n",
              " [['iranian visual artist']],\n",
              " [['journalist']],\n",
              " [['violinist'], ['cellist']],\n",
              " [['roboticist']],\n",
              " [['graphic designer']],\n",
              " [['physicist']],\n",
              " [['designer']],\n",
              " [['philosopher', 'entrepreneur']],\n",
              " [['dinosaur digger']],\n",
              " [['artist']],\n",
              " [['chief economist and senior vice president', 'world bank']],\n",
              " [['historian']],\n",
              " [['communicator']],\n",
              " [['physician-scientist', 'inventor', 'entrepreneur']],\n",
              " [['artist and curator']],\n",
              " [['entrepreneur']],\n",
              " [['photographer']],\n",
              " [['beatjazz inventor and controllerist']],\n",
              " [['cellist']],\n",
              " [['executive chair', 'ford motor co.']],\n",
              " [['linguist', 'educator']],\n",
              " [['cartoonist']],\n",
              " [['artist']],\n",
              " [['comedian', 'activist']],\n",
              " [['computational neuroscientist']],\n",
              " [['e-patient']],\n",
              " [['friend of the high line']],\n",
              " [['technologist']],\n",
              " [['polymath']],\n",
              " [['educator']],\n",
              " [['author', 'producer']],\n",
              " [['tissue engineering researcher']],\n",
              " [['internet freedom activist']],\n",
              " [['anti-extremism activist']],\n",
              " [['economist', 'journalist', 'broadcaster']],\n",
              " [['journalist']],\n",
              " [['cybersecurity expert']],\n",
              " [['actor']],\n",
              " [['algoworld expert']],\n",
              " [['designer']],\n",
              " [['politician']],\n",
              " [['theorist']],\n",
              " [['psychologist']],\n",
              " [['anti-hunger leader']],\n",
              " [['sound consultant']],\n",
              " [['journalist']],\n",
              " [['communications technology innovator']],\n",
              " [['evolutionary biologist']],\n",
              " [['engineer and biodiversity scientist']],\n",
              " [['playwright', 'activist']],\n",
              " [['psychologist']],\n",
              " [['planetary futurist']],\n",
              " [['penguin expert']],\n",
              " [['peace activist']],\n",
              " [['stellar astronomer']],\n",
              " [['cyber illusionist']],\n",
              " [['behavioral economist']],\n",
              " [['geneticist']],\n",
              " [['filmmaker']],\n",
              " [['inventor']],\n",
              " [['author', 'zen priest']],\n",
              " [['historian']],\n",
              " [['actor and writer']],\n",
              " [['chemist']],\n",
              " [['artist']],\n",
              " [['political economist']],\n",
              " [['underworld investigator']],\n",
              " [['artist and technologist']],\n",
              " [['entrepreneur']],\n",
              " [['media executive']],\n",
              " [['historian']],\n",
              " [['data researcher'], ['researcher']],\n",
              " [['global development worker']],\n",
              " [['cancer researcher']],\n",
              " [['visualizer and gamestorming']],\n",
              " [['physician and author']],\n",
              " [['social commentator']],\n",
              " [['filmmaker']],\n",
              " [['debunker']],\n",
              " [['soprano']],\n",
              " [['media mogul', 'tv host']],\n",
              " [['artificial life researcher']],\n",
              " [['journalist']],\n",
              " [['plastics recycler']],\n",
              " [['conductor']],\n",
              " [['child development psychologist']],\n",
              " [['designer']],\n",
              " [['software entrepreneur']],\n",
              " [['lie detector']],\n",
              " [['artist']],\n",
              " [['educator']],\n",
              " [['science entrepreneur']],\n",
              " [['author']],\n",
              " [['biomedical engineer']],\n",
              " [['artist']],\n",
              " [['public health researcher']],\n",
              " [['writer']],\n",
              " [['research scientist']],\n",
              " ...]"
            ]
          },
          "metadata": {},
          "execution_count": 17
        }
      ]
    },
    {
      "cell_type": "code",
      "metadata": {
        "colab": {
          "base_uri": "https://localhost:8080/",
          "height": 53
        },
        "id": "dHtVZX2dlzPZ",
        "outputId": "16ec8862-894f-4f27-9683-5017cf9e23d0"
      },
      "source": [
        "df['about_speakers'][5]"
      ],
      "execution_count": 18,
      "outputs": [
        {
          "output_type": "execute_result",
          "data": {
            "application/vnd.google.colaboratory.intrinsic+json": {
              "type": "string"
            },
            "text/plain": [
              "\"{0: 'Joshua Prince-Ramus is best known as architect of the Seattle Central Library, already being hailed as a masterpiece of contemporary culture. Prince-Ramus was the founding partner of OMA New York—the American affiliate of the Office for Metropolitan Architecture (OMA) in the Netherlands—and served as its Principal until he renamed the firm REX in 2006.'}\""
            ]
          },
          "metadata": {},
          "execution_count": 18
        }
      ]
    },
    {
      "cell_type": "code",
      "metadata": {
        "colab": {
          "base_uri": "https://localhost:8080/"
        },
        "id": "HMLFp1aUp4jk",
        "outputId": "1a22e2e3-159b-4a9a-8f65-b745f8048296"
      },
      "source": [
        "df['views'].describe()"
      ],
      "execution_count": 19,
      "outputs": [
        {
          "output_type": "execute_result",
          "data": {
            "text/plain": [
              "count    4.005000e+03\n",
              "mean     2.148006e+06\n",
              "std      3.451226e+06\n",
              "min      0.000000e+00\n",
              "25%      8.820690e+05\n",
              "50%      1.375508e+06\n",
              "75%      2.133110e+06\n",
              "max      6.505195e+07\n",
              "Name: views, dtype: float64"
            ]
          },
          "metadata": {},
          "execution_count": 19
        }
      ]
    },
    {
      "cell_type": "code",
      "metadata": {
        "colab": {
          "base_uri": "https://localhost:8080/",
          "height": 362
        },
        "id": "2JsEAnHcqK2a",
        "outputId": "e106daad-409f-4343-b5e7-12c1526dbcb6"
      },
      "source": [
        "import seaborn as sns\n",
        "sns.distplot(df['views'])"
      ],
      "execution_count": 20,
      "outputs": [
        {
          "output_type": "stream",
          "name": "stderr",
          "text": [
            "/usr/local/lib/python3.7/dist-packages/seaborn/distributions.py:2619: FutureWarning: `distplot` is a deprecated function and will be removed in a future version. Please adapt your code to use either `displot` (a figure-level function with similar flexibility) or `histplot` (an axes-level function for histograms).\n",
            "  warnings.warn(msg, FutureWarning)\n"
          ]
        },
        {
          "output_type": "execute_result",
          "data": {
            "text/plain": [
              "<matplotlib.axes._subplots.AxesSubplot at 0x7f45227d4a50>"
            ]
          },
          "metadata": {},
          "execution_count": 20
        },
        {
          "output_type": "display_data",
          "data": {
            "image/png": "[encoded data removed]",
            "text/plain": [
              "<Figure size 432x288 with 1 Axes>"
            ]
          },
          "metadata": {
            "needs_background": "light"
          }
        }
      ]
    },
    {
      "cell_type": "code",
      "metadata": {
        "colab": {
          "base_uri": "https://localhost:8080/"
        },
        "id": "ltp2fT1rq0aT",
        "outputId": "6b9d33f5-0d5b-46aa-a3cc-8238db730ed6"
      },
      "source": [
        "eval(df['recorded_date'][0][0:4])"
      ],
      "execution_count": 21,
      "outputs": [
        {
          "output_type": "execute_result",
          "data": {
            "text/plain": [
              "2006"
            ]
          },
          "metadata": {},
          "execution_count": 21
        }
      ]
    },
    {
      "cell_type": "code",
      "metadata": {
        "colab": {
          "base_uri": "https://localhost:8080/",
          "height": 239
        },
        "id": "vPOH1Z49sFd6",
        "outputId": "05b5b4e7-d90d-4a89-a49c-6a94d370736a"
      },
      "source": [
        "df.loc[df['recorded_date'].isnull()]"
      ],
      "execution_count": 22,
      "outputs": [
        {
          "output_type": "execute_result",
          "data": {
            "text/html": [
              "<div>\n",
              "<style scoped>\n",
              "    .dataframe tbody tr th:only-of-type {\n",
              "        vertical-align: middle;\n",
              "    }\n",
              "\n",
              "    .dataframe tbody tr th {\n",
              "        vertical-align: top;\n",
              "    }\n",
              "\n",
              "    .dataframe thead th {\n",
              "        text-align: right;\n",
              "    }\n",
              "</style>\n",
              "<table border=\"1\" class=\"dataframe\">\n",
              "  <thead>\n",
              "    <tr style=\"text-align: right;\">\n",
              "      <th></th>\n",
              "      <th>talk_id</th>\n",
              "      <th>title</th>\n",
              "      <th>speaker_1</th>\n",
              "      <th>all_speakers</th>\n",
              "      <th>occupations</th>\n",
              "      <th>about_speakers</th>\n",
              "      <th>views</th>\n",
              "      <th>recorded_date</th>\n",
              "      <th>published_date</th>\n",
              "      <th>event</th>\n",
              "      <th>native_lang</th>\n",
              "      <th>available_lang</th>\n",
              "      <th>comments</th>\n",
              "      <th>duration</th>\n",
              "      <th>topics</th>\n",
              "      <th>related_talks</th>\n",
              "      <th>url</th>\n",
              "      <th>description</th>\n",
              "      <th>transcript</th>\n",
              "    </tr>\n",
              "  </thead>\n",
              "  <tbody>\n",
              "    <tr>\n",
              "      <th>3831</th>\n",
              "      <td>56629</td>\n",
              "      <td>The unpaid work that GDP ignores -- and why it...</td>\n",
              "      <td>Marilyn Waring</td>\n",
              "      <td>{0: 'Marilyn Waring'}</td>\n",
              "      <td>{0: ['economist']}</td>\n",
              "      <td>{0: 'Marilyn Waring advocates for a public pol...</td>\n",
              "      <td>1276272</td>\n",
              "      <td>NaN</td>\n",
              "      <td>2020-01-23</td>\n",
              "      <td>TEDxChristchurch</td>\n",
              "      <td>en</td>\n",
              "      <td>['en', 'es', 'fr', 'it', 'ko', 'pt', 'tr', 'vi...</td>\n",
              "      <td>20.0</td>\n",
              "      <td>1039</td>\n",
              "      <td>['global development', 'development', 'social ...</td>\n",
              "      <td>{46582: 'Why governments should prioritize wel...</td>\n",
              "      <td>https://www.ted.com/talks/marilyn_waring_the_u...</td>\n",
              "      <td>If you: do laundry, are (or have been) pregnan...</td>\n",
              "      <td>(In Maori: My mountain is Taupiri.) (Waikato i...</td>\n",
              "    </tr>\n",
              "  </tbody>\n",
              "</table>\n",
              "</div>"
            ],
            "text/plain": [
              "      talk_id  ...                                         transcript\n",
              "3831    56629  ...  (In Maori: My mountain is Taupiri.) (Waikato i...\n",
              "\n",
              "[1 rows x 19 columns]"
            ]
          },
          "metadata": {},
          "execution_count": 22
        }
      ]
    },
    {
      "cell_type": "code",
      "metadata": {
        "id": "h6PKloNhsSOD"
      },
      "source": [
        "df['recorded_date'] = np.where(df['recorded_date'].isnull(),'Empty',df['recorded_date'])"
      ],
      "execution_count": 23,
      "outputs": []
    },
    {
      "cell_type": "code",
      "metadata": {
        "id": "qWR8zHmHrSvs"
      },
      "source": [
        "year_list = list()\n",
        "for i in df['recorded_date']:\n",
        "  if i == 'Empty':\n",
        "    pass\n",
        "  else:\n",
        "     year_list.append(eval(i[0:4]))"
      ],
      "execution_count": 24,
      "outputs": []
    },
    {
      "cell_type": "code",
      "metadata": {
        "colab": {
          "base_uri": "https://localhost:8080/"
        },
        "id": "uEpyiVLutXvy",
        "outputId": "a02066c3-23e0-47d7-b385-51be61e18d63"
      },
      "source": [
        "unique_years = list(set(year_list))\n",
        "unique_years"
      ],
      "execution_count": 25,
      "outputs": [
        {
          "output_type": "execute_result",
          "data": {
            "text/plain": [
              "[1984,\n",
              " 1990,\n",
              " 1994,\n",
              " 1998,\n",
              " 2001,\n",
              " 2002,\n",
              " 2003,\n",
              " 2004,\n",
              " 2005,\n",
              " 2006,\n",
              " 2007,\n",
              " 2008,\n",
              " 2009,\n",
              " 2010,\n",
              " 2011,\n",
              " 2012,\n",
              " 2013,\n",
              " 2014,\n",
              " 2015,\n",
              " 2016,\n",
              " 2017,\n",
              " 2018,\n",
              " 2019,\n",
              " 2020]"
            ]
          },
          "metadata": {},
          "execution_count": 25
        }
      ]
    },
    {
      "cell_type": "code",
      "metadata": {
        "colab": {
          "base_uri": "https://localhost:8080/",
          "height": 337
        },
        "id": "s9k61X4lsAvT",
        "outputId": "ba34002f-8169-4992-d719-dc3f6997d131"
      },
      "source": [
        "sns.distplot(year_list)"
      ],
      "execution_count": 26,
      "outputs": [
        {
          "output_type": "stream",
          "name": "stderr",
          "text": [
            "/usr/local/lib/python3.7/dist-packages/seaborn/distributions.py:2619: FutureWarning: `distplot` is a deprecated function and will be removed in a future version. Please adapt your code to use either `displot` (a figure-level function with similar flexibility) or `histplot` (an axes-level function for histograms).\n",
            "  warnings.warn(msg, FutureWarning)\n"
          ]
        },
        {
          "output_type": "execute_result",
          "data": {
            "text/plain": [
              "<matplotlib.axes._subplots.AxesSubplot at 0x7f4520690f50>"
            ]
          },
          "metadata": {},
          "execution_count": 26
        },
        {
          "output_type": "display_data",
          "data": {
            "image/png": "[encoded data removed]",
            "text/plain": [
              "<Figure size 432x288 with 1 Axes>"
            ]
          },
          "metadata": {
            "needs_background": "light"
          }
        }
      ]
    },
    {
      "cell_type": "code",
      "metadata": {
        "id": "ZsowTEVWs4b3"
      },
      "source": [
        "df['published_date'] = np.where(df['published_date'].isnull(),'Empty',df['published_date'])"
      ],
      "execution_count": 27,
      "outputs": []
    },
    {
      "cell_type": "code",
      "metadata": {
        "id": "2Uam9Et1tu4d"
      },
      "source": [
        "year_list_published = list()\n",
        "for i in df['published_date']:\n",
        "  if i == 'Empty':\n",
        "    pass\n",
        "  else:\n",
        "     year_list_published.append(eval(i[0:4]))"
      ],
      "execution_count": 28,
      "outputs": []
    },
    {
      "cell_type": "code",
      "metadata": {
        "colab": {
          "base_uri": "https://localhost:8080/"
        },
        "id": "4EqjHY89uYLK",
        "outputId": "b7dfc4f3-3c31-4c24-9f66-1c4f051b15ce"
      },
      "source": [
        "unique_years_published = list(set(year_list_published))\n",
        "unique_years_published"
      ],
      "execution_count": 29,
      "outputs": [
        {
          "output_type": "execute_result",
          "data": {
            "text/plain": [
              "[2016,\n",
              " 2017,\n",
              " 2018,\n",
              " 2019,\n",
              " 2020,\n",
              " 2006,\n",
              " 2007,\n",
              " 2008,\n",
              " 2009,\n",
              " 2010,\n",
              " 2011,\n",
              " 2012,\n",
              " 2013,\n",
              " 2014,\n",
              " 2015]"
            ]
          },
          "metadata": {},
          "execution_count": 29
        }
      ]
    },
    {
      "cell_type": "code",
      "metadata": {
        "colab": {
          "base_uri": "https://localhost:8080/",
          "height": 337
        },
        "id": "271CN6_Luc-r",
        "outputId": "c65db24b-3251-4d79-bee5-e571d29a8c93"
      },
      "source": [
        "sns.distplot(year_list_published)"
      ],
      "execution_count": 30,
      "outputs": [
        {
          "output_type": "stream",
          "name": "stderr",
          "text": [
            "/usr/local/lib/python3.7/dist-packages/seaborn/distributions.py:2619: FutureWarning: `distplot` is a deprecated function and will be removed in a future version. Please adapt your code to use either `displot` (a figure-level function with similar flexibility) or `histplot` (an axes-level function for histograms).\n",
            "  warnings.warn(msg, FutureWarning)\n"
          ]
        },
        {
          "output_type": "execute_result",
          "data": {
            "text/plain": [
              "<matplotlib.axes._subplots.AxesSubplot at 0x7f452053b450>"
            ]
          },
          "metadata": {},
          "execution_count": 30
        },
        {
          "output_type": "display_data",
          "data": {
            "image/png": "[encoded data removed]",
            "text/plain": [
              "<Figure size 432x288 with 1 Axes>"
            ]
          },
          "metadata": {
            "needs_background": "light"
          }
        }
      ]
    },
    {
      "cell_type": "code",
      "metadata": {
        "colab": {
          "base_uri": "https://localhost:8080/"
        },
        "id": "0TbAdLhZuogU",
        "outputId": "ab8b74d3-c93d-4c00-eb5b-e3dcbce5d66e"
      },
      "source": [
        "df['event'].nunique()"
      ],
      "execution_count": 31,
      "outputs": [
        {
          "output_type": "execute_result",
          "data": {
            "text/plain": [
              "459"
            ]
          },
          "metadata": {},
          "execution_count": 31
        }
      ]
    },
    {
      "cell_type": "code",
      "metadata": {
        "colab": {
          "base_uri": "https://localhost:8080/"
        },
        "id": "gtgLsxvDvMGn",
        "outputId": "344778b8-b384-44fb-a55c-c6452749efe1"
      },
      "source": [
        "df['native_lang'].nunique()"
      ],
      "execution_count": 32,
      "outputs": [
        {
          "output_type": "execute_result",
          "data": {
            "text/plain": [
              "12"
            ]
          },
          "metadata": {},
          "execution_count": 32
        }
      ]
    },
    {
      "cell_type": "code",
      "metadata": {
        "colab": {
          "base_uri": "https://localhost:8080/"
        },
        "id": "GMCQPVySvhTU",
        "outputId": "0ee43376-66db-4e0a-c30f-e7be11ca4df1"
      },
      "source": [
        "languages_available = list()\n",
        "for i in df['available_lang']:\n",
        "  for j in eval(i):\n",
        "    languages_available.append(j)\n",
        "len(list(set(languages_available)))"
      ],
      "execution_count": 33,
      "outputs": [
        {
          "output_type": "execute_result",
          "data": {
            "text/plain": [
              "114"
            ]
          },
          "metadata": {},
          "execution_count": 33
        }
      ]
    },
    {
      "cell_type": "code",
      "metadata": {
        "colab": {
          "base_uri": "https://localhost:8080/"
        },
        "id": "_q4-11zZxFOk",
        "outputId": "528553a6-8f47-4a75-ca45-2ff4eec211ae"
      },
      "source": [
        "df['comments'].describe()"
      ],
      "execution_count": 34,
      "outputs": [
        {
          "output_type": "execute_result",
          "data": {
            "text/plain": [
              "count    3350.000000\n",
              "mean      161.997015\n",
              "std       268.838922\n",
              "min         0.000000\n",
              "25%        38.000000\n",
              "50%        89.000000\n",
              "75%       188.000000\n",
              "max      6449.000000\n",
              "Name: comments, dtype: float64"
            ]
          },
          "metadata": {},
          "execution_count": 34
        }
      ]
    },
    {
      "cell_type": "code",
      "metadata": {
        "colab": {
          "base_uri": "https://localhost:8080/",
          "height": 353
        },
        "id": "0BdSLzCYvofP",
        "outputId": "28513dd4-941f-4913-8df0-01c983deb2fb"
      },
      "source": [
        "sns.distplot(df['comments'])"
      ],
      "execution_count": 35,
      "outputs": [
        {
          "output_type": "stream",
          "name": "stderr",
          "text": [
            "/usr/local/lib/python3.7/dist-packages/seaborn/distributions.py:2619: FutureWarning: `distplot` is a deprecated function and will be removed in a future version. Please adapt your code to use either `displot` (a figure-level function with similar flexibility) or `histplot` (an axes-level function for histograms).\n",
            "  warnings.warn(msg, FutureWarning)\n"
          ]
        },
        {
          "output_type": "execute_result",
          "data": {
            "text/plain": [
              "<matplotlib.axes._subplots.AxesSubplot at 0x7f45203d54d0>"
            ]
          },
          "metadata": {},
          "execution_count": 35
        },
        {
          "output_type": "display_data",
          "data": {
            "image/png": "[encoded data removed]",
            "text/plain": [
              "<Figure size 432x288 with 1 Axes>"
            ]
          },
          "metadata": {
            "needs_background": "light"
          }
        }
      ]
    },
    {
      "cell_type": "code",
      "metadata": {
        "colab": {
          "base_uri": "https://localhost:8080/"
        },
        "id": "fbECtvOmxhj7",
        "outputId": "8f836404-3ac9-4b44-ad57-1cc6251b1d30"
      },
      "source": [
        "df['duration'].describe()"
      ],
      "execution_count": 36,
      "outputs": [
        {
          "output_type": "execute_result",
          "data": {
            "text/plain": [
              "count    4005.000000\n",
              "mean      724.011236\n",
              "std       361.775462\n",
              "min        60.000000\n",
              "25%       393.000000\n",
              "50%       738.000000\n",
              "75%       974.000000\n",
              "max      3922.000000\n",
              "Name: duration, dtype: float64"
            ]
          },
          "metadata": {},
          "execution_count": 36
        }
      ]
    },
    {
      "cell_type": "code",
      "metadata": {
        "colab": {
          "base_uri": "https://localhost:8080/",
          "height": 351
        },
        "id": "53vvmD10xDqb",
        "outputId": "52192107-b91b-4556-d095-fa2e006bb128"
      },
      "source": [
        "sns.distplot(df['duration'])"
      ],
      "execution_count": 37,
      "outputs": [
        {
          "output_type": "stream",
          "name": "stderr",
          "text": [
            "/usr/local/lib/python3.7/dist-packages/seaborn/distributions.py:2619: FutureWarning: `distplot` is a deprecated function and will be removed in a future version. Please adapt your code to use either `displot` (a figure-level function with similar flexibility) or `histplot` (an axes-level function for histograms).\n",
            "  warnings.warn(msg, FutureWarning)\n"
          ]
        },
        {
          "output_type": "execute_result",
          "data": {
            "text/plain": [
              "<matplotlib.axes._subplots.AxesSubplot at 0x7f45202dbe50>"
            ]
          },
          "metadata": {},
          "execution_count": 37
        },
        {
          "output_type": "display_data",
          "data": {
            "image/png": "[encoded data removed]",
            "text/plain": [
              "<Figure size 432x288 with 1 Axes>"
            ]
          },
          "metadata": {
            "needs_background": "light"
          }
        }
      ]
    },
    {
      "cell_type": "code",
      "metadata": {
        "colab": {
          "base_uri": "https://localhost:8080/"
        },
        "id": "86E-XHUxxdAn",
        "outputId": "bcc6be7f-b2ea-49e4-ea25-02fc7cac83ab"
      },
      "source": [
        "topics_list = list()\n",
        "for i in df['topics']:\n",
        "    for j in eval(i):\n",
        "      topics_list.append(j)\n",
        "unique_topics_list_list = list(set(topics_list))\n",
        "len(unique_topics_list_list)"
      ],
      "execution_count": 38,
      "outputs": [
        {
          "output_type": "execute_result",
          "data": {
            "text/plain": [
              "457"
            ]
          },
          "metadata": {},
          "execution_count": 38
        }
      ]
    },
    {
      "cell_type": "code",
      "metadata": {
        "colab": {
          "base_uri": "https://localhost:8080/",
          "height": 53
        },
        "id": "mq5Wj1AIx2em",
        "outputId": "40fbe3ec-8ffd-49f7-f959-3c30c4ed1387"
      },
      "source": [
        "df['related_talks'][0]"
      ],
      "execution_count": 39,
      "outputs": [
        {
          "output_type": "execute_result",
          "data": {
            "application/vnd.google.colaboratory.intrinsic+json": {
              "type": "string"
            },
            "text/plain": [
              "'{243: \\'New thinking on the climate crisis\\', 547: \\'The business logic of sustainability\\', 2093: \\'The state of the climate — and what we might do about it\\', 54715: \\'How we can turn the tide on climate\\', 29968: \\'The most important thing you can do to fight climate change: talk about it\\', 2339: \"Climate change is happening. Here\\'s how we adapt\"}'"
            ]
          },
          "metadata": {},
          "execution_count": 39
        }
      ]
    },
    {
      "cell_type": "code",
      "metadata": {
        "colab": {
          "base_uri": "https://localhost:8080/",
          "height": 53
        },
        "id": "MiTKTZBQzJtl",
        "outputId": "49f8a18c-908f-4cbf-8072-3dc8509a61dd"
      },
      "source": [
        "df['description'][0]"
      ],
      "execution_count": 40,
      "outputs": [
        {
          "output_type": "execute_result",
          "data": {
            "application/vnd.google.colaboratory.intrinsic+json": {
              "type": "string"
            },
            "text/plain": [
              "'With the same humor and humanity he exuded in \"An Inconvenient Truth,\" Al Gore spells out 15 ways that individuals can address climate change immediately, from buying a hybrid to inventing a new, hotter brand name for global warming.'"
            ]
          },
          "metadata": {},
          "execution_count": 40
        }
      ]
    },
    {
      "cell_type": "code",
      "metadata": {
        "colab": {
          "base_uri": "https://localhost:8080/",
          "height": 122
        },
        "id": "fq6NkqW7zVKh",
        "outputId": "36fe6af5-7471-4385-b18f-76bad1a63e7c"
      },
      "source": [
        "df['transcript'][0]"
      ],
      "execution_count": 41,
      "outputs": [
        {
          "output_type": "execute_result",
          "data": {
            "application/vnd.google.colaboratory.intrinsic+json": {
              "type": "string"
            },
            "text/plain": [
              "'Thank you so much, Chris. And it\\'s truly a great honor to have the opportunity to come to this stage twice; I\\'m extremely grateful. I have been blown away by this conference, and I want to thank all of you for the many nice comments about what I had to say the other night. And I say that sincerely, partly because (Mock sob) I need that. (Laughter) Put yourselves in my position. (Laughter) I flew on Air Force Two for eight years. (Laughter) Now I have to take off my shoes or boots to get on an airplane! (Laughter) (Applause) I\\'ll tell you one quick story to illustrate what that\\'s been like for me. (Laughter) It\\'s a true story — every bit of this is true. Soon after Tipper and I left the — (Mock sob) White House — (Laughter) we were driving from our home in Nashville to a little farm we have 50 miles east of Nashville. Driving ourselves. (Laughter) I know it sounds like a little thing to you, but — (Laughter) I looked in the rear-view mirror and all of a sudden it just hit me. There was no motorcade back there. (Laughter) You\\'ve heard of phantom limb pain? (Laughter) This was a rented Ford Taurus. (Laughter) It was dinnertime, and we started looking for a place to eat. We were on I-40. We got to Exit 238, Lebanon, Tennessee. We got off the exit, we found a Shoney\\'s restaurant. Low-cost family restaurant chain, for those of you who don\\'t know it. We went in and sat down at the booth, and the waitress came over, made a big commotion over Tipper. (Laughter) She took our order, and then went to the couple in the booth next to us, and she lowered her voice so much, I had to really strain to hear what she was saying. And she said \"Yes, that\\'s former Vice President Al Gore and his wife, Tipper.\" And the man said, \"He\\'s come down a long way, hasn\\'t he?\" (Laughter) (Applause) There\\'s been kind of a series of epiphanies. (Laughter) The very next day, continuing the totally true story, I got on a G-V to fly to Africa to make a speech in Nigeria, in the city of Lagos, on the topic of energy. And I began the speech by telling them the story of what had just happened the day before in Nashville. And I told it pretty much the same way I\\'ve just shared it with you: Tipper and I were driving ourselves, Shoney\\'s, low-cost family restaurant chain, what the man said — they laughed. I gave my speech, then went back out to the airport to fly back home. I fell asleep on the plane until, during the middle of the night, we landed on the Azores Islands for refueling. I woke up, they opened the door, I went out to get some fresh air, and I looked, and there was a man running across the runway. And he was waving a piece of paper, and he was yelling, \"Call Washington! Call Washington!\" And I thought to myself, in the middle of the night, in the middle of the Atlantic, what in the world could be wrong in Washington? Then I remembered it could be a bunch of things. (Laughter) But what it turned out to be, was that my staff was extremely upset because one of the wire services in Nigeria had already written a story about my speech, and it had already been printed in cities all across the United States of America. It was printed in Monterey, I checked. (Laughter) And the story began, \"Former Vice President Al Gore announced in Nigeria yesterday,\" quote: \\'My wife Tipper and I have opened a low-cost family restaurant\\'\" — (Laughter) \"\\'named Shoney\\'s, and we are running it ourselves.\\'\" (Laughter) Before I could get back to U.S. soil, David Letterman and Jay Leno had already started in on — one of them had me in a big white chef\\'s hat, Tipper was saying, \"One more burger with fries!\" (Laughter) Three days later, I got a nice, long, handwritten letter from my friend and partner and colleague Bill Clinton, saying, \"Congratulations on the new restaurant, Al!\" (Laughter) We like to celebrate each other\\'s successes in life. (Laughter) I was going to talk about information ecology. But I was thinking that, since I plan to make a lifelong habit of coming back to TED, that maybe I could talk about that another time. (Applause) Chris Anderson: It\\'s a deal! (Applause) Al Gore: I want to focus on what many of you have said you would like me to elaborate on: What can you do about the climate crisis? I want to start with a couple of — I\\'m going to show some new images, and I\\'m going to recapitulate just four or five. Now, the slide show. I update the slide show every time I give it. I add new images, because I learn more about it every time I give it. It\\'s like beach-combing, you know? Every time the tide comes in and out, you find some more shells. Just in the last two days, we got the new temperature records in January. This is just for the United States of America. Historical average for Januarys is 31 degrees; last month was 39.5 degrees. Now, I know that you wanted some more bad news about the environment — I\\'m kidding. But these are the recapitulation slides, and then I\\'m going to go into new material about what you can do. But I wanted to elaborate on a couple of these. First of all, this is where we\\'re projected to go with the U.S. contribution to global warming, under business as usual. Efficiency in end-use electricity and end-use of all energy is the low-hanging fruit. Efficiency and conservation — it\\'s not a cost; it\\'s a profit. The sign is wrong. It\\'s not negative; it\\'s positive. These are investments that pay for themselves. But they are also very effective in deflecting our path. Cars and trucks — I talked about that in the slideshow, but I want you to put it in perspective. It\\'s an easy, visible target of concern — and it should be — but there is more global warming pollution that comes from buildings than from cars and trucks. Cars and trucks are very significant, and we have the lowest standards in the world. And so we should address that. But it\\'s part of the puzzle. Other transportation efficiency is as important as cars and trucks. Renewables at the current levels of technological efficiency can make this much difference. And with what Vinod, and John Doerr and others, many of you here — there are a lot of people directly involved in this — this wedge is going to grow much more rapidly than the current projection shows it. Carbon Capture and Sequestration — that\\'s what CCS stands for — is likely to become the killer app that will enable us to continue to use fossil fuels in a way that is safe. Not quite there yet. OK. Now, what can you do? Reduce emissions in your home. Most of these expenditures are also profitable. Insulation, better design. Buy green electricity where you can. I mentioned automobiles — buy a hybrid. Use light rail. Figure out some of the other options that are much better. It\\'s important. Be a green consumer. You have choices with everything you buy, between things that have a harsh effect, or a much less harsh effect on the global climate crisis. Consider this: Make a decision to live a carbon-neutral life. Those of you who are good at branding, I\\'d love to get your advice and help on how to say this in a way that connects with the most people. It is easier than you think. It really is. A lot of us in here have made that decision, and it is really pretty easy. It means reduce your carbon dioxide emissions with the full range of choices that you make, and then purchase or acquire offsets for the remainder that you have not completely reduced. And what it means is elaborated at climatecrisis.net. There is a carbon calculator. Participant Productions convened — with my active involvement — the leading software writers in the world, on this arcane science of carbon calculation, to construct a consumer-friendly carbon calculator. You can very precisely calculate what your CO2 emissions are, and then you will be given options to reduce. And by the time the movie comes out in May, this will be updated to 2.0, and we will have click-through purchases of offsets. Next, consider making your business carbon-neutral. Again, some of us have done that, and it\\'s not as hard as you think. Integrate climate solutions into all of your innovations, whether you are from the technology, or entertainment, or design and architecture community. Invest sustainably. Majora mentioned this. Listen, if you have invested money with managers who you compensate on the basis of their annual performance, don\\'t ever again complain about quarterly report CEO management. Over time, people do what you pay them to do. And if they judge how much they\\'re going to get paid on your capital that they\\'ve invested, based on the short-term returns, you\\'re going to get short-term decisions. A lot more to be said about that. Become a catalyst of change. Teach others, learn about it, talk about it. The movie is a movie version of the slideshow I gave two nights ago, except it\\'s a lot more entertaining. And it comes out in May. Many of you here have the opportunity to ensure that a lot of people see it. Consider sending somebody to Nashville. Pick well. And I am personally going to train people to give this slideshow — re-purposed, with some of the personal stories obviously replaced with a generic approach, and it\\'s not just the slides, it\\'s what they mean. And it\\'s how they link together. And so I\\'m going to be conducting a course this summer for a group of people that are nominated by different folks to come and then give it en masse, in communities all across the country, and we\\'re going to update the slideshow for all of them every single week, to keep it right on the cutting edge. Working with Larry Lessig, it will be, somewhere in that process, posted with tools and limited-use copyrights, so that young people can remix it and do it in their own way. (Applause) Where did anybody get the idea that you ought to stay arm\\'s length from politics? It doesn\\'t mean that if you\\'re a Republican, that I\\'m trying to convince you to be a Democrat. We need Republicans as well. This used to be a bipartisan issue, and I know that in this group it really is. Become politically active. Make our democracy work the way it\\'s supposed to work. Support the idea of capping carbon dioxide emissions — global warming pollution — and trading it. Here\\'s why: as long as the United States is out of the world system, it\\'s not a closed system. Once it becomes a closed system, with U.S. participation, then everybody who\\'s on a board of directors — how many people here serve on the board of directors of a corporation? Once it\\'s a closed system, you will have legal liability if you do not urge your CEO to get the maximum income from reducing and trading the carbon emissions that can be avoided. The market will work to solve this problem — if we can accomplish this. Help with the mass persuasion campaign that will start this spring. We have to change the minds of the American people. Because presently, the politicians do not have permission to do what needs to be done. And in our modern country, the role of logic and reason no longer includes mediating between wealth and power the way it once did. It\\'s now repetition of short, hot-button, 30-second, 28-second television ads. We have to buy a lot of those ads. Let\\'s re-brand global warming, as many of you have suggested. I like \"climate crisis\" instead of \"climate collapse,\" but again, those of you who are good at branding, I need your help on this. Somebody said the test we\\'re facing now, a scientist told me, is whether the combination of an opposable thumb and a neocortex is a viable combination. (Laughter) That\\'s really true. I said the other night, and I\\'ll repeat now: this is not a political issue. Again, the Republicans here — this shouldn\\'t be partisan. You have more influence than some of us who are Democrats do. This is an opportunity. Not just this, but connected to the ideas that are here, to bring more coherence to them. We are one. Thank you very much, I appreciate it. (Applause)'"
            ]
          },
          "metadata": {},
          "execution_count": 41
        }
      ]
    },
    {
      "cell_type": "code",
      "metadata": {
        "id": "Soy745FdzdnS"
      },
      "source": [
        ""
      ],
      "execution_count": 41,
      "outputs": []
    }
  ]
}