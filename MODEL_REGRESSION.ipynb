{
  "nbformat": 4,
  "nbformat_minor": 0,
  "metadata": {
    "colab": {
      "name": "MODEL_REGRESSION.ipynb",
      "provenance": [],
      "collapsed_sections": [],
      "mount_file_id": "1YbTe7YPfgL9MarMQeUzgzn0LSUprN5HR",
      "authorship_tag": "ABX9TyOeQWoCbQobiXkeR+atl+tp",
      "include_colab_link": true
    },
    "kernelspec": {
      "name": "python3",
      "display_name": "Python 3"
    },
    "language_info": {
      "name": "python"
    }
  },
  "cells": [
    {
      "cell_type": "markdown",
      "metadata": {
        "id": "view-in-github",
        "colab_type": "text"
      },
      "source": [
        "<a href=\"https://colab.research.google.com/github/sanjogmish/Ted-Talk-Views-Prediction/blob/main/MODEL_REGRESSION.ipynb\" target=\"_parent\"><img src=\"https://colab.research.google.com/assets/colab-badge.svg\" alt=\"Open In Colab\"/></a>"
      ]
    },
    {
      "cell_type": "code",
      "metadata": {
        "id": "kazj3Fue2Uw7"
      },
      "source": [
        "import pandas as pd\n",
        "import numpy as np\n",
        "from sklearn.model_selection import train_test_split\n",
        "from sklearn.linear_model import LinearRegression\n",
        "from sklearn.metrics import r2_score\n",
        "from sklearn.model_selection import GridSearchCV,cross_validate,RandomizedSearchCV\n",
        "from sklearn.linear_model import Ridge\n",
        "from sklearn.linear_model import Lasso\n",
        "from sklearn.linear_model import ElasticNet"
      ],
      "execution_count": null,
      "outputs": []
    },
    {
      "cell_type": "code",
      "metadata": {
        "id": "DSFEUq5X62sb"
      },
      "source": [
        "X = pd.read_csv('/content/drive/MyDrive/Capstone 3 Regression/Final_data/X.csv')\n",
        "y= pd.read_csv('/content/drive/MyDrive/Capstone 3 Regression/Final_data/y.csv')"
      ],
      "execution_count": null,
      "outputs": []
    },
    {
      "cell_type": "code",
      "metadata": {
        "id": "7GB0Cd5F7Vzp"
      },
      "source": [
        "X_train, X_test, y_train, y_test = train_test_split(X, y, test_size=0.2, random_state=55)"
      ],
      "execution_count": null,
      "outputs": []
    },
    {
      "cell_type": "markdown",
      "metadata": {
        "id": "AiKnjVRO8ESB"
      },
      "source": [
        "# **LINEAR REGRESSION**"
      ]
    },
    {
      "cell_type": "code",
      "metadata": {
        "colab": {
          "base_uri": "https://localhost:8080/"
        },
        "id": "n-LDhRXr7-r1",
        "outputId": "d2a09887-8a4f-4251-a7f3-76867d84a291"
      },
      "source": [
        "regressor = LinearRegression()\n",
        "regressor.fit(X_train,y_train)\n",
        "\n",
        "y_train_pred = regressor.predict(X_train)\n",
        "y_pred = regressor.predict(X_test)\n",
        "\n",
        "r2_score(y_train,y_train_pred)"
      ],
      "execution_count": null,
      "outputs": [
        {
          "output_type": "execute_result",
          "data": {
            "text/plain": [
              "0.8888219034642579"
            ]
          },
          "metadata": {},
          "execution_count": 7
        }
      ]
    },
    {
      "cell_type": "code",
      "metadata": {
        "colab": {
          "base_uri": "https://localhost:8080/"
        },
        "id": "ZAC4-lUq8bCT",
        "outputId": "64a23e0c-021b-4e36-e830-34245ca6afb4"
      },
      "source": [
        "r2_score(y_test,y_pred)"
      ],
      "execution_count": null,
      "outputs": [
        {
          "output_type": "execute_result",
          "data": {
            "text/plain": [
              "0.8797126793911355"
            ]
          },
          "metadata": {},
          "execution_count": 8
        }
      ]
    },
    {
      "cell_type": "markdown",
      "metadata": {
        "id": "R-Apdo8Y8lvA"
      },
      "source": [
        "**TUNING USING RIDGE, LASSO AND ELASTIC NET AND COMPARING RESULTS**"
      ]
    },
    {
      "cell_type": "code",
      "metadata": {
        "colab": {
          "base_uri": "https://localhost:8080/"
        },
        "id": "CRpY-h5j8efo",
        "outputId": "316e5446-d9cf-431b-d5c2-385000ffb9b6"
      },
      "source": [
        "# RIDGE\n",
        "\n",
        "alpha = [0.001, 0.01, 0.1, 1, 10, 100, 1000]\n",
        "param_grid = dict(alpha=alpha)\n",
        "\n",
        "lr_grid_ridge = GridSearchCV(estimator=Ridge(),\n",
        "                       param_grid = param_grid,refit=True,n_jobs=-1,\n",
        "                       cv = 5, verbose=2, scoring='r2')\n",
        "\n",
        "grid_result_ridge = lr_grid_ridge.fit(X_train,y_train)\n",
        "optimal_lr_ridge = grid_result_ridge.best_estimator_\n",
        "\n",
        "y_train_pred_ridge = optimal_lr_ridge.predict(X_train)\n",
        "y_pred_ridge = optimal_lr_ridge.predict(X_test)\n",
        "\n",
        "r2_score(y_train,y_train_pred_ridge)"
      ],
      "execution_count": null,
      "outputs": [
        {
          "output_type": "stream",
          "name": "stdout",
          "text": [
            "Fitting 5 folds for each of 7 candidates, totalling 35 fits\n"
          ]
        },
        {
          "output_type": "execute_result",
          "data": {
            "text/plain": [
              "0.8707716184868399"
            ]
          },
          "metadata": {},
          "execution_count": 9
        }
      ]
    },
    {
      "cell_type": "code",
      "metadata": {
        "colab": {
          "base_uri": "https://localhost:8080/"
        },
        "id": "l7NSgC-H_v9U",
        "outputId": "80697caa-cba5-4baa-9ee2-3a23dfcbe245"
      },
      "source": [
        "r2_score(y_test,y_pred_ridge)"
      ],
      "execution_count": null,
      "outputs": [
        {
          "output_type": "execute_result",
          "data": {
            "text/plain": [
              "0.9073383414042346"
            ]
          },
          "metadata": {},
          "execution_count": 10
        }
      ]
    },
    {
      "cell_type": "code",
      "metadata": {
        "colab": {
          "base_uri": "https://localhost:8080/"
        },
        "id": "hRdelP7Y_5Fo",
        "outputId": "bc58a544-44fd-446e-bad7-2483f1205078"
      },
      "source": [
        "# LASSO\n",
        "\n",
        "alpha = [0.001, 0.01, 0.1, 1, 10, 100, 1000]\n",
        "param_grid = dict(alpha=alpha)\n",
        "\n",
        "lr_grid_lasso = GridSearchCV(estimator=Lasso(),\n",
        "                       param_grid = param_grid,refit=True,n_jobs=-1,\n",
        "                       cv = 5, verbose=2, scoring='r2')\n",
        "\n",
        "grid_result_lasso = lr_grid_lasso.fit(X_train,y_train)\n",
        "optimal_lr_lasso = grid_result_lasso.best_estimator_\n",
        "\n",
        "y_train_pred_lasso = optimal_lr_lasso.predict(X_train)\n",
        "y_pred_lasso = optimal_lr_ridge.predict(X_test)\n",
        "\n",
        "r2_score(y_train,y_train_pred_lasso)"
      ],
      "execution_count": null,
      "outputs": [
        {
          "output_type": "stream",
          "name": "stdout",
          "text": [
            "Fitting 5 folds for each of 7 candidates, totalling 35 fits\n"
          ]
        },
        {
          "output_type": "stream",
          "name": "stderr",
          "text": [
            "/usr/local/lib/python3.7/dist-packages/sklearn/linear_model/_coordinate_descent.py:648: ConvergenceWarning: Objective did not converge. You might want to increase the number of iterations, check the scale of the features or consider increasing regularisation. Duality gap: 5.876e+08, tolerance: 5.556e+05\n",
            "  coef_, l1_reg, l2_reg, X, y, max_iter, tol, rng, random, positive\n"
          ]
        },
        {
          "output_type": "execute_result",
          "data": {
            "text/plain": [
              "0.8697034870881846"
            ]
          },
          "metadata": {},
          "execution_count": 13
        }
      ]
    },
    {
      "cell_type": "code",
      "metadata": {
        "colab": {
          "base_uri": "https://localhost:8080/"
        },
        "id": "AnsSOpjCHyFI",
        "outputId": "97b9c7ed-4250-4490-9e37-f7a3b471599d"
      },
      "source": [
        "r2_score(y_test,y_pred_lasso)"
      ],
      "execution_count": null,
      "outputs": [
        {
          "output_type": "execute_result",
          "data": {
            "text/plain": [
              "0.9073383414042346"
            ]
          },
          "metadata": {},
          "execution_count": 14
        }
      ]
    },
    {
      "cell_type": "code",
      "metadata": {
        "colab": {
          "base_uri": "https://localhost:8080/"
        },
        "id": "-dXoqzMIH9Cn",
        "outputId": "530d6e56-e5ca-4653-d151-96bede5ff5e8"
      },
      "source": [
        "# ELASTIC NET\n",
        "\n",
        "alpha = [0.001, 0.01, 0.1, 1, 10, 100, 1000]\n",
        "l1_ratio = [0, 0.1, 0.2, 0.3, 0.4, 0.5, 0.6, 0.7, 0.8, 0.9, 1]\n",
        "param_grid = dict(alpha=alpha, l1_ratio=l1_ratio)\n",
        "\n",
        "lr_grid_elastic = GridSearchCV(estimator=ElasticNet(), param_grid = param_grid,refit=True,n_jobs=-1,\n",
        "                       cv = 5, verbose=2, scoring='r2')\n",
        "\n",
        "grid_result_elastic = lr_grid_elastic.fit(X_train,y_train)\n",
        "optimal_lr_elastic = grid_result_elastic.best_estimator_\n",
        "\n",
        "y_train_pred_elastic = optimal_lr_elastic.predict(X_train)\n",
        "y_pred_elastic = optimal_lr_elastic.predict(X_test)\n",
        "\n",
        "r2_score(y_train,y_train_pred_elastic)"
      ],
      "execution_count": null,
      "outputs": [
        {
          "output_type": "stream",
          "name": "stdout",
          "text": [
            "Fitting 5 folds for each of 77 candidates, totalling 385 fits\n"
          ]
        },
        {
          "output_type": "stream",
          "name": "stderr",
          "text": [
            "/usr/local/lib/python3.7/dist-packages/sklearn/linear_model/_coordinate_descent.py:648: ConvergenceWarning: Objective did not converge. You might want to increase the number of iterations, check the scale of the features or consider increasing regularisation. Duality gap: 5.551e+05, tolerance: 1.796e+05 Linear regression models with null weight for the l1 regularization term are more efficiently fitted using one of the solvers implemented in sklearn.linear_model.Ridge/RidgeCV instead.\n",
            "  coef_, l1_reg, l2_reg, X, y, max_iter, tol, rng, random, positive\n",
            "/usr/local/lib/python3.7/dist-packages/sklearn/linear_model/_coordinate_descent.py:648: ConvergenceWarning: Objective did not converge. You might want to increase the number of iterations, check the scale of the features or consider increasing regularisation. Duality gap: 7.204e+08, tolerance: 5.556e+05 Linear regression models with null weight for the l1 regularization term are more efficiently fitted using one of the solvers implemented in sklearn.linear_model.Ridge/RidgeCV instead.\n",
            "  coef_, l1_reg, l2_reg, X, y, max_iter, tol, rng, random, positive\n"
          ]
        },
        {
          "output_type": "execute_result",
          "data": {
            "text/plain": [
              "0.8704045747038409"
            ]
          },
          "metadata": {},
          "execution_count": 15
        }
      ]
    },
    {
      "cell_type": "code",
      "metadata": {
        "colab": {
          "base_uri": "https://localhost:8080/"
        },
        "id": "SG91w_o5LFlT",
        "outputId": "a29e1bef-d83c-417e-bfb4-8f3972eba2cd"
      },
      "source": [
        "r2_score(y_test,y_pred_elastic )"
      ],
      "execution_count": null,
      "outputs": [
        {
          "output_type": "execute_result",
          "data": {
            "text/plain": [
              "0.9074943417039087"
            ]
          },
          "metadata": {},
          "execution_count": 16
        }
      ]
    },
    {
      "cell_type": "markdown",
      "metadata": {
        "id": "ot-r8QZNM9Ig"
      },
      "source": [
        "# **RANDOM FOREST**"
      ]
    },
    {
      "cell_type": "code",
      "metadata": {
        "colab": {
          "base_uri": "https://localhost:8080/"
        },
        "id": "5s1up_48M3xM",
        "outputId": "1af04b01-5171-4390-dedf-1582007bb9e8"
      },
      "source": [
        "from sklearn.ensemble import RandomForestRegressor\n",
        "\n",
        "classifier = RandomForestRegressor() \n",
        "grid_values = {'n_estimators':[100, 110,  120], 'max_depth':[5, 6, 7]}\n",
        "classifier_grid = GridSearchCV(estimator=classifier, param_grid = grid_values, scoring = 'r2', cv=5)\n",
        "\n",
        "classifier_result = classifier_grid.fit(X_train, y_train)\n",
        "optimal_classifier = classifier_result.best_estimator_\n",
        "\n",
        "y_train_pred_forest = optimal_classifier.predict(X_train)\n",
        "y_pred_forest = optimal_classifier.predict(X_test)\n",
        "\n",
        "r2_score(y_train,y_train_pred_forest)"
      ],
      "execution_count": null,
      "outputs": [
        {
          "output_type": "execute_result",
          "data": {
            "text/plain": [
              "0.9684535614018831"
            ]
          },
          "metadata": {},
          "execution_count": 19
        }
      ]
    },
    {
      "cell_type": "code",
      "metadata": {
        "colab": {
          "base_uri": "https://localhost:8080/"
        },
        "id": "gZrF3E-DOfXd",
        "outputId": "e4452746-3e38-49ad-b1de-f9c37a87ef52"
      },
      "source": [
        "r2_score(y_test,y_pred_forest)"
      ],
      "execution_count": null,
      "outputs": [
        {
          "output_type": "execute_result",
          "data": {
            "text/plain": [
              "0.9046902784879797"
            ]
          },
          "metadata": {},
          "execution_count": 20
        }
      ]
    },
    {
      "cell_type": "code",
      "metadata": {
        "id": "XVWttXzjXsc3"
      },
      "source": [
        ""
      ],
      "execution_count": null,
      "outputs": []
    }
  ]
}